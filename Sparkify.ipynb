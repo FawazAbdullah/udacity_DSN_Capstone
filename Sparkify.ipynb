{
 "cells": [
  {
   "cell_type": "markdown",
   "metadata": {},
   "source": [
    "# Sparkify Project Workspace\n",
    "\n",
    "This project is the analysis of a dataset that contains user logs for a music streaming service called \"Sparkify\" (no need to search for it it does not exist). This is my submission to the capstone project of the Udacity data scientist nanodegree.\n",
    "\n",
    "## Overview <a id='overview'></a>\n",
    "Sparkify is a music streaming service just as Spotify and Pandora. \n",
    "\n",
    "The data provided is the user log of the service, having demographic info, user activities, timestamps and etc. We try to analyze the log and build a model to identify customers who are highly likely to quit using our service, and thus, send marketing offers to them to prevent them from churning. \n",
    "\n",
    "We use F1 score to measure of model performance because we need precision and recall at the same time as we don't want to miss too many customers who are likely to churn whilst we don't want to waste too much on those who are not likely to churn. \n",
    "\n",
    "We performed EDA to establish features, and train several machine learning classification models.\n",
    "\n",
    "The model we built and selected has a F1 score of 0.800, which is 16% higher than sending everybody offers. There is also a short article about this project posted here.\n",
    "\n",
    "The Sparkify music service looks to identify the population of users that churn (they can be users from the free service, or the paid service). Once the possible criteria for churn are better undestood, our objective is to build a model and predict the users churn so that some specific attention can be given to the users and try to retain them on the platform.\n",
    "\n",
    "We will be using a tiny subset (128MB) of the full dataset available (12GB). The provided dataset contains the logs of the user actions (pages seen by users along with other encoded properties such as location, time, operating system used, subscription level of the user for example).\n",
    "\n",
    "The notebook is separated in the following sections:\n",
    "- [Load and Clean Dataset](#Load-and-Clean-Dataset)\n",
    "- [Exploratory Data Analysis](#Exploratory-Data-Analysis)\n",
    "  - [Define Churn](#Define-Churn)\n",
    "  - [Explore Data](#Explore-Data)\n",
    "- [Feature Engineering](#Feature-Engineering)\n",
    "- [Modeling](#Modeling)\n",
    "- [Conclusion](#Conclusion)\n"
   ]
  },
  {
   "cell_type": "code",
   "execution_count": 1,
   "metadata": {},
   "outputs": [],
   "source": [
    "# import libraries\n",
    "from pyspark.sql import SparkSession\n",
    "from pyspark.sql.functions import udf, desc, sum as Fsum, avg, count, max as Fmax, min, col, last, regexp_extract\n",
    "from pyspark.sql.types import IntegerType\n",
    "from pyspark.sql import Window\n",
    "from pyspark.ml.feature import VectorAssembler, Normalizer\n",
    "from pyspark.ml.classification import LogisticRegression, GBTClassifier, RandomForestClassifier, MultilayerPerceptronClassifier\n",
    "from pyspark.ml.tuning import ParamGridBuilder, CrossValidator\n",
    "from pyspark.ml import Pipeline\n",
    "from pyspark.ml.evaluation import MulticlassClassificationEvaluator\n",
    "\n",
    "import numpy as np\n",
    "import matplotlib.pyplot as plt\n",
    "import seaborn as sns\n",
    "import pandas as pd\n",
    "import datetime\n",
    "\n",
    "%matplotlib inline"
   ]
  },
  {
   "cell_type": "code",
   "execution_count": 2,
   "metadata": {},
   "outputs": [],
   "source": [
    "# create a Spark session\n",
    "spark = SparkSession \\\n",
    "    .builder \\\n",
    "    .appName(\"Sparkify\") \\\n",
    "    .getOrCreate()"
   ]
  },
  {
   "cell_type": "markdown",
   "metadata": {},
   "source": [
    "# Load and Clean Dataset\n",
    "In this workspace, we will be loading either the mini-dataset file in `mini_sparkify_event_data.json`, or a larger dataset from the AWS S3 bucket. We have done the first pass using the small dataset, and before publishing the results, we have used the large dataset for actual data analysis. We will first load and clean the dataset, checking for invalid or missing data."
   ]
  },
  {
   "cell_type": "code",
   "execution_count": 3,
   "metadata": {},
   "outputs": [],
   "source": [
    "#choose the mini dataset from the local file\n",
    "event_data = \"mini_sparkify_event_data.json\""
   ]
  },
  {
   "cell_type": "code",
   "execution_count": 6,
   "metadata": {},
   "outputs": [
    {
     "name": "stdout",
     "output_type": "stream",
     "text": [
      "root\n",
      " |-- artist: string (nullable = true)\n",
      " |-- auth: string (nullable = true)\n",
      " |-- firstName: string (nullable = true)\n",
      " |-- gender: string (nullable = true)\n",
      " |-- itemInSession: long (nullable = true)\n",
      " |-- lastName: string (nullable = true)\n",
      " |-- length: double (nullable = true)\n",
      " |-- level: string (nullable = true)\n",
      " |-- location: string (nullable = true)\n",
      " |-- method: string (nullable = true)\n",
      " |-- page: string (nullable = true)\n",
      " |-- registration: long (nullable = true)\n",
      " |-- sessionId: long (nullable = true)\n",
      " |-- song: string (nullable = true)\n",
      " |-- status: long (nullable = true)\n",
      " |-- ts: long (nullable = true)\n",
      " |-- userAgent: string (nullable = true)\n",
      " |-- userId: string (nullable = true)\n",
      "\n"
     ]
    }
   ],
   "source": [
    "# load the data into spark\n",
    "df = spark.read.json(event_data)\n",
    "df.persist()\n",
    "df.head()\n",
    "df.printSchema()"
   ]
  },
  {
   "cell_type": "code",
   "execution_count": 7,
   "metadata": {},
   "outputs": [
    {
     "name": "stdout",
     "output_type": "stream",
     "text": [
      "0\n"
     ]
    }
   ],
   "source": [
    "# print the number of rows in the data\n",
    "count1 = df.count()\n",
    "\n",
    "# remove records with a missing userId or sessionId\n",
    "df = df.dropna(how=\"any\", subset=[\"userId\", \"sessionId\"])\n",
    "\n",
    "# print the count of remaining rows\n",
    "count2 = count1 - df.count()\n",
    "\n",
    "print(count2)"
   ]
  },
  {
   "cell_type": "markdown",
   "metadata": {},
   "source": [
    "No rows were removed, which means there were no \"nan\" values in the userId or sessionId fields"
   ]
  },
  {
   "cell_type": "code",
   "execution_count": 8,
   "metadata": {
    "scrolled": true
   },
   "outputs": [
    {
     "name": "stdout",
     "output_type": "stream",
     "text": [
      "+------+-----+\n",
      "|userId|count|\n",
      "+------+-----+\n",
      "|      | 8346|\n",
      "|    10|  795|\n",
      "|   100| 3214|\n",
      "|100001|  187|\n",
      "|100002|  218|\n",
      "|100003|   78|\n",
      "|100004| 1245|\n",
      "|100005|  216|\n",
      "|100006|   44|\n",
      "|100007|  520|\n",
      "|100008|  940|\n",
      "|100009|  671|\n",
      "|100010|  381|\n",
      "|100011|   23|\n",
      "|100012|  600|\n",
      "|100013| 1392|\n",
      "|100014|  310|\n",
      "|100015| 1050|\n",
      "|100016|  638|\n",
      "|100017|   75|\n",
      "+------+-----+\n",
      "only showing top 20 rows\n",
      "\n"
     ]
    }
   ],
   "source": [
    "# identify records with invalid value of userId\n",
    "df.groupBy(\"userId\").count().orderBy(\"userId\").show()"
   ]
  },
  {
   "cell_type": "code",
   "execution_count": 9,
   "metadata": {},
   "outputs": [
    {
     "name": "stdout",
     "output_type": "stream",
     "text": [
      "+-------+------------------+\n",
      "|summary|            artist|\n",
      "+-------+------------------+\n",
      "|  count|            228108|\n",
      "|   mean| 551.0852017937219|\n",
      "| stddev|1217.7693079161374|\n",
      "|    min|               !!!|\n",
      "|    max| ÃÂlafur Arnalds|\n",
      "+-------+------------------+\n",
      "\n",
      "+-------+----------+\n",
      "|summary|      auth|\n",
      "+-------+----------+\n",
      "|  count|    286500|\n",
      "|   mean|      null|\n",
      "| stddev|      null|\n",
      "|    min| Cancelled|\n",
      "|    max|Logged Out|\n",
      "+-------+----------+\n",
      "\n",
      "+-------+---------+\n",
      "|summary|firstName|\n",
      "+-------+---------+\n",
      "|  count|   278154|\n",
      "|   mean|     null|\n",
      "| stddev|     null|\n",
      "|    min| Adelaida|\n",
      "|    max|   Zyonna|\n",
      "+-------+---------+\n",
      "\n",
      "+-------+------+\n",
      "|summary|gender|\n",
      "+-------+------+\n",
      "|  count|278154|\n",
      "|   mean|  null|\n",
      "| stddev|  null|\n",
      "|    min|     F|\n",
      "|    max|     M|\n",
      "+-------+------+\n",
      "\n",
      "+-------+------------------+\n",
      "|summary|     itemInSession|\n",
      "+-------+------------------+\n",
      "|  count|            286500|\n",
      "|   mean|114.41421291448516|\n",
      "| stddev|129.76726201141085|\n",
      "|    min|                 0|\n",
      "|    max|              1321|\n",
      "+-------+------------------+\n",
      "\n",
      "+-------+--------+\n",
      "|summary|lastName|\n",
      "+-------+--------+\n",
      "|  count|  278154|\n",
      "|   mean|    null|\n",
      "| stddev|    null|\n",
      "|    min|   Adams|\n",
      "|    max|  Wright|\n",
      "+-------+--------+\n",
      "\n",
      "+-------+------------------+\n",
      "|summary|            length|\n",
      "+-------+------------------+\n",
      "|  count|            228108|\n",
      "|   mean|249.11718197783722|\n",
      "| stddev| 99.23517921058324|\n",
      "|    min|           0.78322|\n",
      "|    max|        3024.66567|\n",
      "+-------+------------------+\n",
      "\n",
      "+-------+------+\n",
      "|summary| level|\n",
      "+-------+------+\n",
      "|  count|286500|\n",
      "|   mean|  null|\n",
      "| stddev|  null|\n",
      "|    min|  free|\n",
      "|    max|  paid|\n",
      "+-------+------+\n",
      "\n",
      "+-------+-----------------+\n",
      "|summary|         location|\n",
      "+-------+-----------------+\n",
      "|  count|           278154|\n",
      "|   mean|             null|\n",
      "| stddev|             null|\n",
      "|    min|       Albany, OR|\n",
      "|    max|Winston-Salem, NC|\n",
      "+-------+-----------------+\n",
      "\n",
      "+-------+------+\n",
      "|summary|method|\n",
      "+-------+------+\n",
      "|  count|286500|\n",
      "|   mean|  null|\n",
      "| stddev|  null|\n",
      "|    min|   GET|\n",
      "|    max|   PUT|\n",
      "+-------+------+\n",
      "\n",
      "+-------+-------+\n",
      "|summary|   page|\n",
      "+-------+-------+\n",
      "|  count| 286500|\n",
      "|   mean|   null|\n",
      "| stddev|   null|\n",
      "|    min|  About|\n",
      "|    max|Upgrade|\n",
      "+-------+-------+\n",
      "\n",
      "+-------+--------------------+\n",
      "|summary|        registration|\n",
      "+-------+--------------------+\n",
      "|  count|              278154|\n",
      "|   mean|1.535358834085557E12|\n",
      "| stddev| 3.291321616328068E9|\n",
      "|    min|       1521380675000|\n",
      "|    max|       1543247354000|\n",
      "+-------+--------------------+\n",
      "\n",
      "+-------+-----------------+\n",
      "|summary|        sessionId|\n",
      "+-------+-----------------+\n",
      "|  count|           286500|\n",
      "|   mean|1041.526554973822|\n",
      "| stddev|726.7762634630834|\n",
      "|    min|                1|\n",
      "|    max|             2474|\n",
      "+-------+-----------------+\n",
      "\n",
      "+-------+--------------------+\n",
      "|summary|                song|\n",
      "+-------+--------------------+\n",
      "|  count|              228108|\n",
      "|   mean|            Infinity|\n",
      "| stddev|                 NaN|\n",
      "|    min|\u001c",
      "ÃÂg ÃÂtti Gr...|\n",
      "|    max|ÃÂau hafa slopp...|\n",
      "+-------+--------------------+\n",
      "\n",
      "+-------+------------------+\n",
      "|summary|            status|\n",
      "+-------+------------------+\n",
      "|  count|            286500|\n",
      "|   mean|210.05459685863875|\n",
      "| stddev| 31.50507848842202|\n",
      "|    min|               200|\n",
      "|    max|               404|\n",
      "+-------+------------------+\n",
      "\n",
      "+-------+--------------------+\n",
      "|summary|                  ts|\n",
      "+-------+--------------------+\n",
      "|  count|              286500|\n",
      "|   mean|1.540956889810471...|\n",
      "| stddev|1.5075439608187113E9|\n",
      "|    min|       1538352117000|\n",
      "|    max|       1543799476000|\n",
      "+-------+--------------------+\n",
      "\n",
      "+-------+--------------------+\n",
      "|summary|           userAgent|\n",
      "+-------+--------------------+\n",
      "|  count|              278154|\n",
      "|   mean|                null|\n",
      "| stddev|                null|\n",
      "|    min|\"Mozilla/5.0 (Mac...|\n",
      "|    max|Mozilla/5.0 (comp...|\n",
      "+-------+--------------------+\n",
      "\n",
      "+-------+------------------+\n",
      "|summary|            userId|\n",
      "+-------+------------------+\n",
      "|  count|            286500|\n",
      "|   mean| 59682.02278593872|\n",
      "| stddev|109091.94999910519|\n",
      "|    min|                  |\n",
      "|    max|                99|\n",
      "+-------+------------------+\n",
      "\n"
     ]
    }
   ],
   "source": [
    "# get an overview of all columns, use a for loop so the display of each column is in its own \"table\", which makes it more readable than\n",
    "# the default \"wide\" view of df.describe()\n",
    "for c in df.columns:\n",
    "    df.describe(c).show()"
   ]
  },
  {
   "cell_type": "code",
   "execution_count": 10,
   "metadata": {},
   "outputs": [
    {
     "name": "stdout",
     "output_type": "stream",
     "text": [
      "8346\n"
     ]
    }
   ],
   "source": [
    "# remove the rows with an empty userId. This will exclude all logged out users from the remainder of the analysis\n",
    "df = df.filter(df[\"userId\"]!=\"\")\n",
    "\n",
    "# print the count of remaining rows\n",
    "count3 = count1 - df.count()\n",
    "\n",
    "print(count3)"
   ]
  },
  {
   "cell_type": "code",
   "execution_count": 11,
   "metadata": {},
   "outputs": [
    {
     "name": "stdout",
     "output_type": "stream",
     "text": [
      "+---------+-----+\n",
      "|sessionId|count|\n",
      "+---------+-----+\n",
      "|        1|  680|\n",
      "|        2|    7|\n",
      "|        3|   37|\n",
      "|        4|   24|\n",
      "|        5|   57|\n",
      "|        6|   68|\n",
      "|        7|    1|\n",
      "|        8|   45|\n",
      "|        9|  190|\n",
      "|       10|  165|\n",
      "|       11|   46|\n",
      "|       12|   59|\n",
      "|       13|  119|\n",
      "|       15|  213|\n",
      "|       16|   39|\n",
      "|       17|  169|\n",
      "|       18|   27|\n",
      "|       19|  151|\n",
      "|       20|   29|\n",
      "|       21|  127|\n",
      "+---------+-----+\n",
      "only showing top 20 rows\n",
      "\n"
     ]
    }
   ],
   "source": [
    "# show records with invalud value of sessionId\n",
    "df.groupBy(\"sessionId\").count().orderBy(\"sessionId\").show()"
   ]
  },
  {
   "cell_type": "markdown",
   "metadata": {},
   "source": [
    "There are apparently no invalid values in the sessionId column"
   ]
  },
  {
   "cell_type": "markdown",
   "metadata": {},
   "source": [
    "# Exploratory Data Analysis\n",
    "In the following section we will explore the data to get a feeling of how it is structured, and understand the specific information that could help us identify when a user would churn or not."
   ]
  },
  {
   "cell_type": "code",
   "execution_count": 12,
   "metadata": {},
   "outputs": [
    {
     "name": "stdout",
     "output_type": "stream",
     "text": [
      "+--------------------+\n",
      "|                page|\n",
      "+--------------------+\n",
      "|               About|\n",
      "|          Add Friend|\n",
      "|     Add to Playlist|\n",
      "|              Cancel|\n",
      "|Cancellation Conf...|\n",
      "|           Downgrade|\n",
      "|               Error|\n",
      "|                Help|\n",
      "|                Home|\n",
      "|              Logout|\n",
      "|            NextSong|\n",
      "|         Roll Advert|\n",
      "|       Save Settings|\n",
      "|            Settings|\n",
      "|    Submit Downgrade|\n",
      "|      Submit Upgrade|\n",
      "|         Thumbs Down|\n",
      "|           Thumbs Up|\n",
      "|             Upgrade|\n",
      "+--------------------+\n",
      "\n"
     ]
    }
   ],
   "source": [
    "# display the possible pages used in the dataset\n",
    "df.select(\"page\").dropDuplicates().sort(\"page\").show(30)"
   ]
  },
  {
   "cell_type": "code",
   "execution_count": 13,
   "metadata": {},
   "outputs": [
    {
     "name": "stdout",
     "output_type": "stream",
     "text": [
      "+---------+\n",
      "|     auth|\n",
      "+---------+\n",
      "|Cancelled|\n",
      "|Logged In|\n",
      "+---------+\n",
      "\n",
      "+-----+\n",
      "|level|\n",
      "+-----+\n",
      "| free|\n",
      "| paid|\n",
      "+-----+\n",
      "\n"
     ]
    }
   ],
   "source": [
    "# display the possible auth values used in the dataset\n",
    "df.select(\"auth\").dropDuplicates().sort(\"auth\").show()\n",
    "\n",
    "# display the possible levels used in the dataset\n",
    "df.select(\"level\").dropDuplicates().sort(\"level\").show()"
   ]
  },
  {
   "cell_type": "code",
   "execution_count": 14,
   "metadata": {},
   "outputs": [
    {
     "name": "stdout",
     "output_type": "stream",
     "text": [
      "+--------+\n",
      "|platform|\n",
      "+--------+\n",
      "|   Linux|\n",
      "|   Apple|\n",
      "| Windows|\n",
      "+--------+\n",
      "\n"
     ]
    }
   ],
   "source": [
    "# display the possible values for the platform, extracted from user agent field\n",
    "# prepare a regex extraction function\n",
    "re = regexp_extract(\"userAgent\", r'[^(]*\\(([^ ;]*)', 1).alias(\"platform\")\n",
    "\n",
    "# replace the common platforms with an aggregated dataset to identify the technology \"world\" the user lives in\n",
    "df.select(re).replace([\"iPad\",\"iPhone\",\"Macintosh\",\"X11\",\"Windows\",\"compatible\"],\n",
    "                      [\"Apple\",\"Apple\",\"Apple\",\"Linux\",\"Windows\",\"Windows\"], \"platform\").dropDuplicates().show()"
   ]
  },
  {
   "cell_type": "code",
   "execution_count": 15,
   "metadata": {},
   "outputs": [
    {
     "name": "stdout",
     "output_type": "stream",
     "text": [
      "+--------------------+------+------+\n",
      "|                page|method| count|\n",
      "+--------------------+------+------+\n",
      "|               About|   GET|   495|\n",
      "|          Add Friend|   PUT|  4277|\n",
      "|     Add to Playlist|   PUT|  6526|\n",
      "|              Cancel|   PUT|    52|\n",
      "|Cancellation Conf...|   GET|    52|\n",
      "|           Downgrade|   GET|  2055|\n",
      "|               Error|   GET|   252|\n",
      "|                Help|   GET|  1454|\n",
      "|                Home|   GET| 10082|\n",
      "|              Logout|   PUT|  3226|\n",
      "|            NextSong|   PUT|228108|\n",
      "|         Roll Advert|   GET|  3933|\n",
      "|       Save Settings|   PUT|   310|\n",
      "|            Settings|   GET|  1514|\n",
      "|    Submit Downgrade|   PUT|    63|\n",
      "|      Submit Upgrade|   PUT|   159|\n",
      "|         Thumbs Down|   PUT|  2546|\n",
      "|           Thumbs Up|   PUT| 12551|\n",
      "|             Upgrade|   GET|   499|\n",
      "+--------------------+------+------+\n",
      "\n"
     ]
    }
   ],
   "source": [
    "# identify the pages associated with a given HTTP method\n",
    "df.groupBy([\"page\",\"method\"]).count().orderBy(\"page\").show(30)"
   ]
  },
  {
   "cell_type": "markdown",
   "metadata": {},
   "source": [
    "Every page is associated only with a defined method. Therefore the method column does not provide additional information on the usage of the site by users, it is only a technical object that is linked to the way the page is implemented."
   ]
  },
  {
   "cell_type": "code",
   "execution_count": 16,
   "metadata": {},
   "outputs": [
    {
     "name": "stdout",
     "output_type": "stream",
     "text": [
      "225\n",
      "225\n",
      "225\n"
     ]
    }
   ],
   "source": [
    "# show the number of unique users\n",
    "print(df.select(\"userId\").dropDuplicates().count())\n",
    "\n",
    "# show the number of unique registrations\n",
    "print(df.select(\"registration\").dropDuplicates().count())\n",
    "\n",
    "# identify if there is a 1:1 match between userId and registration\n",
    "print(df.select([\"userId\",\"registration\"]).dropDuplicates().count())"
   ]
  },
  {
   "cell_type": "markdown",
   "metadata": {},
   "source": [
    "The fact that the following values are equal mean there is a 1:1 relationship between userId and registration:\n",
    "- individual count of distinct userId values\n",
    "- individual count of distinct registration values\n",
    "- count of pairs made up with registration and userId values\n",
    "\n",
    "Registration also seems to be only a technical identifier that does not provide additional information on top of the userId field"
   ]
  },
  {
   "cell_type": "code",
   "execution_count": 17,
   "metadata": {},
   "outputs": [
    {
     "name": "stdout",
     "output_type": "stream",
     "text": [
      "+------+---------+-----+\n",
      "|userId|sessionId|count|\n",
      "+------+---------+-----+\n",
      "|    10|        9|   70|\n",
      "|    10|      595|  449|\n",
      "|    10|     1047|   25|\n",
      "|    10|     1414|   78|\n",
      "|    10|     1592|   78|\n",
      "|    10|     1981|   95|\n",
      "|   100|      256|  177|\n",
      "|   100|      369|  108|\n",
      "|   100|      435|   17|\n",
      "|   100|      556|  287|\n",
      "|   100|      683|   32|\n",
      "|   100|      707|  220|\n",
      "|   100|      991|   20|\n",
      "|   100|     1049|   82|\n",
      "|   100|     1185|  170|\n",
      "|   100|     1210|   80|\n",
      "|   100|     1231|   18|\n",
      "|   100|     1269|    5|\n",
      "|   100|     1279|   31|\n",
      "|   100|     1299|   96|\n",
      "+------+---------+-----+\n",
      "only showing top 20 rows\n",
      "\n"
     ]
    }
   ],
   "source": [
    "# explore sessionId field\n",
    "df.groupBy([\"userId\",\"sessionId\"]).count().orderBy([\"userId\",\"sessionId\"]).show()"
   ]
  },
  {
   "cell_type": "markdown",
   "metadata": {},
   "source": [
    "As we could expect, each user is having multiple sessions, with a variable number of actions during each session"
   ]
  },
  {
   "cell_type": "code",
   "execution_count": 18,
   "metadata": {},
   "outputs": [
    {
     "name": "stdout",
     "output_type": "stream",
     "text": [
      "+------+\n",
      "|status|\n",
      "+------+\n",
      "|   200|\n",
      "|   307|\n",
      "|   404|\n",
      "+------+\n",
      "\n"
     ]
    }
   ],
   "source": [
    "# display the possible pages status used in the dataset\n",
    "df.select(\"status\").dropDuplicates().sort(\"status\").show()"
   ]
  },
  {
   "cell_type": "markdown",
   "metadata": {},
   "source": [
    "HTTP statuses reference is available on https://httpstatuses.com/\n",
    "\n",
    "Specifically for the ones available in the above table:\n",
    "- https://httpstatuses.com/200 - page ok\n",
    "- https://httpstatuses.com/307 - temporary redirect\n",
    "- https://httpstatuses.com/404 - page not found"
   ]
  },
  {
   "cell_type": "code",
   "execution_count": 19,
   "metadata": {},
   "outputs": [
    {
     "name": "stdout",
     "output_type": "stream",
     "text": [
      "+---------+----------------+-----+\n",
      "|     auth|            page|count|\n",
      "+---------+----------------+-----+\n",
      "|Logged In|          Logout| 3226|\n",
      "|Logged In|   Save Settings|  310|\n",
      "|Logged In|      Add Friend| 4277|\n",
      "|Logged In|          Cancel|   52|\n",
      "|Logged In|       Thumbs Up|12551|\n",
      "|Logged In|     Thumbs Down| 2546|\n",
      "|Logged In|  Submit Upgrade|  159|\n",
      "|Logged In|Submit Downgrade|   63|\n",
      "+---------+----------------+-----+\n",
      "\n",
      "+---------+-----+-----+\n",
      "|     auth| page|count|\n",
      "+---------+-----+-----+\n",
      "|Logged In|Error|  252|\n",
      "+---------+-----+-----+\n",
      "\n",
      "+------+---------+---------+------+-------------+--------+------+-----+--------------------+------+-----+-------------+---------+----+------+-------------+--------------------+------+\n",
      "|artist|     auth|firstName|gender|itemInSession|lastName|length|level|            location|method| page| registration|sessionId|song|status|           ts|           userAgent|userId|\n",
      "+------+---------+---------+------+-------------+--------+------+-----+--------------------+------+-----+-------------+---------+----+------+-------------+--------------------+------+\n",
      "|  null|Logged In|     Kael|     M|           48|   Baker|  null| paid|Kingsport-Bristol...|   GET|Error|1533102330000|      249|null|   404|1538393848000|\"Mozilla/5.0 (Mac...|   131|\n",
      "|  null|Logged In|   Lucero|     F|           10|    Reed|  null| free|Louisville/Jeffer...|   GET|Error|1536642109000|      139|null|   404|1538407927000|\"Mozilla/5.0 (Win...|   140|\n",
      "|  null|Logged In|Sebastian|     M|           38|    Wang|  null| free|         Jackson, MS|   GET|Error|1538050164000|       52|null|   404|1538425401000|\"Mozilla/5.0 (Mac...|    53|\n",
      "|  null|Logged In|    Micah|     M|           38|    Long|  null| free|Boston-Cambridge-...|   GET|Error|1538331630000|      262|null|   404|1538489751000|\"Mozilla/5.0 (Win...|     9|\n",
      "|  null|Logged In|   Payton|     F|           19|Campbell|  null| free|Los Angeles-Long ...|   GET|Error|1529027541000|      354|null|   404|1538515176000|\"Mozilla/5.0 (Win...|    39|\n",
      "+------+---------+---------+------+-------------+--------+------+-----+--------------------+------+-----+-------------+---------+----+------+-------------+--------------------+------+\n",
      "only showing top 5 rows\n",
      "\n"
     ]
    }
   ],
   "source": [
    "# Show the pages with a redirect\n",
    "df.filter(df[\"status\"]==\"307\").groupBy([\"auth\",\"page\"]).count().orderBy(\"auth\").show()\n",
    "\n",
    "# Show the pages with an Error\n",
    "df.filter(df[\"status\"]==\"404\").groupBy([\"auth\",\"page\"]).count().orderBy(\"auth\").show()\n",
    "\n",
    "# example of a user with error in the activities\n",
    "df.filter(df[\"status\"]==\"404\").show(5)"
   ]
  },
  {
   "cell_type": "code",
   "execution_count": 20,
   "metadata": {},
   "outputs": [
    {
     "name": "stdout",
     "output_type": "stream",
     "text": [
      "+------+---------+---------+---------+-----------+------+-----+--------------------+\n",
      "|userId|firstname|sessionId|     auth|       page|status|level|                song|\n",
      "+------+---------+---------+---------+-----------+------+-----+--------------------+\n",
      "|    17|    Kayla|      250|Logged In|       Home|   200| free|                null|\n",
      "|    17|    Kayla|      250|Logged In|   NextSong|   200| free|      Pork And Beans|\n",
      "|    17|    Kayla|      250|Logged In|   NextSong|   200| free|Pursuit Of Happin...|\n",
      "|    17|    Kayla|      250|Logged In|   NextSong|   200| free|     God Isn't Dead?|\n",
      "|    17|    Kayla|      250|Logged In|   NextSong|   200| free|        By My Spirit|\n",
      "|    17|    Kayla|      250|Logged In|   NextSong|   200| free|Best Imitation Of...|\n",
      "|    17|    Kayla|      250|Logged In|   NextSong|   200| free|Language Lessons ...|\n",
      "|    17|    Kayla|      250|Logged In|Roll Advert|   200| free|                null|\n",
      "|    17|    Kayla|      250|Logged In|   NextSong|   200| free|Tavallaan jokaine...|\n",
      "|    17|    Kayla|      250|Logged In|   NextSong|   200| free|   Alive (nightmare)|\n",
      "|    17|    Kayla|      250|Logged In|Roll Advert|   200| free|                null|\n",
      "|    17|    Kayla|      250|Logged In|   NextSong|   200| free|Supermassive Blac...|\n",
      "|    17|    Kayla|      250|Logged In|    Upgrade|   200| free|                null|\n",
      "|    17|    Kayla|      250|Logged In|    Upgrade|   200| free|                null|\n",
      "|    17|    Kayla|      250|Logged In| Add Friend|   307| free|                null|\n",
      "|    17|    Kayla|      250|Logged In|   NextSong|   200| free|             Secrets|\n",
      "|    17|    Kayla|      250|Logged In|   NextSong|   200| free| DJ Play A Love Song|\n",
      "|    17|    Kayla|      250|Logged In|   NextSong|   200| free|           Mason Jar|\n",
      "|    17|    Kayla|      250|Logged In|Roll Advert|   200| free|                null|\n",
      "|    17|    Kayla|      250|Logged In|   NextSong|   200| free|I Was Made For Lo...|\n",
      "+------+---------+---------+---------+-----------+------+-----+--------------------+\n",
      "only showing top 20 rows\n",
      "\n"
     ]
    }
   ],
   "source": [
    "df.select([\"userId\", \"firstname\", \"sessionId\", \"auth\", \"page\", \"status\", \"level\", \"song\"]).where(df.userId == \"17\").show()"
   ]
  },
  {
   "cell_type": "code",
   "execution_count": 21,
   "metadata": {},
   "outputs": [
    {
     "name": "stdout",
     "output_type": "stream",
     "text": [
      "+------+-----+---------+-----+\n",
      "|userId|level|     auth|count|\n",
      "+------+-----+---------+-----+\n",
      "|     2| paid|Logged In|  899|\n",
      "|     3| paid|Cancelled|    1|\n",
      "|     3| paid|Logged In|  253|\n",
      "|     4| free|Logged In|  141|\n",
      "|     4| paid|Logged In| 2301|\n",
      "|     5| free|Logged In|  218|\n",
      "|     6| free|Logged In|   84|\n",
      "|     6| paid|Logged In| 3677|\n",
      "|     7| free|Logged In|  201|\n",
      "|     8| free|Logged In|  334|\n",
      "|     9| paid|Logged In| 2934|\n",
      "|     9| free|Logged In|  257|\n",
      "|    10| paid|Logged In|  795|\n",
      "|    11| paid|Logged In|  229|\n",
      "|    11| free|Logged In|  619|\n",
      "|    12| paid|Cancelled|    1|\n",
      "|    12| free|Logged In|  442|\n",
      "|    12| paid|Logged In|  621|\n",
      "|    13| paid|Logged In|  452|\n",
      "|    13| free|Logged In| 1202|\n",
      "+------+-----+---------+-----+\n",
      "only showing top 20 rows\n",
      "\n"
     ]
    }
   ],
   "source": [
    "# show users who have changes status during the period captured in the dataset\n",
    "df.withColumn(\"userId\", df[\"userId\"].cast(IntegerType())).groupBy([\"userId\",\"level\",\"auth\"]).count().orderBy(\"userId\").show()"
   ]
  },
  {
   "cell_type": "markdown",
   "metadata": {},
   "source": [
    "## Define Churn\n",
    "\n",
    "After this preliminary analysis, we will create a column `churn` to use as the label for the model. We will be using the `Cancellation Confirmation` events to define churn, which happen for both paid and free users."
   ]
  },
  {
   "cell_type": "code",
   "execution_count": 22,
   "metadata": {},
   "outputs": [
    {
     "data": {
      "text/plain": [
       "Row(artist=None, auth='Cancelled', firstName='Mason', gender='M', itemInSession=10, lastName='Hart', length=None, level='free', location='Corpus Christi, TX', method='GET', page='Cancellation Confirmation', registration=1533157139000, sessionId=174, song=None, status=200, ts=1539318918000, userAgent='\"Mozilla/5.0 (Macintosh; Intel Mac OS X 10_9_4) AppleWebKit/537.36 (KHTML, like Gecko) Chrome/36.0.1985.125 Safari/537.36\"', userId='125', churn=1)"
      ]
     },
     "execution_count": 22,
     "metadata": {},
     "output_type": "execute_result"
    }
   ],
   "source": [
    "# Add the Churn column\n",
    "flag_cancel_event = udf(lambda x: 1 if x == \"Cancellation Confirmation\" else 0, IntegerType())\n",
    "df = df.withColumn(\"churn\", flag_cancel_event(\"page\"))\n",
    "\n",
    "# repeat the churn flag for all rows of the users who churned\n",
    "windowval = Window.partitionBy(\"userId\").orderBy(desc(\"ts\")).rangeBetween(Window.unboundedPreceding, 0)\n",
    "df = df.withColumn(\"churn\", Fsum(\"churn\").over(windowval))\n",
    "\n",
    "# find an example of Cancellation record\n",
    "df.filter(\"page = 'Cancellation Confirmation'\").head()"
   ]
  },
  {
   "cell_type": "markdown",
   "metadata": {},
   "source": [
    "## Explore Data\n",
    "We will now perform some exploratory data analysis to observe the behavior for users who stayed vs users who churned. We will be exploring aggregates on these two groups of users"
   ]
  },
  {
   "cell_type": "code",
   "execution_count": 23,
   "metadata": {},
   "outputs": [
    {
     "data": {
      "text/plain": [
       "[Row(userId='18', sessionId=514, ts=1538943990000, page='Cancellation Confirmation', level='paid', churn=1),\n",
       " Row(userId='18', sessionId=514, ts=1538943740000, page='Cancel', level='paid', churn=1),\n",
       " Row(userId='18', sessionId=514, ts=1538943739000, page='Downgrade', level='paid', churn=1),\n",
       " Row(userId='18', sessionId=514, ts=1538943726000, page='NextSong', level='paid', churn=1),\n",
       " Row(userId='18', sessionId=514, ts=1538943440000, page='NextSong', level='paid', churn=1),\n",
       " Row(userId='18', sessionId=514, ts=1538943117000, page='NextSong', level='paid', churn=1),\n",
       " Row(userId='18', sessionId=514, ts=1538942837000, page='NextSong', level='paid', churn=1),\n",
       " Row(userId='18', sessionId=514, ts=1538942663000, page='NextSong', level='paid', churn=1),\n",
       " Row(userId='18', sessionId=514, ts=1538942425000, page='NextSong', level='paid', churn=1),\n",
       " Row(userId='18', sessionId=514, ts=1538942030000, page='NextSong', level='paid', churn=1),\n",
       " Row(userId='18', sessionId=514, ts=1538941694000, page='NextSong', level='paid', churn=1),\n",
       " Row(userId='18', sessionId=514, ts=1538941482000, page='NextSong', level='paid', churn=1),\n",
       " Row(userId='18', sessionId=514, ts=1538941297000, page='NextSong', level='paid', churn=1),\n",
       " Row(userId='18', sessionId=514, ts=1538941085000, page='NextSong', level='paid', churn=1),\n",
       " Row(userId='18', sessionId=514, ts=1538940816000, page='NextSong', level='paid', churn=1),\n",
       " Row(userId='18', sessionId=514, ts=1538940518000, page='NextSong', level='paid', churn=1),\n",
       " Row(userId='18', sessionId=514, ts=1538940279000, page='NextSong', level='paid', churn=1),\n",
       " Row(userId='18', sessionId=514, ts=1538940231000, page='NextSong', level='paid', churn=1),\n",
       " Row(userId='18', sessionId=514, ts=1538939978000, page='NextSong', level='paid', churn=1),\n",
       " Row(userId='18', sessionId=514, ts=1538939856000, page='NextSong', level='paid', churn=1)]"
      ]
     },
     "execution_count": 23,
     "metadata": {},
     "output_type": "execute_result"
    }
   ],
   "source": [
    "# show an example of a user journey to Cancellation, this will be displayed with most recent record (\"cancellation\") on top\n",
    "df.select([\"userId\", \"sessionId\", \"ts\", \"page\", \"level\", \"churn\"]) \\\n",
    "    .where(df.userId==\"18\") \\\n",
    "    .where(df.sessionId==\"514\") \\\n",
    "    .sort(\"ts\", ascending=False) \\\n",
    "    .head(20)"
   ]
  },
  {
   "cell_type": "code",
   "execution_count": 24,
   "metadata": {},
   "outputs": [
    {
     "name": "stdout",
     "output_type": "stream",
     "text": [
      "+-----+-----+\n",
      "|churn|count|\n",
      "+-----+-----+\n",
      "|    0|  173|\n",
      "|    1|   52|\n",
      "+-----+-----+\n",
      "\n"
     ]
    },
    {
     "data": {
      "image/png": "[encoded data removed]",
      "text/plain": [
       "<Figure size 504x504 with 1 Axes>"
      ]
     },
     "metadata": {},
     "output_type": "display_data"
    }
   ],
   "source": [
    "# count how many users churn vs the others\n",
    "churn = df.select([\"userId\", \"churn\"]).dropDuplicates().groupBy(\"churn\").count()\n",
    "\n",
    "churn.show()\n",
    "\n",
    "# plot the ratio of users who churn vs. others\n",
    "pd_df = churn.toPandas()\n",
    "fig=plt.figure(figsize=(7,7))\n",
    "plt.pie(x=pd_df[\"count\"], labels=[\"not churn\",\"churn\"]);"
   ]
  },
  {
   "cell_type": "markdown",
   "metadata": {},
   "source": [
    "A little less than a quarter of the users perform churn"
   ]
  },
  {
   "cell_type": "code",
   "execution_count": 25,
   "metadata": {},
   "outputs": [
    {
     "name": "stdout",
     "output_type": "stream",
     "text": [
      "+-----+------+-----+-------------------+\n",
      "|churn|gender|count|            percent|\n",
      "+-----+------+-----+-------------------+\n",
      "|    0|     F|   84|0.48554913294797686|\n",
      "|    0|     M|   89| 0.5144508670520231|\n",
      "|    1|     F|   20|0.38461538461538464|\n",
      "|    1|     M|   32| 0.6153846153846154|\n",
      "+-----+------+-----+-------------------+\n",
      "\n"
     ]
    },
    {
     "data": {
      "image/png": "[encoded data removed]",
      "text/plain": [
       "<Figure size 576x432 with 1 Axes>"
      ]
     },
     "metadata": {
      "needs_background": "light"
     },
     "output_type": "display_data"
    }
   ],
   "source": [
    "# compare the gender of the users who churn vs. users who do not churn\n",
    "gender = df.select([\"userId\", \"gender\", \"churn\"]).dropDuplicates() \\\n",
    "    .groupBy(\"churn\", \"gender\").count() \\\n",
    "    .withColumn(\"percent\", col(\"count\")/Fsum(\"count\").over(Window.partitionBy(\"churn\"))) \\\n",
    "    .orderBy([\"churn\", \"gender\"])\n",
    "\n",
    "gender.show()\n",
    "\n",
    "# plot the churn by gender information\n",
    "pd_df = gender.toPandas()\n",
    "\n",
    "pd_df = pd_df.pivot(index='churn', columns='gender', values='percent');\n",
    "pd_df.plot.bar(stacked=True, figsize=(8,6), edgecolor='white');\n",
    "\n",
    "# do some chart formatting\n",
    "plt.ylabel(\"percentage\");\n",
    "plt.gca().set_yticklabels(['{:.0f}%'.format(x*100) for x in plt.gca().get_yticks()]);"
   ]
  },
  {
   "cell_type": "markdown",
   "metadata": {},
   "source": [
    "The Male population is more likely to churn, relative to the total number of users in their category"
   ]
  },
  {
   "cell_type": "code",
   "execution_count": 26,
   "metadata": {},
   "outputs": [
    {
     "name": "stdout",
     "output_type": "stream",
     "text": [
      "+-----+------+-------------+\n",
      "|churn|userId|count(artist)|\n",
      "+-----+------+-------------+\n",
      "|    0|100010|          252|\n",
      "|    0|200002|          339|\n",
      "|    1|   125|            8|\n",
      "|    0|   124|         2232|\n",
      "|    1|    51|         1385|\n",
      "|    0|     7|          142|\n",
      "|    0|    15|         1302|\n",
      "|    1|    54|         1744|\n",
      "|    0|   155|          643|\n",
      "|    1|100014|          233|\n",
      "|    0|   132|         1299|\n",
      "|    0|   154|           78|\n",
      "|    1|   101|         1241|\n",
      "|    0|    11|          534|\n",
      "|    0|   138|         1332|\n",
      "|    0|300017|         2070|\n",
      "|    1|100021|          207|\n",
      "|    1|    29|         1804|\n",
      "|    0|    69|          865|\n",
      "|    0|   112|          195|\n",
      "+-----+------+-------------+\n",
      "only showing top 20 rows\n",
      "\n",
      "+-----+------------------+\n",
      "|churn|avg(count(artist))|\n",
      "+-----+------------------+\n",
      "|    0| 749.7861271676301|\n",
      "|    1| 518.6923076923077|\n",
      "+-----+------------------+\n",
      "\n"
     ]
    },
    {
     "data": {
      "image/png": "[encoded data removed]",
      "text/plain": [
       "<Figure size 576x432 with 1 Axes>"
      ]
     },
     "metadata": {
      "needs_background": "light"
     },
     "output_type": "display_data"
    }
   ],
   "source": [
    "# show total number of different artists that each user listens to\n",
    "df.filter(df[\"artist\"].isNotNull()) \\\n",
    "    .select([\"userId\", \"artist\", \"churn\"]).dropDuplicates() \\\n",
    "    .groupBy([\"churn\", \"userId\"]).agg(count(\"artist\")) \\\n",
    "    .show()\n",
    "\n",
    "# show average number of different artists that users listen to between users who churn vs. users who do not churn\n",
    "diversity = df.filter(df[\"artist\"].isNotNull()) \\\n",
    "    .select([\"userId\", \"artist\", \"churn\"]).dropDuplicates() \\\n",
    "    .groupBy([\"churn\", \"userId\"]).agg(count(\"artist\")) \\\n",
    "    .groupBy(\"churn\").agg(avg(\"count(artist)\"))\n",
    "\n",
    "diversity.show()\n",
    "\n",
    "# plot the churn by diversity information\n",
    "pd_df = diversity.toPandas()\n",
    "fig=plt.figure(figsize=(8,6))\n",
    "sns.barplot(x=\"churn\", y=\"avg(count(artist))\", data=pd_df);"
   ]
  },
  {
   "cell_type": "markdown",
   "metadata": {},
   "source": [
    "The users who churn are listening to a smaller number of artists over the period of time of the dataset. It is possble that this result is influenced by the fact they are not staying as long on the service, so we will look at the same information, but based on the session instead"
   ]
  },
  {
   "cell_type": "code",
   "execution_count": 27,
   "metadata": {},
   "outputs": [
    {
     "name": "stdout",
     "output_type": "stream",
     "text": [
      "+-----+-----+-----+-------------------+\n",
      "|churn|level|count|            percent|\n",
      "+-----+-----+-----+-------------------+\n",
      "|    0| free|  133| 0.7687861271676301|\n",
      "|    0| paid|   40|0.23121387283236994|\n",
      "|    1| free|   44| 0.8461538461538461|\n",
      "|    1| paid|    8|0.15384615384615385|\n",
      "+-----+-----+-----+-------------------+\n",
      "\n"
     ]
    },
    {
     "data": {
      "image/png": "[encoded data removed]",
      "text/plain": [
       "<Figure size 576x432 with 1 Axes>"
      ]
     },
     "metadata": {
      "needs_background": "light"
     },
     "output_type": "display_data"
    }
   ],
   "source": [
    "# compare the level (paid/free) of the users who churn vs. users who do not churn\n",
    "# we want the last level of the user in the dataset, as the level of a user can evolve over time\n",
    "partition_window = Window.partitionBy([\"userId\"])\n",
    "\n",
    "level = df.select(col(\"userId\"), last(\"level\").over(partition_window).alias(\"level\"), col(\"churn\")).dropDuplicates() \\\n",
    "    .groupBy(\"churn\", \"level\").count() \\\n",
    "    .withColumn(\"percent\", col(\"count\")/Fsum(\"count\").over(Window.partitionBy(\"churn\"))) \\\n",
    "    .orderBy([\"churn\", \"level\"])\n",
    "\n",
    "level.show()\n",
    "\n",
    "# plot the churn by level information\n",
    "pd_df = level.toPandas()\n",
    "\n",
    "pd_df = pd_df.pivot(index='churn', columns='level', values='percent');\n",
    "pd_df.plot.bar(stacked=True, figsize=(8,6), edgecolor='white');\n",
    "\n",
    "# do some chart formatting\n",
    "plt.ylabel(\"percentage\");\n",
    "plt.gca().set_yticklabels(['{:.0f}%'.format(x*100) for x in plt.gca().get_yticks()]);"
   ]
  },
  {
   "cell_type": "markdown",
   "metadata": {},
   "source": [
    "The free users are slightly more likely to churn than paid users"
   ]
  },
  {
   "cell_type": "code",
   "execution_count": 28,
   "metadata": {},
   "outputs": [
    {
     "name": "stdout",
     "output_type": "stream",
     "text": [
      "+-----+------------------+\n",
      "|churn|avg(count(artist))|\n",
      "+-----+------------------+\n",
      "|    0| 70.10344827586206|\n",
      "|    1| 65.69171483622351|\n",
      "+-----+------------------+\n",
      "\n"
     ]
    },
    {
     "data": {
      "image/png": "[encoded data removed]",
      "text/plain": [
       "<Figure size 576x432 with 1 Axes>"
      ]
     },
     "metadata": {
      "needs_background": "light"
     },
     "output_type": "display_data"
    }
   ],
   "source": [
    "# show average number of different artists per session that users listen to between users who churn vs. users who do not churn\n",
    "diversity_per_session = df.filter(df[\"artist\"].isNotNull()) \\\n",
    "    .select([\"userId\", \"sessionId\", \"artist\", \"churn\"]).dropDuplicates() \\\n",
    "    .groupBy([\"churn\", \"userId\", \"sessionId\"]).agg(count(\"artist\")) \\\n",
    "    .groupBy(\"churn\").agg(avg(\"count(artist)\"))\n",
    "\n",
    "diversity_per_session.show()\n",
    "\n",
    "# plot the churn by diversity per sessioninformation\n",
    "pd_df = diversity_per_session.toPandas()\n",
    "fig=plt.figure(figsize=(8,6))\n",
    "sns.barplot(x=\"churn\", y=\"avg(count(artist))\", data=pd_df);"
   ]
  },
  {
   "cell_type": "markdown",
   "metadata": {},
   "source": [
    "This chart confirms that the users who churn are listening to a smaller diversity of artists per session."
   ]
  },
  {
   "cell_type": "code",
   "execution_count": 29,
   "metadata": {},
   "outputs": [
    {
     "name": "stdout",
     "output_type": "stream",
     "text": [
      "+-----+--------+-----+-------------------+\n",
      "|churn|platform|count|            percent|\n",
      "+-----+--------+-----+-------------------+\n",
      "|    0|   Apple|   79|0.45664739884393063|\n",
      "|    1|   Apple|   23| 0.4423076923076923|\n",
      "|    0|   Linux|    7|0.04046242774566474|\n",
      "|    1|   Linux|    5|0.09615384615384616|\n",
      "|    0| Windows|   87| 0.5028901734104047|\n",
      "|    1| Windows|   24|0.46153846153846156|\n",
      "+-----+--------+-----+-------------------+\n",
      "\n"
     ]
    },
    {
     "data": {
      "image/png": "[encoded data removed]",
      "text/plain": [
       "<Figure size 576x432 with 1 Axes>"
      ]
     },
     "metadata": {
      "needs_background": "light"
     },
     "output_type": "display_data"
    }
   ],
   "source": [
    "# display the possible values for the platform, extracted from user agent field\n",
    "# prepare a regex extraction function we keep only the first word of the platform\n",
    "re = regexp_extract(\"userAgent\", r'[^(]*\\(([^ ;]*)', 1).alias(\"platform\")\n",
    "\n",
    "# replace the common platforms with an aggregated dataset to identify the technology \"world\" the user lives in\n",
    "platform = df.select([re, \"userId\", \"churn\"]) \\\n",
    "    .replace([\"iPad\", \"iPhone\", \"Macintosh\", \"X11\", \"Windows\", \"compatible\"],\n",
    "             [\"Apple\", \"Apple\", \"Apple\", \"Linux\", \"Windows\", \"Windows\"], \"platform\").dropDuplicates() \\\n",
    "    .groupBy([\"churn\", \"platform\"]).count() \\\n",
    "    .withColumn(\"percent\", col(\"count\")/Fsum(\"count\").over(Window.partitionBy(\"churn\"))) \\\n",
    "    .orderBy(\"platform\")\n",
    "\n",
    "platform.show()\n",
    "\n",
    "# plot the churn by platform information\n",
    "pd_df = platform.toPandas()\n",
    "\n",
    "pd_df = pd_df.pivot(index='churn', columns='platform', values='percent');\n",
    "pd_df.plot.bar(stacked=True, figsize=(8,6), edgecolor='white');\n",
    "\n",
    "# do some chart formatting\n",
    "plt.ylabel(\"percentage\");\n",
    "plt.gca().set_yticklabels(['{:.0f}%'.format(x*100) for x in plt.gca().get_yticks()]);"
   ]
  },
  {
   "cell_type": "markdown",
   "metadata": {},
   "source": [
    "There seems to be no difference on the number of times they listen to songs from the same artist between the churn users and users who continue using the service"
   ]
  },
  {
   "cell_type": "code",
   "execution_count": 30,
   "metadata": {},
   "outputs": [
    {
     "name": "stdout",
     "output_type": "stream",
     "text": [
      "+-----+------+---------+----------+\n",
      "|churn|userId|sessionId|max(count)|\n",
      "+-----+------+---------+----------+\n",
      "|    0|   115|      316|        12|\n",
      "|    0|    91|     1840|        12|\n",
      "|    0|    61|      529|        10|\n",
      "|    0|    41|      377|         9|\n",
      "|    0|   132|     1494|         8|\n",
      "|    0|     4|     1737|         7|\n",
      "|    0|   128|     2206|         7|\n",
      "|    0|    95|      541|         7|\n",
      "|    0|300002|      436|         7|\n",
      "|    0|    25|      827|         7|\n",
      "|    0|   138|     2305|         7|\n",
      "|    0|   100|      556|         7|\n",
      "|    0|   124|      708|         7|\n",
      "|    0|200014|      361|         7|\n",
      "|    1|   103|     1117|         7|\n",
      "|    0|    42|     1646|         7|\n",
      "|    0|    89|     1271|         7|\n",
      "|    0|   124|     1394|         7|\n",
      "|    1|   101|      635|         7|\n",
      "|    0|   138|     1305|         7|\n",
      "+-----+------+---------+----------+\n",
      "only showing top 20 rows\n",
      "\n",
      "+-----+------------------+\n",
      "|churn|   avg(max(count))|\n",
      "+-----+------------------+\n",
      "|    0|1.8875391849529781|\n",
      "|    1|1.8439306358381502|\n",
      "+-----+------------------+\n",
      "\n"
     ]
    },
    {
     "data": {
      "image/png": "[encoded data removed]",
      "text/plain": [
       "<Figure size 576x432 with 1 Axes>"
      ]
     },
     "metadata": {
      "needs_background": "light"
     },
     "output_type": "display_data"
    }
   ],
   "source": [
    "# show highest number of times the same artist was played by each user in each session\n",
    "df.filter(df[\"artist\"].isNotNull()) \\\n",
    "    .groupBy([\"churn\", \"sessionId\", \"userId\", \"artist\"]).count() \\\n",
    "    .groupBy([\"churn\",\"userId\", \"sessionId\"]).agg(Fmax(\"count\")) \\\n",
    "    .orderBy(\"max(count)\", ascending=False).show()\n",
    "\n",
    "# show average highest number of times the same artist was played by each user in each session between users who churn vs. users who do not churn\n",
    "repeat_artist_per_session = df.filter(df[\"artist\"].isNotNull()) \\\n",
    "    .groupBy([\"churn\", \"sessionId\", \"userId\", \"artist\"]).count() \\\n",
    "    .groupBy([\"churn\", \"userId\", \"sessionId\"]).agg(Fmax(\"count\")) \\\n",
    "    .groupBy(\"churn\").agg(avg(\"max(count)\"))\n",
    "\n",
    "repeat_artist_per_session.show()\n",
    "\n",
    "# plot the churn by diversity per session\n",
    "pd_df = repeat_artist_per_session.toPandas()\n",
    "fig=plt.figure(figsize=(8,6))\n",
    "sns.barplot(x=\"churn\", y=\"avg(max(count))\", data=pd_df);"
   ]
  },
  {
   "cell_type": "markdown",
   "metadata": {},
   "source": [
    "It looks like the Linux users are overrepresented in the churn population vs. in the non-churn population. We will display the information differently to confirm this information."
   ]
  },
  {
   "cell_type": "code",
   "execution_count": 31,
   "metadata": {},
   "outputs": [
    {
     "name": "stdout",
     "output_type": "stream",
     "text": [
      "+------+--------+-----+\n",
      "|userId|platform|count|\n",
      "+------+--------+-----+\n",
      "+------+--------+-----+\n",
      "\n"
     ]
    },
    {
     "data": {
      "text/plain": [
       "0"
      ]
     },
     "execution_count": 31,
     "metadata": {},
     "output_type": "execute_result"
    }
   ],
   "source": [
    "# identify if we have users that use multiple platforms (i.e. bridge across Apple, Windows, Linux worlds)\n",
    "# prepare a regex extraction function\n",
    "re = regexp_extract(\"userAgent\", r'[^(]*\\(([^ ;]*)', 1).alias(\"platform\")\n",
    "\n",
    "# replace the common platforms with an aggregated dataset to identify the technology \"world\" the user lives in\n",
    "platform_count = df.select([\"userId\", re]) \\\n",
    "    .replace([\"iPad\",\"iPhone\",\"Macintosh\",\"X11\",\"Windows\",\"compatible\"],\n",
    "             [\"Apple\",\"Apple\",\"Apple\",\"Linux\",\"Windows\",\"Windows\"], \"platform\") \\\n",
    "    .dropDuplicates() \\\n",
    "    .groupBy([\"userId\", \"platform\"]).count() \\\n",
    "    .filter(col(\"count\")>1)\n",
    "\n",
    "platform_count.show()\n",
    "platform_count.count()"
   ]
  },
  {
   "cell_type": "code",
   "execution_count": 32,
   "metadata": {},
   "outputs": [
    {
     "name": "stdout",
     "output_type": "stream",
     "text": [
      "+--------+-------------------+-------------------+--------------------+\n",
      "|platform|      churn_percent|   no_churn_percent|               ratio|\n",
      "+--------+-------------------+-------------------+--------------------+\n",
      "|   Linux|0.09615384615384616|0.04046242774566474|  1.3763736263736264|\n",
      "|   Apple| 0.4423076923076923|0.45664739884393063|-0.03140214216163584|\n",
      "| Windows|0.46153846153846156| 0.5028901734104047|-0.08222811671087538|\n",
      "+--------+-------------------+-------------------+--------------------+\n",
      "\n"
     ]
    },
    {
     "data": {
      "image/png": "[encoded data removed]",
      "text/plain": [
       "<Figure size 576x576 with 1 Axes>"
      ]
     },
     "metadata": {
      "needs_background": "light"
     },
     "output_type": "display_data"
    }
   ],
   "source": [
    "# show the comparison information in a more visual format\n",
    "platform_churn = platform.filter(platform[\"churn\"]==1).select([\"platform\",\"percent\"]).withColumnRenamed('percent','churn_percent')\n",
    "platform_no_churn = platform.filter(platform[\"churn\"]==0).select([\"platform\",\"percent\"]).withColumnRenamed('percent','no_churn_percent')\n",
    "\n",
    "# join the tables to be able to compare the data\n",
    "compare_platform = platform_churn.join(platform_no_churn, on=\"platform\", how=\"outer\")\n",
    "compare_platform = compare_platform.withColumn(\"ratio\", col(\"churn_percent\")/col(\"no_churn_percent\")-1)\n",
    "\n",
    "compare_platform.show()\n",
    "\n",
    "# plot the platforms that are more present in the group of \"Churn\" users\n",
    "pd_df = compare_platform.toPandas().dropna()\n",
    "fig=plt.figure(figsize=(8,8))\n",
    "sns.barplot(x=\"platform\", y=\"ratio\", data=pd_df);"
   ]
  },
  {
   "cell_type": "markdown",
   "metadata": {},
   "source": [
    "In our dataset we can see users are loyal to their platform of choice, and we have no cross-platform users which will make the analysis easier later on (modeling based on this information does not need to take care of users with possibly multiple platforms).\n",
    "\n",
    "This visualisation confirms that the Linux users are indeed more likely to be present in the churn group."
   ]
  },
  {
   "cell_type": "code",
   "execution_count": 33,
   "metadata": {},
   "outputs": [
    {
     "name": "stdout",
     "output_type": "stream",
     "text": [
      "+-----+------------------+\n",
      "|churn|        avg(count)|\n",
      "+-----+------------------+\n",
      "|    0| 56.95603089720737|\n",
      "|    1|40.392896781354054|\n",
      "+-----+------------------+\n",
      "\n"
     ]
    },
    {
     "data": {
      "image/png": "[encoded data removed]",
      "text/plain": [
       "<Figure size 576x432 with 1 Axes>"
      ]
     },
     "metadata": {
      "needs_background": "light"
     },
     "output_type": "display_data"
    }
   ],
   "source": [
    "# count the number of songs played per hour on average between churn users and non-churn users\n",
    "get_hour = udf(lambda x: datetime.datetime.fromtimestamp(x / 1000.0). hour)\n",
    "df = df.withColumn(\"hour\", get_hour(df.ts))\n",
    "songs_in_hour = df.filter(df.page == \"NextSong\").groupby([\"userId\", \"churn\", df.hour]).count().orderBy([\"userId\", df.hour.cast(\"float\")])\n",
    "songs_in_hour_avg = songs_in_hour.groupBy(\"churn\").agg(avg(\"count\"))\n",
    "\n",
    "songs_in_hour_avg.show()\n",
    "\n",
    "# plot the averages number of songs played per hour\n",
    "pd_df = songs_in_hour_avg.toPandas()\n",
    "fig=plt.figure(figsize=(8,6))\n",
    "sns.barplot(x=\"churn\", y=\"avg(count)\", data=pd_df);"
   ]
  },
  {
   "cell_type": "markdown",
   "metadata": {},
   "source": [
    "on average, the users who are ending up in the churn group, have a lower number of songs played per hour than the other users"
   ]
  },
  {
   "cell_type": "code",
   "execution_count": 34,
   "metadata": {},
   "outputs": [
    {
     "name": "stdout",
     "output_type": "stream",
     "text": [
      "+-----+--------------------+------+--------------------+\n",
      "|churn|                page| count|             percent|\n",
      "+-----+--------------------+------+--------------------+\n",
      "|    0|    Submit Downgrade|    54| 2.31471559003815E-4|\n",
      "|    0|      Submit Upgrade|   127|5.443868146941575E-4|\n",
      "|    0|               Error|   220|  9.4303227742295E-4|\n",
      "|    0|       Save Settings|   252| 0.00108020060868447|\n",
      "|    0|             Upgrade|   387|0.001658879506194...|\n",
      "|    0|               About|   439|0.001881778044493...|\n",
      "|    0|                Help|  1215|0.005208110077585837|\n",
      "|    0|            Settings|  1244| 0.00533241887779159|\n",
      "|    0|           Downgrade|  1718|0.007364224784602855|\n",
      "|    0|         Thumbs Down|  2050|0.008787346221441126|\n",
      "|    0|              Logout|  2673|0.011457842170688843|\n",
      "|    0|         Roll Advert|  2966|0.012713789703802134|\n",
      "|    0|          Add Friend|  3641|0.015607184191349823|\n",
      "|    0|     Add to Playlist|  5488|0.023524368811350678|\n",
      "|    0|                Home|  8410| 0.03604955205966823|\n",
      "|    0|           Thumbs Up| 10692| 0.04583136868275537|\n",
      "|    0|            NextSong|191714|  0.8217840456084702|\n",
      "|    1|    Submit Downgrade|     9|2.006062767475035...|\n",
      "|    1|      Submit Upgrade|    32|7.132667617689016E-4|\n",
      "|    1|               Error|    32|7.132667617689016E-4|\n",
      "|    1|Cancellation Conf...|    52|0.001159058487874...|\n",
      "|    1|              Cancel|    52|0.001159058487874...|\n",
      "|    1|               About|    56|0.001248216833095...|\n",
      "|    1|       Save Settings|    58|0.001292796005706134|\n",
      "|    1|             Upgrade|   112|0.002496433666191...|\n",
      "|    1|                Help|   239|0.005327211126961484|\n",
      "|    1|            Settings|   270|0.006018188302425107|\n",
      "|    1|           Downgrade|   337|0.007511590584878745|\n",
      "|    1|         Thumbs Down|   496|0.011055634807417974|\n",
      "|    1|              Logout|   553| 0.01232614122681883|\n",
      "|    1|          Add Friend|   636|0.014176176890156919|\n",
      "|    1|         Roll Advert|   967|0.021554029957203995|\n",
      "|    1|     Add to Playlist|  1038|0.023136590584878745|\n",
      "|    1|                Home|  1672|0.037268188302425106|\n",
      "|    1|           Thumbs Up|  1859| 0.04143634094151213|\n",
      "|    1|            NextSong| 36394|  0.8112072039942939|\n",
      "+-----+--------------------+------+--------------------+\n",
      "\n"
     ]
    }
   ],
   "source": [
    "# comparison of the pages between the users who churn vs. users who do not churn\n",
    "pages = df.groupBy([\"churn\",\"page\"]).count() \\\n",
    "    .withColumn(\"percent\", col(\"count\")/Fsum(\"count\").over(Window.partitionBy(\"churn\"))) \\\n",
    "    .orderBy([\"churn\",\"percent\"])\n",
    "\n",
    "pages.show(40)"
   ]
  },
  {
   "cell_type": "markdown",
   "metadata": {},
   "source": [
    "We will have to filter out the \"NextSong\" page, as represent more than 80% of all the pages viewed and will not allow us to read the charts."
   ]
  },
  {
   "cell_type": "code",
   "execution_count": 35,
   "metadata": {},
   "outputs": [
    {
     "name": "stdout",
     "output_type": "stream",
     "text": [
      "+-----+--------------------+------+--------------------+\n",
      "|churn|                page| count|             percent|\n",
      "+-----+--------------------+------+--------------------+\n",
      "|    0|    Submit Downgrade|    54| 2.31471559003815E-4|\n",
      "|    0|      Submit Upgrade|   127|5.443868146941575E-4|\n",
      "|    0|               Error|   220|  9.4303227742295E-4|\n",
      "|    0|       Save Settings|   252| 0.00108020060868447|\n",
      "|    0|             Upgrade|   387|0.001658879506194...|\n",
      "|    0|               About|   439|0.001881778044493...|\n",
      "|    0|                Help|  1215|0.005208110077585837|\n",
      "|    0|            Settings|  1244| 0.00533241887779159|\n",
      "|    0|           Downgrade|  1718|0.007364224784602855|\n",
      "|    0|         Thumbs Down|  2050|0.008787346221441126|\n",
      "|    0|              Logout|  2673|0.011457842170688843|\n",
      "|    0|         Roll Advert|  2966|0.012713789703802134|\n",
      "|    0|          Add Friend|  3641|0.015607184191349823|\n",
      "|    0|     Add to Playlist|  5488|0.023524368811350678|\n",
      "|    0|                Home|  8410| 0.03604955205966823|\n",
      "|    0|           Thumbs Up| 10692| 0.04583136868275537|\n",
      "|    0|            NextSong|191714|  0.8217840456084702|\n",
      "|    1|    Submit Downgrade|     9|2.006062767475035...|\n",
      "|    1|      Submit Upgrade|    32|7.132667617689016E-4|\n",
      "|    1|               Error|    32|7.132667617689016E-4|\n",
      "|    1|Cancellation Conf...|    52|0.001159058487874...|\n",
      "|    1|              Cancel|    52|0.001159058487874...|\n",
      "|    1|               About|    56|0.001248216833095...|\n",
      "|    1|       Save Settings|    58|0.001292796005706134|\n",
      "|    1|             Upgrade|   112|0.002496433666191...|\n",
      "|    1|                Help|   239|0.005327211126961484|\n",
      "|    1|            Settings|   270|0.006018188302425107|\n",
      "|    1|           Downgrade|   337|0.007511590584878745|\n",
      "|    1|         Thumbs Down|   496|0.011055634807417974|\n",
      "|    1|              Logout|   553| 0.01232614122681883|\n",
      "|    1|          Add Friend|   636|0.014176176890156919|\n",
      "|    1|         Roll Advert|   967|0.021554029957203995|\n",
      "|    1|     Add to Playlist|  1038|0.023136590584878745|\n",
      "|    1|                Home|  1672|0.037268188302425106|\n",
      "|    1|           Thumbs Up|  1859| 0.04143634094151213|\n",
      "|    1|            NextSong| 36394|  0.8112072039942939|\n",
      "+-----+--------------------+------+--------------------+\n",
      "\n"
     ]
    }
   ],
   "source": [
    "# comparison of the pages between the users who churn vs. users who do not churn\n",
    "pages = df.groupBy([\"churn\",\"page\"]).count() \\\n",
    "    .withColumn(\"percent\", col(\"count\")/Fsum(\"count\").over(Window.partitionBy(\"churn\"))) \\\n",
    "    .orderBy([\"churn\",\"percent\"])\n",
    "\n",
    "pages.show(40)"
   ]
  },
  {
   "cell_type": "code",
   "execution_count": 36,
   "metadata": {},
   "outputs": [
    {
     "data": {
      "image/png": "[encoded data removed]",
      "text/plain": [
       "<Figure size 864x576 with 1 Axes>"
      ]
     },
     "metadata": {
      "needs_background": "light"
     },
     "output_type": "display_data"
    }
   ],
   "source": [
    "# plot the churn by pages information\n",
    "pd_df = pages.toPandas()\n",
    "fig=plt.figure(figsize=(12,8))\n",
    "sns.barplot(x=\"page\", y=\"percent\", hue=\"churn\", data=pd_df);\n",
    "plt.xticks(rotation=45);\n",
    "\n",
    "# do some chart formatting\n",
    "plt.ylabel(\"percentage\");\n",
    "plt.gca().set_yticklabels(['{:.0f}%'.format(x*100) for x in plt.gca().get_yticks()]);"
   ]
  },
  {
   "cell_type": "markdown",
   "metadata": {},
   "source": [
    "The \"NextSong\" action dominates the dataset. We will be looking at the data from a different perspective, we would like to see what are the pages that are more seen by churn users vs. the non churn users"
   ]
  },
  {
   "cell_type": "code",
   "execution_count": 37,
   "metadata": {},
   "outputs": [
    {
     "name": "stdout",
     "output_type": "stream",
     "text": [
      "+--------------------+--------------------+--------------------+--------------------+\n",
      "|                page|       churn_percent|    no_churn_percent|               ratio|\n",
      "+--------------------+--------------------+--------------------+--------------------+\n",
      "|              Cancel|0.001159058487874...|                null|                null|\n",
      "|    Submit Downgrade|2.006062767475035...| 2.31471559003815E-4|-0.13334373514027587|\n",
      "|         Thumbs Down|0.011055634807417974|0.008787346221441126|  0.2581312410841654|\n",
      "|                Home|0.037268188302425106| 0.03604955205966823| 0.03380447670306208|\n",
      "|           Downgrade|0.007511590584878745|0.007364224784602855| 0.02001104048100255|\n",
      "|         Roll Advert|0.021554029957203995|0.012713789703802134|  0.6953269213473097|\n",
      "|              Logout| 0.01232614122681883|0.011457842170688843| 0.07578207512329405|\n",
      "|       Save Settings|0.001292796005706134| 0.00108020060868447| 0.19681103242533338|\n",
      "|Cancellation Conf...|0.001159058487874...|                null|                null|\n",
      "|               About|0.001248216833095...|0.001881778044493...| -0.3366822209729674|\n",
      "|            Settings|0.006018188302425107| 0.00533241887779159|  0.1286038175825992|\n",
      "|     Add to Playlist|0.023136590584878745|0.023524368811350678|-0.01648410758994845|\n",
      "|          Add Friend|0.014176176890156919|0.015607184191349823|-0.09168901216569414|\n",
      "|            NextSong|  0.8112072039942939|  0.8217840456084702|-0.01287058524766671|\n",
      "|           Thumbs Up| 0.04143634094151213| 0.04583136868275537|-0.09589562493028769|\n",
      "|                Help|0.005327211126961484|0.005208110077585837|0.022868381735674514|\n",
      "|             Upgrade|0.002496433666191...|0.001658879506194...|  0.5048914986711488|\n",
      "|               Error|7.132667617689016E-4|  9.4303227742295E-4|-0.24364544157696788|\n",
      "|      Submit Upgrade|7.132667617689016E-4|5.443868146941575E-4| 0.31022049490603965|\n",
      "+--------------------+--------------------+--------------------+--------------------+\n",
      "\n"
     ]
    }
   ],
   "source": [
    "# show the comparison information in a more visual format\n",
    "pages_churn = pages.filter(pages[\"churn\"]==1).select([\"page\",\"percent\"]).withColumnRenamed('percent','churn_percent')\n",
    "pages_no_churn = pages.filter(pages[\"churn\"]==0).select([\"page\",\"percent\"]).withColumnRenamed('percent','no_churn_percent')\n",
    "\n",
    "# join the tables to be able to compare the data\n",
    "compare_pages = pages_churn.join(pages_no_churn, on=\"page\", how=\"outer\")\n",
    "compare_pages = compare_pages.withColumn(\"ratio\", col(\"churn_percent\")/col(\"no_churn_percent\")-1)\n",
    "\n",
    "compare_pages.show()"
   ]
  },
  {
   "cell_type": "code",
   "execution_count": 38,
   "metadata": {},
   "outputs": [
    {
     "data": {
      "image/png": "[encoded data removed]",
      "text/plain": [
       "<Figure size 864x576 with 1 Axes>"
      ]
     },
     "metadata": {
      "needs_background": "light"
     },
     "output_type": "display_data"
    }
   ],
   "source": [
    "# plot the pages that are more viewed in the group of \"Churn\" users\n",
    "pd_df = compare_pages.toPandas().dropna()\n",
    "fig=plt.figure(figsize=(12,8))\n",
    "sns.barplot(x=\"page\", y=\"ratio\", data=pd_df);\n",
    "plt.xticks(rotation=45);\n",
    "\n",
    "# do some chart formatting\n",
    "plt.ylabel(\"ratio\");\n",
    "plt.gca().set_yticklabels(['{:.0f}%'.format(x*100) for x in plt.gca().get_yticks()]);"
   ]
  },
  {
   "cell_type": "markdown",
   "metadata": {},
   "source": [
    "In the chart above:\n",
    "- a value **above 0** is the ratio of pages that are seen **more** frequently by the users in the churn group\n",
    "- a value **below 0** is the ratio of pages that are seen **less** frequently in the churn group."
   ]
  },
  {
   "cell_type": "markdown",
   "metadata": {},
   "source": [
    "It looks like the following actions are significantly different in their frequency between the 2 groups of users:\n",
    "- number of Thumbs Down\n",
    "- number of Thumbs Up\n",
    "- number of Roll Advert\n",
    "- number of Add Friend\n",
    "- number of Add to Playlist\n",
    "- number of Upgrade"
   ]
  },
  {
   "cell_type": "markdown",
   "metadata": {},
   "source": [
    "# Feature Engineering\n",
    "Now that we familiarized outselves with the data, we can build out the features to train your model on.\n",
    "\n",
    "We will be selecting the following features that we believe could be useful to classify the data as per the analysis above:\n",
    "- gender (M/F)\n",
    "- level (free/paid)\n",
    "- number of different artist per user\n",
    "- platform (Apple/Windows/Linux)\n",
    "- number of songs per hour on average\n",
    "- number of Thumbs Down\n",
    "- number of Thumbs Up\n",
    "- number of Roll Advert\n",
    "- number of Add Friend\n",
    "- number of Add to Playlist\n",
    "- number of Upgrade\n",
    "\n",
    "Each of the single feature columns creation below will show a sample output, as well as the count of rows which should be equal to, or less than (if missing values) the total number of users. This acts as a validation to ensure we are not \"multiplying rows\" for users incorrectly in our transformations, otherwise the joining operation with all individual feature columns will be an issue if we get one of them incorrect in the process.\n",
    "\n",
    "We will also check for each feature column that the engineered feature column is of a numeric type, since this is what the ML classifiers will be expecting."
   ]
  },
  {
   "cell_type": "code",
   "execution_count": 39,
   "metadata": {},
   "outputs": [
    {
     "name": "stdout",
     "output_type": "stream",
     "text": [
      "+------+------+\n",
      "|userId|gender|\n",
      "+------+------+\n",
      "|300001|     0|\n",
      "|100023|     1|\n",
      "|100024|     1|\n",
      "|    78|     0|\n",
      "|    97|     0|\n",
      "+------+------+\n",
      "only showing top 5 rows\n",
      "\n",
      "rows count:  225\n"
     ]
    },
    {
     "data": {
      "text/plain": [
       "DataFrame[userId: string, gender: int]"
      ]
     },
     "execution_count": 39,
     "metadata": {},
     "output_type": "execute_result"
    }
   ],
   "source": [
    "# gender (M/F)\n",
    "df_gender = df.select([\"userId\", \"gender\"]).replace([\"F\",\"M\"],[\"0\",\"1\"],\"gender\").dropDuplicates()\n",
    "\n",
    "# need to convert the 0/1 values to integer number otherwise the spark models will fail\n",
    "df_gender = df_gender.select(\"userId\", df_gender.gender.cast(IntegerType()))\n",
    "\n",
    "df_gender.show(5)\n",
    "print(\"rows count: \", df_gender.count())\n",
    "df_gender"
   ]
  },
  {
   "cell_type": "code",
   "execution_count": 40,
   "metadata": {},
   "outputs": [
    {
     "name": "stdout",
     "output_type": "stream",
     "text": [
      "+------+-----+\n",
      "|userId|level|\n",
      "+------+-----+\n",
      "|100010|    0|\n",
      "|200002|    1|\n",
      "|   125|    0|\n",
      "|   124|    1|\n",
      "|    51|    1|\n",
      "+------+-----+\n",
      "only showing top 5 rows\n",
      "\n",
      "rows count:  225\n"
     ]
    },
    {
     "data": {
      "text/plain": [
       "DataFrame[userId: string, level: int]"
      ]
     },
     "execution_count": 40,
     "metadata": {},
     "output_type": "execute_result"
    }
   ],
   "source": [
    "# level (free/paid)\n",
    "# a user could have multiple levels during his lifetime, so here we will look at its LAST level as of the analysis\n",
    "# (last row in the dataset ordered by time)\n",
    "partition_window = Window.partitionBy([\"userId\"])\n",
    "\n",
    "df_level = df.select(col(\"userId\"), last(\"level\").over(partition_window).alias(\"level\"))\n",
    "df_level = df_level.select([\"userId\", \"level\"]).replace([\"free\",\"paid\"],[\"0\",\"1\"],\"level\").dropDuplicates()\n",
    "\n",
    "# need to convert the 0/1 values to integer number otherwise the spark models will fail\n",
    "df_level = df_level.select(\"userId\", df_level.level.cast(IntegerType()))\n",
    "\n",
    "df_level.show(5)\n",
    "print(\"rows count: \", df_level.count())\n",
    "df_level"
   ]
  },
  {
   "cell_type": "code",
   "execution_count": 41,
   "metadata": {},
   "outputs": [
    {
     "name": "stdout",
     "output_type": "stream",
     "text": [
      "+------+-------------+\n",
      "|userId|artists count|\n",
      "+------+-------------+\n",
      "|100010|          252|\n",
      "|200002|          339|\n",
      "|   125|            8|\n",
      "|    51|         1385|\n",
      "|   124|         2232|\n",
      "+------+-------------+\n",
      "only showing top 5 rows\n",
      "\n",
      "rows count:  225\n"
     ]
    },
    {
     "data": {
      "text/plain": [
       "DataFrame[userId: string, artists count: bigint]"
      ]
     },
     "execution_count": 41,
     "metadata": {},
     "output_type": "execute_result"
    }
   ],
   "source": [
    "# number of different artist per user\n",
    "df_artists = df.filter(df[\"artist\"].isNotNull()) \\\n",
    "    .select([\"userId\", \"artist\"]).dropDuplicates() \\\n",
    "    .groupBy(\"userId\").agg(count(\"artist\").alias(\"artists count\")) \\\n",
    "\n",
    "df_artists.show(5)\n",
    "print(\"rows count: \", df_artists.count())\n",
    "df_artists"
   ]
  },
  {
   "cell_type": "code",
   "execution_count": 42,
   "metadata": {},
   "outputs": [
    {
     "name": "stdout",
     "output_type": "stream",
     "text": [
      "+------+-----+\n",
      "|userId|apple|\n",
      "+------+-----+\n",
      "|100010|    1|\n",
      "|200002|    1|\n",
      "|   125|    1|\n",
      "|   124|    1|\n",
      "|   132|    1|\n",
      "+------+-----+\n",
      "only showing top 5 rows\n",
      "\n",
      "+------+-----+\n",
      "|userId|linux|\n",
      "+------+-----+\n",
      "|200010|    1|\n",
      "|300013|    1|\n",
      "|300007|    1|\n",
      "|200024|    1|\n",
      "|100016|    1|\n",
      "+------+-----+\n",
      "only showing top 5 rows\n",
      "\n",
      "+------+-------+\n",
      "|userId|windows|\n",
      "+------+-------+\n",
      "|    51|      1|\n",
      "|     7|      1|\n",
      "|    15|      1|\n",
      "|    54|      1|\n",
      "|   155|      1|\n",
      "+------+-------+\n",
      "only showing top 5 rows\n",
      "\n",
      "rows count:  225\n"
     ]
    }
   ],
   "source": [
    "# platform (Apple/Windows/Linux)\n",
    "# prepare a regex extraction function\n",
    "re = regexp_extract(\"userAgent\", r'[^(]*\\(([^ ;]*)', 1).alias(\"platform\")\n",
    "\n",
    "# replace the common platforms with an aggregated dataset to identify the technology \"world\" the user lives in\n",
    "df_platform = df.select([\"userId\", re]) \\\n",
    "    .replace([\"iPad\",\"iPhone\",\"Macintosh\",\"X11\",\"Windows\",\"compatible\"],\n",
    "             [\"Apple\",\"Apple\",\"Apple\",\"Linux\",\"Windows\",\"Windows\"], \"platform\").dropDuplicates()\n",
    "\n",
    "# perform some form of one-hot-encoding using the groupBy to give a numeric '1' value for each user, or no entry if they do not use the platform\n",
    "df_apple = df_platform.filter(col(\"platform\") == \"Apple\").groupBy(\"userId\").agg(count(\"platform\").alias(\"apple\"))\n",
    "df_linux = df_platform.filter(col(\"platform\") == \"Linux\").groupBy(\"userId\").agg(count(\"platform\").alias(\"linux\"))\n",
    "df_windows = df_platform.filter(col(\"platform\") == \"Windows\").groupBy(\"userId\").agg(count(\"platform\").alias(\"windows\"))\n",
    "\n",
    "df_apple.show(5)\n",
    "df_linux.show(5)\n",
    "df_windows.show(5)\n",
    "print(\"rows count: \", df_apple.count()+df_linux.count()+df_windows.count())"
   ]
  },
  {
   "cell_type": "code",
   "execution_count": 43,
   "metadata": {},
   "outputs": [
    {
     "name": "stdout",
     "output_type": "stream",
     "text": [
      "+------+------------------+\n",
      "|userId|         avg songs|\n",
      "+------+------------------+\n",
      "|200002| 20.36842105263158|\n",
      "|100010|16.176470588235293|\n",
      "|   125|               8.0|\n",
      "|   124|169.95833333333334|\n",
      "|    51| 87.95833333333333|\n",
      "+------+------------------+\n",
      "only showing top 5 rows\n",
      "\n",
      "rows count:  225\n"
     ]
    },
    {
     "data": {
      "text/plain": [
       "DataFrame[userId: string, avg songs: double]"
      ]
     },
     "execution_count": 43,
     "metadata": {},
     "output_type": "execute_result"
    }
   ],
   "source": [
    "# number of songs per hour on average\n",
    "get_hour = udf(lambda x: datetime.datetime.fromtimestamp(x / 1000.0). hour)\n",
    "df = df.withColumn(\"hour\", get_hour(df.ts))\n",
    "\n",
    "df_avg_songs = df.filter(df.page == \"NextSong\").groupby([\"userId\", df.hour]).count().groupBy(\"userId\").agg(avg(\"count\").alias(\"avg songs\"))\n",
    "\n",
    "df_avg_songs.show(5)\n",
    "print(\"rows count: \", df_avg_songs.count())\n",
    "df_avg_songs"
   ]
  },
  {
   "cell_type": "code",
   "execution_count": 44,
   "metadata": {},
   "outputs": [
    {
     "name": "stdout",
     "output_type": "stream",
     "text": [
      "+------+-----------+\n",
      "|userId|thumbs down|\n",
      "+------+-----------+\n",
      "|100010|          5|\n",
      "|200002|          6|\n",
      "|    51|         21|\n",
      "|   124|         41|\n",
      "|     7|          1|\n",
      "+------+-----------+\n",
      "only showing top 5 rows\n",
      "\n",
      "rows count:  203\n"
     ]
    },
    {
     "data": {
      "text/plain": [
       "DataFrame[userId: string, thumbs down: bigint]"
      ]
     },
     "execution_count": 44,
     "metadata": {},
     "output_type": "execute_result"
    }
   ],
   "source": [
    "# number of Thumbs Down\n",
    "df_thumbs_down = df.filter(df[\"page\"] == \"Thumbs Down\") \\\n",
    "    .groupBy(\"userId\").count() \\\n",
    "    .select(\"userId\", col(\"count\").alias(\"thumbs down\"))\n",
    "\n",
    "df_thumbs_down.show(5)\n",
    "print(\"rows count: \", df_thumbs_down.count())\n",
    "df_thumbs_down"
   ]
  },
  {
   "cell_type": "code",
   "execution_count": 45,
   "metadata": {},
   "outputs": [
    {
     "name": "stdout",
     "output_type": "stream",
     "text": [
      "+------+---------+\n",
      "|userId|thumbs up|\n",
      "+------+---------+\n",
      "|100010|       17|\n",
      "|200002|       21|\n",
      "|    51|      100|\n",
      "|   124|      171|\n",
      "|     7|        7|\n",
      "+------+---------+\n",
      "only showing top 5 rows\n",
      "\n",
      "rows count:  220\n"
     ]
    },
    {
     "data": {
      "text/plain": [
       "DataFrame[userId: string, thumbs up: bigint]"
      ]
     },
     "execution_count": 45,
     "metadata": {},
     "output_type": "execute_result"
    }
   ],
   "source": [
    "# number of Thumbs Up\n",
    "df_thumbs_up = df.filter(df[\"page\"] == \"Thumbs Up\") \\\n",
    "    .groupBy(\"userId\").count() \\\n",
    "    .select(\"userId\", col(\"count\").alias(\"thumbs up\"))\n",
    "\n",
    "df_thumbs_up.show(5)\n",
    "print(\"rows count: \", df_thumbs_up.count())\n",
    "df_thumbs_up"
   ]
  },
  {
   "cell_type": "code",
   "execution_count": 46,
   "metadata": {},
   "outputs": [
    {
     "name": "stdout",
     "output_type": "stream",
     "text": [
      "+------+------+\n",
      "|userId|advert|\n",
      "+------+------+\n",
      "|100010|    52|\n",
      "|200002|     7|\n",
      "|   125|     1|\n",
      "|     7|    16|\n",
      "|   124|     4|\n",
      "+------+------+\n",
      "only showing top 5 rows\n",
      "\n",
      "rows count:  207\n"
     ]
    },
    {
     "data": {
      "text/plain": [
       "DataFrame[userId: string, advert: bigint]"
      ]
     },
     "execution_count": 46,
     "metadata": {},
     "output_type": "execute_result"
    }
   ],
   "source": [
    "# number of Roll Advert\n",
    "df_advert = df.filter(df[\"page\"] == \"Roll Advert\") \\\n",
    "    .groupBy(\"userId\").count() \\\n",
    "    .select(\"userId\", col(\"count\").alias(\"advert\"))\n",
    "\n",
    "df_advert.show(5)\n",
    "print(\"rows count: \", df_advert.count())\n",
    "df_advert"
   ]
  },
  {
   "cell_type": "code",
   "execution_count": 47,
   "metadata": {},
   "outputs": [
    {
     "name": "stdout",
     "output_type": "stream",
     "text": [
      "+------+----------+\n",
      "|userId|add friend|\n",
      "+------+----------+\n",
      "|100010|         4|\n",
      "|200002|         4|\n",
      "|    51|        28|\n",
      "|   124|        74|\n",
      "|     7|         1|\n",
      "+------+----------+\n",
      "only showing top 5 rows\n",
      "\n",
      "rows count:  206\n"
     ]
    },
    {
     "data": {
      "text/plain": [
       "DataFrame[userId: string, add friend: bigint]"
      ]
     },
     "execution_count": 47,
     "metadata": {},
     "output_type": "execute_result"
    }
   ],
   "source": [
    "# number of Add Friend\n",
    "df_add_friend = df.filter(df[\"page\"] == \"Add Friend\") \\\n",
    "    .groupBy(\"userId\").count() \\\n",
    "    .select(\"userId\", col(\"count\").alias(\"add friend\"))\n",
    "\n",
    "df_add_friend.show(5)\n",
    "print(\"rows count: \", df_add_friend.count())\n",
    "df_add_friend"
   ]
  },
  {
   "cell_type": "code",
   "execution_count": 48,
   "metadata": {},
   "outputs": [
    {
     "name": "stdout",
     "output_type": "stream",
     "text": [
      "+------+------------+\n",
      "|userId|add playlist|\n",
      "+------+------------+\n",
      "|100010|           7|\n",
      "|200002|           8|\n",
      "|    51|          52|\n",
      "|   124|         118|\n",
      "|     7|           5|\n",
      "+------+------------+\n",
      "only showing top 5 rows\n",
      "\n",
      "rows count:  215\n"
     ]
    },
    {
     "data": {
      "text/plain": [
       "DataFrame[userId: string, add playlist: bigint]"
      ]
     },
     "execution_count": 48,
     "metadata": {},
     "output_type": "execute_result"
    }
   ],
   "source": [
    "# number of Add to Playlist\n",
    "df_add_playlist = df.filter(df[\"page\"] == \"Add to Playlist\") \\\n",
    "    .groupBy(\"userId\").count() \\\n",
    "    .select(\"userId\", col(\"count\").alias(\"add playlist\"))\n",
    "\n",
    "df_add_playlist.show(5)\n",
    "print(\"rows count: \", df_add_playlist.count())\n",
    "df_add_playlist"
   ]
  },
  {
   "cell_type": "code",
   "execution_count": 49,
   "metadata": {},
   "outputs": [
    {
     "name": "stdout",
     "output_type": "stream",
     "text": [
      "+------+-------+\n",
      "|userId|upgrade|\n",
      "+------+-------+\n",
      "|100010|      2|\n",
      "|200002|      2|\n",
      "|     7|      2|\n",
      "|    54|      1|\n",
      "|   155|      2|\n",
      "+------+-------+\n",
      "only showing top 5 rows\n",
      "\n",
      "rows count:  168\n"
     ]
    },
    {
     "data": {
      "text/plain": [
       "DataFrame[userId: string, upgrade: bigint]"
      ]
     },
     "execution_count": 49,
     "metadata": {},
     "output_type": "execute_result"
    }
   ],
   "source": [
    "# number of Upgrade\n",
    "df_upgrade = df.filter(df[\"page\"] == \"Upgrade\") \\\n",
    "    .groupBy(\"userId\").count() \\\n",
    "    .select(\"userId\", col(\"count\").alias(\"upgrade\"))\n",
    "\n",
    "df_upgrade.show(5)\n",
    "print(\"rows count: \", df_upgrade.count())\n",
    "df_upgrade"
   ]
  },
  {
   "cell_type": "code",
   "execution_count": 50,
   "metadata": {},
   "outputs": [
    {
     "name": "stdout",
     "output_type": "stream",
     "text": [
      "+------+-----+\n",
      "|userId|churn|\n",
      "+------+-----+\n",
      "|100010|    0|\n",
      "|200002|    0|\n",
      "|   125|    1|\n",
      "|   124|    0|\n",
      "|    51|    1|\n",
      "+------+-----+\n",
      "only showing top 5 rows\n",
      "\n",
      "rows count:  225\n"
     ]
    },
    {
     "data": {
      "text/plain": [
       "DataFrame[userId: string, churn: bigint]"
      ]
     },
     "execution_count": 50,
     "metadata": {},
     "output_type": "execute_result"
    }
   ],
   "source": [
    "# identify churn as the label\n",
    "df_churn = df.select([\"userId\", \"churn\"]).dropDuplicates()\n",
    "\n",
    "df_churn.show(5)\n",
    "print(\"rows count: \", df_churn.count())\n",
    "df_churn"
   ]
  },
  {
   "cell_type": "code",
   "execution_count": 51,
   "metadata": {},
   "outputs": [
    {
     "name": "stdout",
     "output_type": "stream",
     "text": [
      "+------+------+-----+-------------+-----+-----+-------+------------------+-----------+---------+------+----------+------------+-------+-----+\n",
      "|userId|gender|level|artists count|apple|linux|windows|         avg songs|thumbs down|thumbs up|advert|add friend|add playlist|upgrade|churn|\n",
      "+------+------+-----+-------------+-----+-----+-------+------------------+-----------+---------+------+----------+------------+-------+-----+\n",
      "|100010|     0|    0|          252|    1| null|   null|16.176470588235293|          5|       17|    52|         4|           7|      2|    0|\n",
      "|200002|     1|    1|          339|    1| null|   null| 20.36842105263158|          6|       21|     7|         4|           8|      2|    0|\n",
      "|   125|     1|    0|            8|    1| null|   null|               8.0|       null|     null|     1|      null|        null|   null|    1|\n",
      "|   124|     0|    1|         2232|    1| null|   null|169.95833333333334|         41|      171|     4|        74|         118|   null|    0|\n",
      "|    51|     1|    1|         1385| null| null|      1| 87.95833333333333|         21|      100|  null|        28|          52|   null|    1|\n",
      "|     7|     1|    0|          142| null| null|      1|10.714285714285714|          1|        7|    16|         1|           5|      2|    0|\n",
      "|    15|     1|    1|         1302| null| null|      1|             79.75|         14|       81|     1|        31|          59|   null|    0|\n",
      "|    54|     0|    1|         1744| null| null|      1|           118.375|         29|      163|    47|        33|          72|      1|    1|\n",
      "|   155|     0|    1|          643| null| null|      1| 37.27272727272727|          3|       58|     8|        11|          24|      2|    0|\n",
      "|100014|     1|    1|          233| null| null|      1|21.416666666666668|          3|       17|     2|         6|           7|   null|    1|\n",
      "|   132|     0|    1|         1299|    1| null|   null| 80.33333333333333|         17|       96|     2|        41|          38|      1|    0|\n",
      "|   154|     0|    0|           78| null| null|      1|              10.5|       null|       11|    10|         3|           1|   null|    0|\n",
      "|   101|     1|    1|         1241| null| null|      1|            74.875|         16|       86|     8|        29|          61|      1|    1|\n",
      "|    11|     0|    1|          534| null| null|      1|26.958333333333332|          9|       40|    39|         6|          20|      9|    0|\n",
      "|   138|     1|    1|         1332|    1| null|   null|             86.25|         24|       95|    17|        41|          67|      1|    0|\n",
      "|300017|     0|    1|         2070|    1| null|   null|151.33333333333334|         28|      303|    11|        63|         113|   null|    0|\n",
      "|100021|     1|    0|          207|    1| null|   null|            14.375|          5|       11|    30|         7|           7|      2|    1|\n",
      "|    29|     1|    1|         1804|    1| null|   null|126.16666666666667|         22|      154|    22|        47|          89|      5|    1|\n",
      "|    69|     0|    1|          865| null| null|      1|            46.875|          9|       72|     3|        12|          33|      1|    0|\n",
      "|   112|     1|    0|          195| null| null|      1|              21.5|          3|        9|    21|         7|           7|      2|    0|\n",
      "+------+------+-----+-------------+-----+-----+-------+------------------+-----------+---------+------+----------+------------+-------+-----+\n",
      "only showing top 20 rows\n",
      "\n",
      "rows count:  225\n"
     ]
    },
    {
     "data": {
      "text/plain": [
       "DataFrame[userId: string, gender: int, level: int, artists count: bigint, apple: bigint, linux: bigint, windows: bigint, avg songs: double, thumbs down: bigint, thumbs up: bigint, advert: bigint, add friend: bigint, add playlist: bigint, upgrade: bigint, churn: bigint]"
      ]
     },
     "execution_count": 51,
     "metadata": {},
     "output_type": "execute_result"
    }
   ],
   "source": [
    "# merge all the individual features into a single dataframe\n",
    "df_features = df_gender \\\n",
    "    .join(df_level, on=\"userId\", how=\"outer\") \\\n",
    "    .join(df_artists, on=\"userId\", how=\"outer\") \\\n",
    "    .join(df_apple, on=\"userId\", how=\"outer\") \\\n",
    "    .join(df_linux, on=\"userId\", how=\"outer\") \\\n",
    "    .join(df_windows, on=\"userId\", how=\"outer\") \\\n",
    "    .join(df_avg_songs, on=\"userId\", how=\"outer\") \\\n",
    "    .join(df_thumbs_down, on=\"userId\", how=\"outer\") \\\n",
    "    .join(df_thumbs_up, on=\"userId\", how=\"outer\") \\\n",
    "    .join(df_advert, on=\"userId\", how=\"outer\") \\\n",
    "    .join(df_add_friend, on=\"userId\", how=\"outer\") \\\n",
    "    .join(df_add_playlist, on=\"userId\", how=\"outer\") \\\n",
    "    .join(df_upgrade, on=\"userId\", how=\"outer\") \\\n",
    "    .join(df_churn, on=\"userId\", how=\"outer\")\n",
    "\n",
    "df_features.show()\n",
    "print(\"rows count: \", df_features.count())\n",
    "df_features"
   ]
  },
  {
   "cell_type": "code",
   "execution_count": 52,
   "metadata": {},
   "outputs": [
    {
     "name": "stdout",
     "output_type": "stream",
     "text": [
      "+------+------+-----+-------------+-----+-----+-------+------------------+-----------+---------+------+----------+------------+-------+-----+\n",
      "|userId|gender|level|artists count|apple|linux|windows|         avg songs|thumbs down|thumbs up|advert|add friend|add playlist|upgrade|churn|\n",
      "+------+------+-----+-------------+-----+-----+-------+------------------+-----------+---------+------+----------+------------+-------+-----+\n",
      "|100010|     0|    0|          252|    1|    0|      0|16.176470588235293|          5|       17|    52|         4|           7|      2|    0|\n",
      "|200002|     1|    1|          339|    1|    0|      0| 20.36842105263158|          6|       21|     7|         4|           8|      2|    0|\n",
      "|   125|     1|    0|            8|    1|    0|      0|               8.0|          0|        0|     1|         0|           0|      0|    1|\n",
      "|   124|     0|    1|         2232|    1|    0|      0|169.95833333333334|         41|      171|     4|        74|         118|      0|    0|\n",
      "|    51|     1|    1|         1385|    0|    0|      1| 87.95833333333333|         21|      100|     0|        28|          52|      0|    1|\n",
      "|     7|     1|    0|          142|    0|    0|      1|10.714285714285714|          1|        7|    16|         1|           5|      2|    0|\n",
      "|    15|     1|    1|         1302|    0|    0|      1|             79.75|         14|       81|     1|        31|          59|      0|    0|\n",
      "|    54|     0|    1|         1744|    0|    0|      1|           118.375|         29|      163|    47|        33|          72|      1|    1|\n",
      "|   155|     0|    1|          643|    0|    0|      1| 37.27272727272727|          3|       58|     8|        11|          24|      2|    0|\n",
      "|100014|     1|    1|          233|    0|    0|      1|21.416666666666668|          3|       17|     2|         6|           7|      0|    1|\n",
      "|   132|     0|    1|         1299|    1|    0|      0| 80.33333333333333|         17|       96|     2|        41|          38|      1|    0|\n",
      "|   154|     0|    0|           78|    0|    0|      1|              10.5|          0|       11|    10|         3|           1|      0|    0|\n",
      "|   101|     1|    1|         1241|    0|    0|      1|            74.875|         16|       86|     8|        29|          61|      1|    1|\n",
      "|    11|     0|    1|          534|    0|    0|      1|26.958333333333332|          9|       40|    39|         6|          20|      9|    0|\n",
      "|   138|     1|    1|         1332|    1|    0|      0|             86.25|         24|       95|    17|        41|          67|      1|    0|\n",
      "|300017|     0|    1|         2070|    1|    0|      0|151.33333333333334|         28|      303|    11|        63|         113|      0|    0|\n",
      "|100021|     1|    0|          207|    1|    0|      0|            14.375|          5|       11|    30|         7|           7|      2|    1|\n",
      "|    29|     1|    1|         1804|    1|    0|      0|126.16666666666667|         22|      154|    22|        47|          89|      5|    1|\n",
      "|    69|     0|    1|          865|    0|    0|      1|            46.875|          9|       72|     3|        12|          33|      1|    0|\n",
      "|   112|     1|    0|          195|    0|    0|      1|              21.5|          3|        9|    21|         7|           7|      2|    0|\n",
      "+------+------+-----+-------------+-----+-----+-------+------------------+-----------+---------+------+----------+------------+-------+-----+\n",
      "only showing top 20 rows\n",
      "\n"
     ]
    },
    {
     "data": {
      "text/plain": [
       "DataFrame[userId: string, gender: int, level: int, artists count: bigint, apple: bigint, linux: bigint, windows: bigint, avg songs: double, thumbs down: bigint, thumbs up: bigint, advert: bigint, add friend: bigint, add playlist: bigint, upgrade: bigint, churn: bigint]"
      ]
     },
     "execution_count": 52,
     "metadata": {},
     "output_type": "execute_result"
    }
   ],
   "source": [
    "# remove the null values in the final dataframe as not all values are filled in for all users\n",
    "df_features = df_features.fillna(0)\n",
    "\n",
    "df_features.show()\n",
    "df_features"
   ]
  },
  {
   "cell_type": "code",
   "execution_count": 53,
   "metadata": {},
   "outputs": [
    {
     "name": "stdout",
     "output_type": "stream",
     "text": [
      "root\n",
      " |-- userId: string (nullable = true)\n",
      " |-- gender: integer (nullable = true)\n",
      " |-- level: integer (nullable = true)\n",
      " |-- artists count: long (nullable = true)\n",
      " |-- apple: long (nullable = true)\n",
      " |-- linux: long (nullable = true)\n",
      " |-- windows: long (nullable = true)\n",
      " |-- avg songs: double (nullable = false)\n",
      " |-- thumbs down: long (nullable = true)\n",
      " |-- thumbs up: long (nullable = true)\n",
      " |-- advert: long (nullable = true)\n",
      " |-- add friend: long (nullable = true)\n",
      " |-- add playlist: long (nullable = true)\n",
      " |-- upgrade: long (nullable = true)\n",
      " |-- churn: long (nullable = true)\n",
      "\n"
     ]
    }
   ],
   "source": [
    "df_features.printSchema()"
   ]
  },
  {
   "cell_type": "code",
   "execution_count": 54,
   "metadata": {},
   "outputs": [
    {
     "data": {
      "text/html": [
       "<style  type=\"text/css\" >\n",
       "    #T_9f783efa_4efe_11ea_aa64_6245b4f99c6erow0_col0 {\n",
       "            background-color:  #b40426;\n",
       "            color:  #f1f1f1;\n",
       "        }    #T_9f783efa_4efe_11ea_aa64_6245b4f99c6erow0_col1 {\n",
       "            background-color:  #cdd9ec;\n",
       "            color:  #000000;\n",
       "        }    #T_9f783efa_4efe_11ea_aa64_6245b4f99c6erow0_col2 {\n",
       "            background-color:  #bbd1f8;\n",
       "            color:  #000000;\n",
       "        }    #T_9f783efa_4efe_11ea_aa64_6245b4f99c6erow0_col3 {\n",
       "            background-color:  #e2dad5;\n",
       "            color:  #000000;\n",
       "        }    #T_9f783efa_4efe_11ea_aa64_6245b4f99c6erow0_col4 {\n",
       "            background-color:  #e3d9d3;\n",
       "            color:  #000000;\n",
       "        }    #T_9f783efa_4efe_11ea_aa64_6245b4f99c6erow0_col5 {\n",
       "            background-color:  #c0d4f5;\n",
       "            color:  #000000;\n",
       "        }    #T_9f783efa_4efe_11ea_aa64_6245b4f99c6erow0_col6 {\n",
       "            background-color:  #bbd1f8;\n",
       "            color:  #000000;\n",
       "        }    #T_9f783efa_4efe_11ea_aa64_6245b4f99c6erow0_col7 {\n",
       "            background-color:  #c0d4f5;\n",
       "            color:  #000000;\n",
       "        }    #T_9f783efa_4efe_11ea_aa64_6245b4f99c6erow0_col8 {\n",
       "            background-color:  #b9d0f9;\n",
       "            color:  #000000;\n",
       "        }    #T_9f783efa_4efe_11ea_aa64_6245b4f99c6erow0_col9 {\n",
       "            background-color:  #c0d4f5;\n",
       "            color:  #000000;\n",
       "        }    #T_9f783efa_4efe_11ea_aa64_6245b4f99c6erow0_col10 {\n",
       "            background-color:  #b6cefa;\n",
       "            color:  #000000;\n",
       "        }    #T_9f783efa_4efe_11ea_aa64_6245b4f99c6erow0_col11 {\n",
       "            background-color:  #b9d0f9;\n",
       "            color:  #000000;\n",
       "        }    #T_9f783efa_4efe_11ea_aa64_6245b4f99c6erow0_col12 {\n",
       "            background-color:  #c1d4f4;\n",
       "            color:  #000000;\n",
       "        }    #T_9f783efa_4efe_11ea_aa64_6245b4f99c6erow0_col13 {\n",
       "            background-color:  #e1dad6;\n",
       "            color:  #000000;\n",
       "        }    #T_9f783efa_4efe_11ea_aa64_6245b4f99c6erow1_col0 {\n",
       "            background-color:  #cdd9ec;\n",
       "            color:  #000000;\n",
       "        }    #T_9f783efa_4efe_11ea_aa64_6245b4f99c6erow1_col1 {\n",
       "            background-color:  #b40426;\n",
       "            color:  #f1f1f1;\n",
       "        }    #T_9f783efa_4efe_11ea_aa64_6245b4f99c6erow1_col2 {\n",
       "            background-color:  #f6a385;\n",
       "            color:  #000000;\n",
       "        }    #T_9f783efa_4efe_11ea_aa64_6245b4f99c6erow1_col3 {\n",
       "            background-color:  #bfd3f6;\n",
       "            color:  #000000;\n",
       "        }    #T_9f783efa_4efe_11ea_aa64_6245b4f99c6erow1_col4 {\n",
       "            background-color:  #dddcdc;\n",
       "            color:  #000000;\n",
       "        }    #T_9f783efa_4efe_11ea_aa64_6245b4f99c6erow1_col5 {\n",
       "            background-color:  #e6d7cf;\n",
       "            color:  #000000;\n",
       "        }    #T_9f783efa_4efe_11ea_aa64_6245b4f99c6erow1_col6 {\n",
       "            background-color:  #f7b497;\n",
       "            color:  #000000;\n",
       "        }    #T_9f783efa_4efe_11ea_aa64_6245b4f99c6erow1_col7 {\n",
       "            background-color:  #f4c5ad;\n",
       "            color:  #000000;\n",
       "        }    #T_9f783efa_4efe_11ea_aa64_6245b4f99c6erow1_col8 {\n",
       "            background-color:  #f7b194;\n",
       "            color:  #000000;\n",
       "        }    #T_9f783efa_4efe_11ea_aa64_6245b4f99c6erow1_col9 {\n",
       "            background-color:  #bcd2f7;\n",
       "            color:  #000000;\n",
       "        }    #T_9f783efa_4efe_11ea_aa64_6245b4f99c6erow1_col10 {\n",
       "            background-color:  #f7b194;\n",
       "            color:  #000000;\n",
       "        }    #T_9f783efa_4efe_11ea_aa64_6245b4f99c6erow1_col11 {\n",
       "            background-color:  #f7b396;\n",
       "            color:  #000000;\n",
       "        }    #T_9f783efa_4efe_11ea_aa64_6245b4f99c6erow1_col12 {\n",
       "            background-color:  #e1dad6;\n",
       "            color:  #000000;\n",
       "        }    #T_9f783efa_4efe_11ea_aa64_6245b4f99c6erow1_col13 {\n",
       "            background-color:  #cdd9ec;\n",
       "            color:  #000000;\n",
       "        }    #T_9f783efa_4efe_11ea_aa64_6245b4f99c6erow2_col0 {\n",
       "            background-color:  #bbd1f8;\n",
       "            color:  #000000;\n",
       "        }    #T_9f783efa_4efe_11ea_aa64_6245b4f99c6erow2_col1 {\n",
       "            background-color:  #f6a385;\n",
       "            color:  #000000;\n",
       "        }    #T_9f783efa_4efe_11ea_aa64_6245b4f99c6erow2_col2 {\n",
       "            background-color:  #b40426;\n",
       "            color:  #f1f1f1;\n",
       "        }    #T_9f783efa_4efe_11ea_aa64_6245b4f99c6erow2_col3 {\n",
       "            background-color:  #d4dbe6;\n",
       "            color:  #000000;\n",
       "        }    #T_9f783efa_4efe_11ea_aa64_6245b4f99c6erow2_col4 {\n",
       "            background-color:  #c7d7f0;\n",
       "            color:  #000000;\n",
       "        }    #T_9f783efa_4efe_11ea_aa64_6245b4f99c6erow2_col5 {\n",
       "            background-color:  #dddcdc;\n",
       "            color:  #000000;\n",
       "        }    #T_9f783efa_4efe_11ea_aa64_6245b4f99c6erow2_col6 {\n",
       "            background-color:  #b8122a;\n",
       "            color:  #f1f1f1;\n",
       "        }    #T_9f783efa_4efe_11ea_aa64_6245b4f99c6erow2_col7 {\n",
       "            background-color:  #d1493f;\n",
       "            color:  #f1f1f1;\n",
       "        }    #T_9f783efa_4efe_11ea_aa64_6245b4f99c6erow2_col8 {\n",
       "            background-color:  #c12b30;\n",
       "            color:  #f1f1f1;\n",
       "        }    #T_9f783efa_4efe_11ea_aa64_6245b4f99c6erow2_col9 {\n",
       "            background-color:  #f6bea4;\n",
       "            color:  #000000;\n",
       "        }    #T_9f783efa_4efe_11ea_aa64_6245b4f99c6erow2_col10 {\n",
       "            background-color:  #c12b30;\n",
       "            color:  #f1f1f1;\n",
       "        }    #T_9f783efa_4efe_11ea_aa64_6245b4f99c6erow2_col11 {\n",
       "            background-color:  #ba162b;\n",
       "            color:  #f1f1f1;\n",
       "        }    #T_9f783efa_4efe_11ea_aa64_6245b4f99c6erow2_col12 {\n",
       "            background-color:  #f7b396;\n",
       "            color:  #000000;\n",
       "        }    #T_9f783efa_4efe_11ea_aa64_6245b4f99c6erow2_col13 {\n",
       "            background-color:  #bcd2f7;\n",
       "            color:  #000000;\n",
       "        }    #T_9f783efa_4efe_11ea_aa64_6245b4f99c6erow3_col0 {\n",
       "            background-color:  #e2dad5;\n",
       "            color:  #000000;\n",
       "        }    #T_9f783efa_4efe_11ea_aa64_6245b4f99c6erow3_col1 {\n",
       "            background-color:  #bfd3f6;\n",
       "            color:  #000000;\n",
       "        }    #T_9f783efa_4efe_11ea_aa64_6245b4f99c6erow3_col2 {\n",
       "            background-color:  #d4dbe6;\n",
       "            color:  #000000;\n",
       "        }    #T_9f783efa_4efe_11ea_aa64_6245b4f99c6erow3_col3 {\n",
       "            background-color:  #b40426;\n",
       "            color:  #f1f1f1;\n",
       "        }    #T_9f783efa_4efe_11ea_aa64_6245b4f99c6erow3_col4 {\n",
       "            background-color:  #b3cdfb;\n",
       "            color:  #000000;\n",
       "        }    #T_9f783efa_4efe_11ea_aa64_6245b4f99c6erow3_col5 {\n",
       "            background-color:  #3b4cc0;\n",
       "            color:  #f1f1f1;\n",
       "        }    #T_9f783efa_4efe_11ea_aa64_6245b4f99c6erow3_col6 {\n",
       "            background-color:  #d5dbe5;\n",
       "            color:  #000000;\n",
       "        }    #T_9f783efa_4efe_11ea_aa64_6245b4f99c6erow3_col7 {\n",
       "            background-color:  #d9dce1;\n",
       "            color:  #000000;\n",
       "        }    #T_9f783efa_4efe_11ea_aa64_6245b4f99c6erow3_col8 {\n",
       "            background-color:  #d5dbe5;\n",
       "            color:  #000000;\n",
       "        }    #T_9f783efa_4efe_11ea_aa64_6245b4f99c6erow3_col9 {\n",
       "            background-color:  #dadce0;\n",
       "            color:  #000000;\n",
       "        }    #T_9f783efa_4efe_11ea_aa64_6245b4f99c6erow3_col10 {\n",
       "            background-color:  #d4dbe6;\n",
       "            color:  #000000;\n",
       "        }    #T_9f783efa_4efe_11ea_aa64_6245b4f99c6erow3_col11 {\n",
       "            background-color:  #d8dce2;\n",
       "            color:  #000000;\n",
       "        }    #T_9f783efa_4efe_11ea_aa64_6245b4f99c6erow3_col12 {\n",
       "            background-color:  #cdd9ec;\n",
       "            color:  #000000;\n",
       "        }    #T_9f783efa_4efe_11ea_aa64_6245b4f99c6erow3_col13 {\n",
       "            background-color:  #d4dbe6;\n",
       "            color:  #000000;\n",
       "        }    #T_9f783efa_4efe_11ea_aa64_6245b4f99c6erow4_col0 {\n",
       "            background-color:  #e3d9d3;\n",
       "            color:  #000000;\n",
       "        }    #T_9f783efa_4efe_11ea_aa64_6245b4f99c6erow4_col1 {\n",
       "            background-color:  #dddcdc;\n",
       "            color:  #000000;\n",
       "        }    #T_9f783efa_4efe_11ea_aa64_6245b4f99c6erow4_col2 {\n",
       "            background-color:  #c7d7f0;\n",
       "            color:  #000000;\n",
       "        }    #T_9f783efa_4efe_11ea_aa64_6245b4f99c6erow4_col3 {\n",
       "            background-color:  #b3cdfb;\n",
       "            color:  #000000;\n",
       "        }    #T_9f783efa_4efe_11ea_aa64_6245b4f99c6erow4_col4 {\n",
       "            background-color:  #b40426;\n",
       "            color:  #f1f1f1;\n",
       "        }    #T_9f783efa_4efe_11ea_aa64_6245b4f99c6erow4_col5 {\n",
       "            background-color:  #afcafc;\n",
       "            color:  #000000;\n",
       "        }    #T_9f783efa_4efe_11ea_aa64_6245b4f99c6erow4_col6 {\n",
       "            background-color:  #cad8ef;\n",
       "            color:  #000000;\n",
       "        }    #T_9f783efa_4efe_11ea_aa64_6245b4f99c6erow4_col7 {\n",
       "            background-color:  #c9d7f0;\n",
       "            color:  #000000;\n",
       "        }    #T_9f783efa_4efe_11ea_aa64_6245b4f99c6erow4_col8 {\n",
       "            background-color:  #cad8ef;\n",
       "            color:  #000000;\n",
       "        }    #T_9f783efa_4efe_11ea_aa64_6245b4f99c6erow4_col9 {\n",
       "            background-color:  #cbd8ee;\n",
       "            color:  #000000;\n",
       "        }    #T_9f783efa_4efe_11ea_aa64_6245b4f99c6erow4_col10 {\n",
       "            background-color:  #cfdaea;\n",
       "            color:  #000000;\n",
       "        }    #T_9f783efa_4efe_11ea_aa64_6245b4f99c6erow4_col11 {\n",
       "            background-color:  #c7d7f0;\n",
       "            color:  #000000;\n",
       "        }    #T_9f783efa_4efe_11ea_aa64_6245b4f99c6erow4_col12 {\n",
       "            background-color:  #cedaeb;\n",
       "            color:  #000000;\n",
       "        }    #T_9f783efa_4efe_11ea_aa64_6245b4f99c6erow4_col13 {\n",
       "            background-color:  #e4d9d2;\n",
       "            color:  #000000;\n",
       "        }    #T_9f783efa_4efe_11ea_aa64_6245b4f99c6erow5_col0 {\n",
       "            background-color:  #c0d4f5;\n",
       "            color:  #000000;\n",
       "        }    #T_9f783efa_4efe_11ea_aa64_6245b4f99c6erow5_col1 {\n",
       "            background-color:  #e6d7cf;\n",
       "            color:  #000000;\n",
       "        }    #T_9f783efa_4efe_11ea_aa64_6245b4f99c6erow5_col2 {\n",
       "            background-color:  #dddcdc;\n",
       "            color:  #000000;\n",
       "        }    #T_9f783efa_4efe_11ea_aa64_6245b4f99c6erow5_col3 {\n",
       "            background-color:  #3b4cc0;\n",
       "            color:  #f1f1f1;\n",
       "        }    #T_9f783efa_4efe_11ea_aa64_6245b4f99c6erow5_col4 {\n",
       "            background-color:  #afcafc;\n",
       "            color:  #000000;\n",
       "        }    #T_9f783efa_4efe_11ea_aa64_6245b4f99c6erow5_col5 {\n",
       "            background-color:  #b40426;\n",
       "            color:  #f1f1f1;\n",
       "        }    #T_9f783efa_4efe_11ea_aa64_6245b4f99c6erow5_col6 {\n",
       "            background-color:  #dbdcde;\n",
       "            color:  #000000;\n",
       "        }    #T_9f783efa_4efe_11ea_aa64_6245b4f99c6erow5_col7 {\n",
       "            background-color:  #d8dce2;\n",
       "            color:  #000000;\n",
       "        }    #T_9f783efa_4efe_11ea_aa64_6245b4f99c6erow5_col8 {\n",
       "            background-color:  #dbdcde;\n",
       "            color:  #000000;\n",
       "        }    #T_9f783efa_4efe_11ea_aa64_6245b4f99c6erow5_col9 {\n",
       "            background-color:  #d6dce4;\n",
       "            color:  #000000;\n",
       "        }    #T_9f783efa_4efe_11ea_aa64_6245b4f99c6erow5_col10 {\n",
       "            background-color:  #dadce0;\n",
       "            color:  #000000;\n",
       "        }    #T_9f783efa_4efe_11ea_aa64_6245b4f99c6erow5_col11 {\n",
       "            background-color:  #d9dce1;\n",
       "            color:  #000000;\n",
       "        }    #T_9f783efa_4efe_11ea_aa64_6245b4f99c6erow5_col12 {\n",
       "            background-color:  #e0dbd8;\n",
       "            color:  #000000;\n",
       "        }    #T_9f783efa_4efe_11ea_aa64_6245b4f99c6erow5_col13 {\n",
       "            background-color:  #d1dae9;\n",
       "            color:  #000000;\n",
       "        }    #T_9f783efa_4efe_11ea_aa64_6245b4f99c6erow6_col0 {\n",
       "            background-color:  #bbd1f8;\n",
       "            color:  #000000;\n",
       "        }    #T_9f783efa_4efe_11ea_aa64_6245b4f99c6erow6_col1 {\n",
       "            background-color:  #f7b497;\n",
       "            color:  #000000;\n",
       "        }    #T_9f783efa_4efe_11ea_aa64_6245b4f99c6erow6_col2 {\n",
       "            background-color:  #b8122a;\n",
       "            color:  #f1f1f1;\n",
       "        }    #T_9f783efa_4efe_11ea_aa64_6245b4f99c6erow6_col3 {\n",
       "            background-color:  #d5dbe5;\n",
       "            color:  #000000;\n",
       "        }    #T_9f783efa_4efe_11ea_aa64_6245b4f99c6erow6_col4 {\n",
       "            background-color:  #cad8ef;\n",
       "            color:  #000000;\n",
       "        }    #T_9f783efa_4efe_11ea_aa64_6245b4f99c6erow6_col5 {\n",
       "            background-color:  #dbdcde;\n",
       "            color:  #000000;\n",
       "        }    #T_9f783efa_4efe_11ea_aa64_6245b4f99c6erow6_col6 {\n",
       "            background-color:  #b40426;\n",
       "            color:  #f1f1f1;\n",
       "        }    #T_9f783efa_4efe_11ea_aa64_6245b4f99c6erow6_col7 {\n",
       "            background-color:  #d0473d;\n",
       "            color:  #f1f1f1;\n",
       "        }    #T_9f783efa_4efe_11ea_aa64_6245b4f99c6erow6_col8 {\n",
       "            background-color:  #c0282f;\n",
       "            color:  #f1f1f1;\n",
       "        }    #T_9f783efa_4efe_11ea_aa64_6245b4f99c6erow6_col9 {\n",
       "            background-color:  #f7b89c;\n",
       "            color:  #000000;\n",
       "        }    #T_9f783efa_4efe_11ea_aa64_6245b4f99c6erow6_col10 {\n",
       "            background-color:  #be242e;\n",
       "            color:  #f1f1f1;\n",
       "        }    #T_9f783efa_4efe_11ea_aa64_6245b4f99c6erow6_col11 {\n",
       "            background-color:  #b70d28;\n",
       "            color:  #f1f1f1;\n",
       "        }    #T_9f783efa_4efe_11ea_aa64_6245b4f99c6erow6_col12 {\n",
       "            background-color:  #f7b194;\n",
       "            color:  #000000;\n",
       "        }    #T_9f783efa_4efe_11ea_aa64_6245b4f99c6erow6_col13 {\n",
       "            background-color:  #bed2f6;\n",
       "            color:  #000000;\n",
       "        }    #T_9f783efa_4efe_11ea_aa64_6245b4f99c6erow7_col0 {\n",
       "            background-color:  #c0d4f5;\n",
       "            color:  #000000;\n",
       "        }    #T_9f783efa_4efe_11ea_aa64_6245b4f99c6erow7_col1 {\n",
       "            background-color:  #f4c5ad;\n",
       "            color:  #000000;\n",
       "        }    #T_9f783efa_4efe_11ea_aa64_6245b4f99c6erow7_col2 {\n",
       "            background-color:  #d1493f;\n",
       "            color:  #f1f1f1;\n",
       "        }    #T_9f783efa_4efe_11ea_aa64_6245b4f99c6erow7_col3 {\n",
       "            background-color:  #d9dce1;\n",
       "            color:  #000000;\n",
       "        }    #T_9f783efa_4efe_11ea_aa64_6245b4f99c6erow7_col4 {\n",
       "            background-color:  #c9d7f0;\n",
       "            color:  #000000;\n",
       "        }    #T_9f783efa_4efe_11ea_aa64_6245b4f99c6erow7_col5 {\n",
       "            background-color:  #d8dce2;\n",
       "            color:  #000000;\n",
       "        }    #T_9f783efa_4efe_11ea_aa64_6245b4f99c6erow7_col6 {\n",
       "            background-color:  #d0473d;\n",
       "            color:  #f1f1f1;\n",
       "        }    #T_9f783efa_4efe_11ea_aa64_6245b4f99c6erow7_col7 {\n",
       "            background-color:  #b40426;\n",
       "            color:  #f1f1f1;\n",
       "        }    #T_9f783efa_4efe_11ea_aa64_6245b4f99c6erow7_col8 {\n",
       "            background-color:  #da5a49;\n",
       "            color:  #000000;\n",
       "        }    #T_9f783efa_4efe_11ea_aa64_6245b4f99c6erow7_col9 {\n",
       "            background-color:  #f6a283;\n",
       "            color:  #000000;\n",
       "        }    #T_9f783efa_4efe_11ea_aa64_6245b4f99c6erow7_col10 {\n",
       "            background-color:  #d44e41;\n",
       "            color:  #000000;\n",
       "        }    #T_9f783efa_4efe_11ea_aa64_6245b4f99c6erow7_col11 {\n",
       "            background-color:  #d24b40;\n",
       "            color:  #f1f1f1;\n",
       "        }    #T_9f783efa_4efe_11ea_aa64_6245b4f99c6erow7_col12 {\n",
       "            background-color:  #f7a688;\n",
       "            color:  #000000;\n",
       "        }    #T_9f783efa_4efe_11ea_aa64_6245b4f99c6erow7_col13 {\n",
       "            background-color:  #cbd8ee;\n",
       "            color:  #000000;\n",
       "        }    #T_9f783efa_4efe_11ea_aa64_6245b4f99c6erow8_col0 {\n",
       "            background-color:  #b9d0f9;\n",
       "            color:  #000000;\n",
       "        }    #T_9f783efa_4efe_11ea_aa64_6245b4f99c6erow8_col1 {\n",
       "            background-color:  #f7b194;\n",
       "            color:  #000000;\n",
       "        }    #T_9f783efa_4efe_11ea_aa64_6245b4f99c6erow8_col2 {\n",
       "            background-color:  #c12b30;\n",
       "            color:  #f1f1f1;\n",
       "        }    #T_9f783efa_4efe_11ea_aa64_6245b4f99c6erow8_col3 {\n",
       "            background-color:  #d5dbe5;\n",
       "            color:  #000000;\n",
       "        }    #T_9f783efa_4efe_11ea_aa64_6245b4f99c6erow8_col4 {\n",
       "            background-color:  #cad8ef;\n",
       "            color:  #000000;\n",
       "        }    #T_9f783efa_4efe_11ea_aa64_6245b4f99c6erow8_col5 {\n",
       "            background-color:  #dbdcde;\n",
       "            color:  #000000;\n",
       "        }    #T_9f783efa_4efe_11ea_aa64_6245b4f99c6erow8_col6 {\n",
       "            background-color:  #c0282f;\n",
       "            color:  #f1f1f1;\n",
       "        }    #T_9f783efa_4efe_11ea_aa64_6245b4f99c6erow8_col7 {\n",
       "            background-color:  #da5a49;\n",
       "            color:  #000000;\n",
       "        }    #T_9f783efa_4efe_11ea_aa64_6245b4f99c6erow8_col8 {\n",
       "            background-color:  #b40426;\n",
       "            color:  #f1f1f1;\n",
       "        }    #T_9f783efa_4efe_11ea_aa64_6245b4f99c6erow8_col9 {\n",
       "            background-color:  #f3c7b1;\n",
       "            color:  #000000;\n",
       "        }    #T_9f783efa_4efe_11ea_aa64_6245b4f99c6erow8_col10 {\n",
       "            background-color:  #c73635;\n",
       "            color:  #f1f1f1;\n",
       "        }    #T_9f783efa_4efe_11ea_aa64_6245b4f99c6erow8_col11 {\n",
       "            background-color:  #c0282f;\n",
       "            color:  #f1f1f1;\n",
       "        }    #T_9f783efa_4efe_11ea_aa64_6245b4f99c6erow8_col12 {\n",
       "            background-color:  #f7ba9f;\n",
       "            color:  #000000;\n",
       "        }    #T_9f783efa_4efe_11ea_aa64_6245b4f99c6erow8_col13 {\n",
       "            background-color:  #bbd1f8;\n",
       "            color:  #000000;\n",
       "        }    #T_9f783efa_4efe_11ea_aa64_6245b4f99c6erow9_col0 {\n",
       "            background-color:  #c0d4f5;\n",
       "            color:  #000000;\n",
       "        }    #T_9f783efa_4efe_11ea_aa64_6245b4f99c6erow9_col1 {\n",
       "            background-color:  #bcd2f7;\n",
       "            color:  #000000;\n",
       "        }    #T_9f783efa_4efe_11ea_aa64_6245b4f99c6erow9_col2 {\n",
       "            background-color:  #f6bea4;\n",
       "            color:  #000000;\n",
       "        }    #T_9f783efa_4efe_11ea_aa64_6245b4f99c6erow9_col3 {\n",
       "            background-color:  #dadce0;\n",
       "            color:  #000000;\n",
       "        }    #T_9f783efa_4efe_11ea_aa64_6245b4f99c6erow9_col4 {\n",
       "            background-color:  #cbd8ee;\n",
       "            color:  #000000;\n",
       "        }    #T_9f783efa_4efe_11ea_aa64_6245b4f99c6erow9_col5 {\n",
       "            background-color:  #d6dce4;\n",
       "            color:  #000000;\n",
       "        }    #T_9f783efa_4efe_11ea_aa64_6245b4f99c6erow9_col6 {\n",
       "            background-color:  #f7b89c;\n",
       "            color:  #000000;\n",
       "        }    #T_9f783efa_4efe_11ea_aa64_6245b4f99c6erow9_col7 {\n",
       "            background-color:  #f6a283;\n",
       "            color:  #000000;\n",
       "        }    #T_9f783efa_4efe_11ea_aa64_6245b4f99c6erow9_col8 {\n",
       "            background-color:  #f3c7b1;\n",
       "            color:  #000000;\n",
       "        }    #T_9f783efa_4efe_11ea_aa64_6245b4f99c6erow9_col9 {\n",
       "            background-color:  #b40426;\n",
       "            color:  #f1f1f1;\n",
       "        }    #T_9f783efa_4efe_11ea_aa64_6245b4f99c6erow9_col10 {\n",
       "            background-color:  #f7b89c;\n",
       "            color:  #000000;\n",
       "        }    #T_9f783efa_4efe_11ea_aa64_6245b4f99c6erow9_col11 {\n",
       "            background-color:  #f7bca1;\n",
       "            color:  #000000;\n",
       "        }    #T_9f783efa_4efe_11ea_aa64_6245b4f99c6erow9_col12 {\n",
       "            background-color:  #de614d;\n",
       "            color:  #000000;\n",
       "        }    #T_9f783efa_4efe_11ea_aa64_6245b4f99c6erow9_col13 {\n",
       "            background-color:  #d9dce1;\n",
       "            color:  #000000;\n",
       "        }    #T_9f783efa_4efe_11ea_aa64_6245b4f99c6erow10_col0 {\n",
       "            background-color:  #b6cefa;\n",
       "            color:  #000000;\n",
       "        }    #T_9f783efa_4efe_11ea_aa64_6245b4f99c6erow10_col1 {\n",
       "            background-color:  #f7b194;\n",
       "            color:  #000000;\n",
       "        }    #T_9f783efa_4efe_11ea_aa64_6245b4f99c6erow10_col2 {\n",
       "            background-color:  #c12b30;\n",
       "            color:  #f1f1f1;\n",
       "        }    #T_9f783efa_4efe_11ea_aa64_6245b4f99c6erow10_col3 {\n",
       "            background-color:  #d4dbe6;\n",
       "            color:  #000000;\n",
       "        }    #T_9f783efa_4efe_11ea_aa64_6245b4f99c6erow10_col4 {\n",
       "            background-color:  #cfdaea;\n",
       "            color:  #000000;\n",
       "        }    #T_9f783efa_4efe_11ea_aa64_6245b4f99c6erow10_col5 {\n",
       "            background-color:  #dadce0;\n",
       "            color:  #000000;\n",
       "        }    #T_9f783efa_4efe_11ea_aa64_6245b4f99c6erow10_col6 {\n",
       "            background-color:  #be242e;\n",
       "            color:  #f1f1f1;\n",
       "        }    #T_9f783efa_4efe_11ea_aa64_6245b4f99c6erow10_col7 {\n",
       "            background-color:  #d44e41;\n",
       "            color:  #000000;\n",
       "        }    #T_9f783efa_4efe_11ea_aa64_6245b4f99c6erow10_col8 {\n",
       "            background-color:  #c73635;\n",
       "            color:  #f1f1f1;\n",
       "        }    #T_9f783efa_4efe_11ea_aa64_6245b4f99c6erow10_col9 {\n",
       "            background-color:  #f7b89c;\n",
       "            color:  #000000;\n",
       "        }    #T_9f783efa_4efe_11ea_aa64_6245b4f99c6erow10_col10 {\n",
       "            background-color:  #b40426;\n",
       "            color:  #f1f1f1;\n",
       "        }    #T_9f783efa_4efe_11ea_aa64_6245b4f99c6erow10_col11 {\n",
       "            background-color:  #c12b30;\n",
       "            color:  #f1f1f1;\n",
       "        }    #T_9f783efa_4efe_11ea_aa64_6245b4f99c6erow10_col12 {\n",
       "            background-color:  #f7ad90;\n",
       "            color:  #000000;\n",
       "        }    #T_9f783efa_4efe_11ea_aa64_6245b4f99c6erow10_col13 {\n",
       "            background-color:  #b9d0f9;\n",
       "            color:  #000000;\n",
       "        }    #T_9f783efa_4efe_11ea_aa64_6245b4f99c6erow11_col0 {\n",
       "            background-color:  #b9d0f9;\n",
       "            color:  #000000;\n",
       "        }    #T_9f783efa_4efe_11ea_aa64_6245b4f99c6erow11_col1 {\n",
       "            background-color:  #f7b396;\n",
       "            color:  #000000;\n",
       "        }    #T_9f783efa_4efe_11ea_aa64_6245b4f99c6erow11_col2 {\n",
       "            background-color:  #ba162b;\n",
       "            color:  #f1f1f1;\n",
       "        }    #T_9f783efa_4efe_11ea_aa64_6245b4f99c6erow11_col3 {\n",
       "            background-color:  #d8dce2;\n",
       "            color:  #000000;\n",
       "        }    #T_9f783efa_4efe_11ea_aa64_6245b4f99c6erow11_col4 {\n",
       "            background-color:  #c7d7f0;\n",
       "            color:  #000000;\n",
       "        }    #T_9f783efa_4efe_11ea_aa64_6245b4f99c6erow11_col5 {\n",
       "            background-color:  #d9dce1;\n",
       "            color:  #000000;\n",
       "        }    #T_9f783efa_4efe_11ea_aa64_6245b4f99c6erow11_col6 {\n",
       "            background-color:  #b70d28;\n",
       "            color:  #f1f1f1;\n",
       "        }    #T_9f783efa_4efe_11ea_aa64_6245b4f99c6erow11_col7 {\n",
       "            background-color:  #d24b40;\n",
       "            color:  #f1f1f1;\n",
       "        }    #T_9f783efa_4efe_11ea_aa64_6245b4f99c6erow11_col8 {\n",
       "            background-color:  #c0282f;\n",
       "            color:  #f1f1f1;\n",
       "        }    #T_9f783efa_4efe_11ea_aa64_6245b4f99c6erow11_col9 {\n",
       "            background-color:  #f7bca1;\n",
       "            color:  #000000;\n",
       "        }    #T_9f783efa_4efe_11ea_aa64_6245b4f99c6erow11_col10 {\n",
       "            background-color:  #c12b30;\n",
       "            color:  #f1f1f1;\n",
       "        }    #T_9f783efa_4efe_11ea_aa64_6245b4f99c6erow11_col11 {\n",
       "            background-color:  #b40426;\n",
       "            color:  #f1f1f1;\n",
       "        }    #T_9f783efa_4efe_11ea_aa64_6245b4f99c6erow11_col12 {\n",
       "            background-color:  #f7b194;\n",
       "            color:  #000000;\n",
       "        }    #T_9f783efa_4efe_11ea_aa64_6245b4f99c6erow11_col13 {\n",
       "            background-color:  #bed2f6;\n",
       "            color:  #000000;\n",
       "        }    #T_9f783efa_4efe_11ea_aa64_6245b4f99c6erow12_col0 {\n",
       "            background-color:  #c1d4f4;\n",
       "            color:  #000000;\n",
       "        }    #T_9f783efa_4efe_11ea_aa64_6245b4f99c6erow12_col1 {\n",
       "            background-color:  #e1dad6;\n",
       "            color:  #000000;\n",
       "        }    #T_9f783efa_4efe_11ea_aa64_6245b4f99c6erow12_col2 {\n",
       "            background-color:  #f7b396;\n",
       "            color:  #000000;\n",
       "        }    #T_9f783efa_4efe_11ea_aa64_6245b4f99c6erow12_col3 {\n",
       "            background-color:  #cdd9ec;\n",
       "            color:  #000000;\n",
       "        }    #T_9f783efa_4efe_11ea_aa64_6245b4f99c6erow12_col4 {\n",
       "            background-color:  #cedaeb;\n",
       "            color:  #000000;\n",
       "        }    #T_9f783efa_4efe_11ea_aa64_6245b4f99c6erow12_col5 {\n",
       "            background-color:  #e0dbd8;\n",
       "            color:  #000000;\n",
       "        }    #T_9f783efa_4efe_11ea_aa64_6245b4f99c6erow12_col6 {\n",
       "            background-color:  #f7b194;\n",
       "            color:  #000000;\n",
       "        }    #T_9f783efa_4efe_11ea_aa64_6245b4f99c6erow12_col7 {\n",
       "            background-color:  #f7a688;\n",
       "            color:  #000000;\n",
       "        }    #T_9f783efa_4efe_11ea_aa64_6245b4f99c6erow12_col8 {\n",
       "            background-color:  #f7ba9f;\n",
       "            color:  #000000;\n",
       "        }    #T_9f783efa_4efe_11ea_aa64_6245b4f99c6erow12_col9 {\n",
       "            background-color:  #de614d;\n",
       "            color:  #000000;\n",
       "        }    #T_9f783efa_4efe_11ea_aa64_6245b4f99c6erow12_col10 {\n",
       "            background-color:  #f7ad90;\n",
       "            color:  #000000;\n",
       "        }    #T_9f783efa_4efe_11ea_aa64_6245b4f99c6erow12_col11 {\n",
       "            background-color:  #f7b194;\n",
       "            color:  #000000;\n",
       "        }    #T_9f783efa_4efe_11ea_aa64_6245b4f99c6erow12_col12 {\n",
       "            background-color:  #b40426;\n",
       "            color:  #f1f1f1;\n",
       "        }    #T_9f783efa_4efe_11ea_aa64_6245b4f99c6erow12_col13 {\n",
       "            background-color:  #d4dbe6;\n",
       "            color:  #000000;\n",
       "        }    #T_9f783efa_4efe_11ea_aa64_6245b4f99c6erow13_col0 {\n",
       "            background-color:  #e1dad6;\n",
       "            color:  #000000;\n",
       "        }    #T_9f783efa_4efe_11ea_aa64_6245b4f99c6erow13_col1 {\n",
       "            background-color:  #cdd9ec;\n",
       "            color:  #000000;\n",
       "        }    #T_9f783efa_4efe_11ea_aa64_6245b4f99c6erow13_col2 {\n",
       "            background-color:  #bcd2f7;\n",
       "            color:  #000000;\n",
       "        }    #T_9f783efa_4efe_11ea_aa64_6245b4f99c6erow13_col3 {\n",
       "            background-color:  #d4dbe6;\n",
       "            color:  #000000;\n",
       "        }    #T_9f783efa_4efe_11ea_aa64_6245b4f99c6erow13_col4 {\n",
       "            background-color:  #e4d9d2;\n",
       "            color:  #000000;\n",
       "        }    #T_9f783efa_4efe_11ea_aa64_6245b4f99c6erow13_col5 {\n",
       "            background-color:  #d1dae9;\n",
       "            color:  #000000;\n",
       "        }    #T_9f783efa_4efe_11ea_aa64_6245b4f99c6erow13_col6 {\n",
       "            background-color:  #bed2f6;\n",
       "            color:  #000000;\n",
       "        }    #T_9f783efa_4efe_11ea_aa64_6245b4f99c6erow13_col7 {\n",
       "            background-color:  #cbd8ee;\n",
       "            color:  #000000;\n",
       "        }    #T_9f783efa_4efe_11ea_aa64_6245b4f99c6erow13_col8 {\n",
       "            background-color:  #bbd1f8;\n",
       "            color:  #000000;\n",
       "        }    #T_9f783efa_4efe_11ea_aa64_6245b4f99c6erow13_col9 {\n",
       "            background-color:  #d9dce1;\n",
       "            color:  #000000;\n",
       "        }    #T_9f783efa_4efe_11ea_aa64_6245b4f99c6erow13_col10 {\n",
       "            background-color:  #b9d0f9;\n",
       "            color:  #000000;\n",
       "        }    #T_9f783efa_4efe_11ea_aa64_6245b4f99c6erow13_col11 {\n",
       "            background-color:  #bed2f6;\n",
       "            color:  #000000;\n",
       "        }    #T_9f783efa_4efe_11ea_aa64_6245b4f99c6erow13_col12 {\n",
       "            background-color:  #d4dbe6;\n",
       "            color:  #000000;\n",
       "        }    #T_9f783efa_4efe_11ea_aa64_6245b4f99c6erow13_col13 {\n",
       "            background-color:  #b40426;\n",
       "            color:  #f1f1f1;\n",
       "        }</style><table id=\"T_9f783efa_4efe_11ea_aa64_6245b4f99c6e\" ><thead>    <tr>        <th class=\"blank level0\" ></th>        <th class=\"col_heading level0 col0\" >gender</th>        <th class=\"col_heading level0 col1\" >level</th>        <th class=\"col_heading level0 col2\" >artists count</th>        <th class=\"col_heading level0 col3\" >apple</th>        <th class=\"col_heading level0 col4\" >linux</th>        <th class=\"col_heading level0 col5\" >windows</th>        <th class=\"col_heading level0 col6\" >avg songs</th>        <th class=\"col_heading level0 col7\" >thumbs down</th>        <th class=\"col_heading level0 col8\" >thumbs up</th>        <th class=\"col_heading level0 col9\" >advert</th>        <th class=\"col_heading level0 col10\" >add friend</th>        <th class=\"col_heading level0 col11\" >add playlist</th>        <th class=\"col_heading level0 col12\" >upgrade</th>        <th class=\"col_heading level0 col13\" >churn</th>    </tr></thead><tbody>\n",
       "                <tr>\n",
       "                        <th id=\"T_9f783efa_4efe_11ea_aa64_6245b4f99c6elevel0_row0\" class=\"row_heading level0 row0\" >gender</th>\n",
       "                        <td id=\"T_9f783efa_4efe_11ea_aa64_6245b4f99c6erow0_col0\" class=\"data row0 col0\" >1</td>\n",
       "                        <td id=\"T_9f783efa_4efe_11ea_aa64_6245b4f99c6erow0_col1\" class=\"data row0 col1\" >-0.055</td>\n",
       "                        <td id=\"T_9f783efa_4efe_11ea_aa64_6245b4f99c6erow0_col2\" class=\"data row0 col2\" >-0.17</td>\n",
       "                        <td id=\"T_9f783efa_4efe_11ea_aa64_6245b4f99c6erow0_col3\" class=\"data row0 col3\" >0.092</td>\n",
       "                        <td id=\"T_9f783efa_4efe_11ea_aa64_6245b4f99c6erow0_col4\" class=\"data row0 col4\" >0.1</td>\n",
       "                        <td id=\"T_9f783efa_4efe_11ea_aa64_6245b4f99c6erow0_col5\" class=\"data row0 col5\" >-0.14</td>\n",
       "                        <td id=\"T_9f783efa_4efe_11ea_aa64_6245b4f99c6erow0_col6\" class=\"data row0 col6\" >-0.17</td>\n",
       "                        <td id=\"T_9f783efa_4efe_11ea_aa64_6245b4f99c6erow0_col7\" class=\"data row0 col7\" >-0.14</td>\n",
       "                        <td id=\"T_9f783efa_4efe_11ea_aa64_6245b4f99c6erow0_col8\" class=\"data row0 col8\" >-0.18</td>\n",
       "                        <td id=\"T_9f783efa_4efe_11ea_aa64_6245b4f99c6erow0_col9\" class=\"data row0 col9\" >-0.14</td>\n",
       "                        <td id=\"T_9f783efa_4efe_11ea_aa64_6245b4f99c6erow0_col10\" class=\"data row0 col10\" >-0.2</td>\n",
       "                        <td id=\"T_9f783efa_4efe_11ea_aa64_6245b4f99c6erow0_col11\" class=\"data row0 col11\" >-0.18</td>\n",
       "                        <td id=\"T_9f783efa_4efe_11ea_aa64_6245b4f99c6erow0_col12\" class=\"data row0 col12\" >-0.13</td>\n",
       "                        <td id=\"T_9f783efa_4efe_11ea_aa64_6245b4f99c6erow0_col13\" class=\"data row0 col13\" >0.085</td>\n",
       "            </tr>\n",
       "            <tr>\n",
       "                        <th id=\"T_9f783efa_4efe_11ea_aa64_6245b4f99c6elevel0_row1\" class=\"row_heading level0 row1\" >level</th>\n",
       "                        <td id=\"T_9f783efa_4efe_11ea_aa64_6245b4f99c6erow1_col0\" class=\"data row1 col0\" >-0.055</td>\n",
       "                        <td id=\"T_9f783efa_4efe_11ea_aa64_6245b4f99c6erow1_col1\" class=\"data row1 col1\" >1</td>\n",
       "                        <td id=\"T_9f783efa_4efe_11ea_aa64_6245b4f99c6erow1_col2\" class=\"data row1 col2\" >0.48</td>\n",
       "                        <td id=\"T_9f783efa_4efe_11ea_aa64_6245b4f99c6erow1_col3\" class=\"data row1 col3\" >-0.14</td>\n",
       "                        <td id=\"T_9f783efa_4efe_11ea_aa64_6245b4f99c6erow1_col4\" class=\"data row1 col4\" >0.052</td>\n",
       "                        <td id=\"T_9f783efa_4efe_11ea_aa64_6245b4f99c6erow1_col5\" class=\"data row1 col5\" >0.12</td>\n",
       "                        <td id=\"T_9f783efa_4efe_11ea_aa64_6245b4f99c6erow1_col6\" class=\"data row1 col6\" >0.39</td>\n",
       "                        <td id=\"T_9f783efa_4efe_11ea_aa64_6245b4f99c6erow1_col7\" class=\"data row1 col7\" >0.29</td>\n",
       "                        <td id=\"T_9f783efa_4efe_11ea_aa64_6245b4f99c6erow1_col8\" class=\"data row1 col8\" >0.4</td>\n",
       "                        <td id=\"T_9f783efa_4efe_11ea_aa64_6245b4f99c6erow1_col9\" class=\"data row1 col9\" >-0.16</td>\n",
       "                        <td id=\"T_9f783efa_4efe_11ea_aa64_6245b4f99c6erow1_col10\" class=\"data row1 col10\" >0.4</td>\n",
       "                        <td id=\"T_9f783efa_4efe_11ea_aa64_6245b4f99c6erow1_col11\" class=\"data row1 col11\" >0.39</td>\n",
       "                        <td id=\"T_9f783efa_4efe_11ea_aa64_6245b4f99c6erow1_col12\" class=\"data row1 col12\" >0.085</td>\n",
       "                        <td id=\"T_9f783efa_4efe_11ea_aa64_6245b4f99c6erow1_col13\" class=\"data row1 col13\" >-0.055</td>\n",
       "            </tr>\n",
       "            <tr>\n",
       "                        <th id=\"T_9f783efa_4efe_11ea_aa64_6245b4f99c6elevel0_row2\" class=\"row_heading level0 row2\" >artists count</th>\n",
       "                        <td id=\"T_9f783efa_4efe_11ea_aa64_6245b4f99c6erow2_col0\" class=\"data row2 col0\" >-0.17</td>\n",
       "                        <td id=\"T_9f783efa_4efe_11ea_aa64_6245b4f99c6erow2_col1\" class=\"data row2 col1\" >0.48</td>\n",
       "                        <td id=\"T_9f783efa_4efe_11ea_aa64_6245b4f99c6erow2_col2\" class=\"data row2 col2\" >1</td>\n",
       "                        <td id=\"T_9f783efa_4efe_11ea_aa64_6245b4f99c6erow2_col3\" class=\"data row2 col3\" >-0.011</td>\n",
       "                        <td id=\"T_9f783efa_4efe_11ea_aa64_6245b4f99c6erow2_col4\" class=\"data row2 col4\" >-0.09</td>\n",
       "                        <td id=\"T_9f783efa_4efe_11ea_aa64_6245b4f99c6erow2_col5\" class=\"data row2 col5\" >0.052</td>\n",
       "                        <td id=\"T_9f783efa_4efe_11ea_aa64_6245b4f99c6erow2_col6\" class=\"data row2 col6\" >0.97</td>\n",
       "                        <td id=\"T_9f783efa_4efe_11ea_aa64_6245b4f99c6erow2_col7\" class=\"data row2 col7\" >0.84</td>\n",
       "                        <td id=\"T_9f783efa_4efe_11ea_aa64_6245b4f99c6erow2_col8\" class=\"data row2 col8\" >0.93</td>\n",
       "                        <td id=\"T_9f783efa_4efe_11ea_aa64_6245b4f99c6erow2_col9\" class=\"data row2 col9\" >0.33</td>\n",
       "                        <td id=\"T_9f783efa_4efe_11ea_aa64_6245b4f99c6erow2_col10\" class=\"data row2 col10\" >0.93</td>\n",
       "                        <td id=\"T_9f783efa_4efe_11ea_aa64_6245b4f99c6erow2_col11\" class=\"data row2 col11\" >0.97</td>\n",
       "                        <td id=\"T_9f783efa_4efe_11ea_aa64_6245b4f99c6erow2_col12\" class=\"data row2 col12\" >0.4</td>\n",
       "                        <td id=\"T_9f783efa_4efe_11ea_aa64_6245b4f99c6erow2_col13\" class=\"data row2 col13\" >-0.16</td>\n",
       "            </tr>\n",
       "            <tr>\n",
       "                        <th id=\"T_9f783efa_4efe_11ea_aa64_6245b4f99c6elevel0_row3\" class=\"row_heading level0 row3\" >apple</th>\n",
       "                        <td id=\"T_9f783efa_4efe_11ea_aa64_6245b4f99c6erow3_col0\" class=\"data row3 col0\" >0.092</td>\n",
       "                        <td id=\"T_9f783efa_4efe_11ea_aa64_6245b4f99c6erow3_col1\" class=\"data row3 col1\" >-0.14</td>\n",
       "                        <td id=\"T_9f783efa_4efe_11ea_aa64_6245b4f99c6erow3_col2\" class=\"data row3 col2\" >-0.011</td>\n",
       "                        <td id=\"T_9f783efa_4efe_11ea_aa64_6245b4f99c6erow3_col3\" class=\"data row3 col3\" >1</td>\n",
       "                        <td id=\"T_9f783efa_4efe_11ea_aa64_6245b4f99c6erow3_col4\" class=\"data row3 col4\" >-0.22</td>\n",
       "                        <td id=\"T_9f783efa_4efe_11ea_aa64_6245b4f99c6erow3_col5\" class=\"data row3 col5\" >-0.9</td>\n",
       "                        <td id=\"T_9f783efa_4efe_11ea_aa64_6245b4f99c6erow3_col6\" class=\"data row3 col6\" >-0.0031</td>\n",
       "                        <td id=\"T_9f783efa_4efe_11ea_aa64_6245b4f99c6erow3_col7\" class=\"data row3 col7\" >0.022</td>\n",
       "                        <td id=\"T_9f783efa_4efe_11ea_aa64_6245b4f99c6erow3_col8\" class=\"data row3 col8\" >-0.0067</td>\n",
       "                        <td id=\"T_9f783efa_4efe_11ea_aa64_6245b4f99c6erow3_col9\" class=\"data row3 col9\" >0.034</td>\n",
       "                        <td id=\"T_9f783efa_4efe_11ea_aa64_6245b4f99c6erow3_col10\" class=\"data row3 col10\" >-0.0087</td>\n",
       "                        <td id=\"T_9f783efa_4efe_11ea_aa64_6245b4f99c6erow3_col11\" class=\"data row3 col11\" >0.017</td>\n",
       "                        <td id=\"T_9f783efa_4efe_11ea_aa64_6245b4f99c6erow3_col12\" class=\"data row3 col12\" >-0.057</td>\n",
       "                        <td id=\"T_9f783efa_4efe_11ea_aa64_6245b4f99c6erow3_col13\" class=\"data row3 col13\" >-0.012</td>\n",
       "            </tr>\n",
       "            <tr>\n",
       "                        <th id=\"T_9f783efa_4efe_11ea_aa64_6245b4f99c6elevel0_row4\" class=\"row_heading level0 row4\" >linux</th>\n",
       "                        <td id=\"T_9f783efa_4efe_11ea_aa64_6245b4f99c6erow4_col0\" class=\"data row4 col0\" >0.1</td>\n",
       "                        <td id=\"T_9f783efa_4efe_11ea_aa64_6245b4f99c6erow4_col1\" class=\"data row4 col1\" >0.052</td>\n",
       "                        <td id=\"T_9f783efa_4efe_11ea_aa64_6245b4f99c6erow4_col2\" class=\"data row4 col2\" >-0.09</td>\n",
       "                        <td id=\"T_9f783efa_4efe_11ea_aa64_6245b4f99c6erow4_col3\" class=\"data row4 col3\" >-0.22</td>\n",
       "                        <td id=\"T_9f783efa_4efe_11ea_aa64_6245b4f99c6erow4_col4\" class=\"data row4 col4\" >1</td>\n",
       "                        <td id=\"T_9f783efa_4efe_11ea_aa64_6245b4f99c6erow4_col5\" class=\"data row4 col5\" >-0.23</td>\n",
       "                        <td id=\"T_9f783efa_4efe_11ea_aa64_6245b4f99c6erow4_col6\" class=\"data row4 col6\" >-0.082</td>\n",
       "                        <td id=\"T_9f783efa_4efe_11ea_aa64_6245b4f99c6erow4_col7\" class=\"data row4 col7\" >-0.088</td>\n",
       "                        <td id=\"T_9f783efa_4efe_11ea_aa64_6245b4f99c6erow4_col8\" class=\"data row4 col8\" >-0.08</td>\n",
       "                        <td id=\"T_9f783efa_4efe_11ea_aa64_6245b4f99c6erow4_col9\" class=\"data row4 col9\" >-0.073</td>\n",
       "                        <td id=\"T_9f783efa_4efe_11ea_aa64_6245b4f99c6erow4_col10\" class=\"data row4 col10\" >-0.045</td>\n",
       "                        <td id=\"T_9f783efa_4efe_11ea_aa64_6245b4f99c6erow4_col11\" class=\"data row4 col11\" >-0.095</td>\n",
       "                        <td id=\"T_9f783efa_4efe_11ea_aa64_6245b4f99c6erow4_col12\" class=\"data row4 col12\" >-0.051</td>\n",
       "                        <td id=\"T_9f783efa_4efe_11ea_aa64_6245b4f99c6erow4_col13\" class=\"data row4 col13\" >0.1</td>\n",
       "            </tr>\n",
       "            <tr>\n",
       "                        <th id=\"T_9f783efa_4efe_11ea_aa64_6245b4f99c6elevel0_row5\" class=\"row_heading level0 row5\" >windows</th>\n",
       "                        <td id=\"T_9f783efa_4efe_11ea_aa64_6245b4f99c6erow5_col0\" class=\"data row5 col0\" >-0.14</td>\n",
       "                        <td id=\"T_9f783efa_4efe_11ea_aa64_6245b4f99c6erow5_col1\" class=\"data row5 col1\" >0.12</td>\n",
       "                        <td id=\"T_9f783efa_4efe_11ea_aa64_6245b4f99c6erow5_col2\" class=\"data row5 col2\" >0.052</td>\n",
       "                        <td id=\"T_9f783efa_4efe_11ea_aa64_6245b4f99c6erow5_col3\" class=\"data row5 col3\" >-0.9</td>\n",
       "                        <td id=\"T_9f783efa_4efe_11ea_aa64_6245b4f99c6erow5_col4\" class=\"data row5 col4\" >-0.23</td>\n",
       "                        <td id=\"T_9f783efa_4efe_11ea_aa64_6245b4f99c6erow5_col5\" class=\"data row5 col5\" >1</td>\n",
       "                        <td id=\"T_9f783efa_4efe_11ea_aa64_6245b4f99c6erow5_col6\" class=\"data row5 col6\" >0.04</td>\n",
       "                        <td id=\"T_9f783efa_4efe_11ea_aa64_6245b4f99c6erow5_col7\" class=\"data row5 col7\" >0.017</td>\n",
       "                        <td id=\"T_9f783efa_4efe_11ea_aa64_6245b4f99c6erow5_col8\" class=\"data row5 col8\" >0.043</td>\n",
       "                        <td id=\"T_9f783efa_4efe_11ea_aa64_6245b4f99c6erow5_col9\" class=\"data row5 col9\" >-0.00094</td>\n",
       "                        <td id=\"T_9f783efa_4efe_11ea_aa64_6245b4f99c6erow5_col10\" class=\"data row5 col10\" >0.029</td>\n",
       "                        <td id=\"T_9f783efa_4efe_11ea_aa64_6245b4f99c6erow5_col11\" class=\"data row5 col11\" >0.025</td>\n",
       "                        <td id=\"T_9f783efa_4efe_11ea_aa64_6245b4f99c6erow5_col12\" class=\"data row5 col12\" >0.079</td>\n",
       "                        <td id=\"T_9f783efa_4efe_11ea_aa64_6245b4f99c6erow5_col13\" class=\"data row5 col13\" >-0.035</td>\n",
       "            </tr>\n",
       "            <tr>\n",
       "                        <th id=\"T_9f783efa_4efe_11ea_aa64_6245b4f99c6elevel0_row6\" class=\"row_heading level0 row6\" >avg songs</th>\n",
       "                        <td id=\"T_9f783efa_4efe_11ea_aa64_6245b4f99c6erow6_col0\" class=\"data row6 col0\" >-0.17</td>\n",
       "                        <td id=\"T_9f783efa_4efe_11ea_aa64_6245b4f99c6erow6_col1\" class=\"data row6 col1\" >0.39</td>\n",
       "                        <td id=\"T_9f783efa_4efe_11ea_aa64_6245b4f99c6erow6_col2\" class=\"data row6 col2\" >0.97</td>\n",
       "                        <td id=\"T_9f783efa_4efe_11ea_aa64_6245b4f99c6erow6_col3\" class=\"data row6 col3\" >-0.0031</td>\n",
       "                        <td id=\"T_9f783efa_4efe_11ea_aa64_6245b4f99c6erow6_col4\" class=\"data row6 col4\" >-0.082</td>\n",
       "                        <td id=\"T_9f783efa_4efe_11ea_aa64_6245b4f99c6erow6_col5\" class=\"data row6 col5\" >0.04</td>\n",
       "                        <td id=\"T_9f783efa_4efe_11ea_aa64_6245b4f99c6erow6_col6\" class=\"data row6 col6\" >1</td>\n",
       "                        <td id=\"T_9f783efa_4efe_11ea_aa64_6245b4f99c6erow6_col7\" class=\"data row6 col7\" >0.85</td>\n",
       "                        <td id=\"T_9f783efa_4efe_11ea_aa64_6245b4f99c6erow6_col8\" class=\"data row6 col8\" >0.94</td>\n",
       "                        <td id=\"T_9f783efa_4efe_11ea_aa64_6245b4f99c6erow6_col9\" class=\"data row6 col9\" >0.36</td>\n",
       "                        <td id=\"T_9f783efa_4efe_11ea_aa64_6245b4f99c6erow6_col10\" class=\"data row6 col10\" >0.94</td>\n",
       "                        <td id=\"T_9f783efa_4efe_11ea_aa64_6245b4f99c6erow6_col11\" class=\"data row6 col11\" >0.98</td>\n",
       "                        <td id=\"T_9f783efa_4efe_11ea_aa64_6245b4f99c6erow6_col12\" class=\"data row6 col12\" >0.4</td>\n",
       "                        <td id=\"T_9f783efa_4efe_11ea_aa64_6245b4f99c6erow6_col13\" class=\"data row6 col13\" >-0.15</td>\n",
       "            </tr>\n",
       "            <tr>\n",
       "                        <th id=\"T_9f783efa_4efe_11ea_aa64_6245b4f99c6elevel0_row7\" class=\"row_heading level0 row7\" >thumbs down</th>\n",
       "                        <td id=\"T_9f783efa_4efe_11ea_aa64_6245b4f99c6erow7_col0\" class=\"data row7 col0\" >-0.14</td>\n",
       "                        <td id=\"T_9f783efa_4efe_11ea_aa64_6245b4f99c6erow7_col1\" class=\"data row7 col1\" >0.29</td>\n",
       "                        <td id=\"T_9f783efa_4efe_11ea_aa64_6245b4f99c6erow7_col2\" class=\"data row7 col2\" >0.84</td>\n",
       "                        <td id=\"T_9f783efa_4efe_11ea_aa64_6245b4f99c6erow7_col3\" class=\"data row7 col3\" >0.022</td>\n",
       "                        <td id=\"T_9f783efa_4efe_11ea_aa64_6245b4f99c6erow7_col4\" class=\"data row7 col4\" >-0.088</td>\n",
       "                        <td id=\"T_9f783efa_4efe_11ea_aa64_6245b4f99c6erow7_col5\" class=\"data row7 col5\" >0.017</td>\n",
       "                        <td id=\"T_9f783efa_4efe_11ea_aa64_6245b4f99c6erow7_col6\" class=\"data row7 col6\" >0.85</td>\n",
       "                        <td id=\"T_9f783efa_4efe_11ea_aa64_6245b4f99c6erow7_col7\" class=\"data row7 col7\" >1</td>\n",
       "                        <td id=\"T_9f783efa_4efe_11ea_aa64_6245b4f99c6erow7_col8\" class=\"data row7 col8\" >0.78</td>\n",
       "                        <td id=\"T_9f783efa_4efe_11ea_aa64_6245b4f99c6erow7_col9\" class=\"data row7 col9\" >0.48</td>\n",
       "                        <td id=\"T_9f783efa_4efe_11ea_aa64_6245b4f99c6erow7_col10\" class=\"data row7 col10\" >0.82</td>\n",
       "                        <td id=\"T_9f783efa_4efe_11ea_aa64_6245b4f99c6erow7_col11\" class=\"data row7 col11\" >0.83</td>\n",
       "                        <td id=\"T_9f783efa_4efe_11ea_aa64_6245b4f99c6erow7_col12\" class=\"data row7 col12\" >0.46</td>\n",
       "                        <td id=\"T_9f783efa_4efe_11ea_aa64_6245b4f99c6erow7_col13\" class=\"data row7 col13\" >-0.075</td>\n",
       "            </tr>\n",
       "            <tr>\n",
       "                        <th id=\"T_9f783efa_4efe_11ea_aa64_6245b4f99c6elevel0_row8\" class=\"row_heading level0 row8\" >thumbs up</th>\n",
       "                        <td id=\"T_9f783efa_4efe_11ea_aa64_6245b4f99c6erow8_col0\" class=\"data row8 col0\" >-0.18</td>\n",
       "                        <td id=\"T_9f783efa_4efe_11ea_aa64_6245b4f99c6erow8_col1\" class=\"data row8 col1\" >0.4</td>\n",
       "                        <td id=\"T_9f783efa_4efe_11ea_aa64_6245b4f99c6erow8_col2\" class=\"data row8 col2\" >0.93</td>\n",
       "                        <td id=\"T_9f783efa_4efe_11ea_aa64_6245b4f99c6erow8_col3\" class=\"data row8 col3\" >-0.0067</td>\n",
       "                        <td id=\"T_9f783efa_4efe_11ea_aa64_6245b4f99c6erow8_col4\" class=\"data row8 col4\" >-0.08</td>\n",
       "                        <td id=\"T_9f783efa_4efe_11ea_aa64_6245b4f99c6erow8_col5\" class=\"data row8 col5\" >0.043</td>\n",
       "                        <td id=\"T_9f783efa_4efe_11ea_aa64_6245b4f99c6erow8_col6\" class=\"data row8 col6\" >0.94</td>\n",
       "                        <td id=\"T_9f783efa_4efe_11ea_aa64_6245b4f99c6erow8_col7\" class=\"data row8 col7\" >0.78</td>\n",
       "                        <td id=\"T_9f783efa_4efe_11ea_aa64_6245b4f99c6erow8_col8\" class=\"data row8 col8\" >1</td>\n",
       "                        <td id=\"T_9f783efa_4efe_11ea_aa64_6245b4f99c6erow8_col9\" class=\"data row8 col9\" >0.27</td>\n",
       "                        <td id=\"T_9f783efa_4efe_11ea_aa64_6245b4f99c6erow8_col10\" class=\"data row8 col10\" >0.9</td>\n",
       "                        <td id=\"T_9f783efa_4efe_11ea_aa64_6245b4f99c6erow8_col11\" class=\"data row8 col11\" >0.94</td>\n",
       "                        <td id=\"T_9f783efa_4efe_11ea_aa64_6245b4f99c6erow8_col12\" class=\"data row8 col12\" >0.35</td>\n",
       "                        <td id=\"T_9f783efa_4efe_11ea_aa64_6245b4f99c6erow8_col13\" class=\"data row8 col13\" >-0.17</td>\n",
       "            </tr>\n",
       "            <tr>\n",
       "                        <th id=\"T_9f783efa_4efe_11ea_aa64_6245b4f99c6elevel0_row9\" class=\"row_heading level0 row9\" >advert</th>\n",
       "                        <td id=\"T_9f783efa_4efe_11ea_aa64_6245b4f99c6erow9_col0\" class=\"data row9 col0\" >-0.14</td>\n",
       "                        <td id=\"T_9f783efa_4efe_11ea_aa64_6245b4f99c6erow9_col1\" class=\"data row9 col1\" >-0.16</td>\n",
       "                        <td id=\"T_9f783efa_4efe_11ea_aa64_6245b4f99c6erow9_col2\" class=\"data row9 col2\" >0.33</td>\n",
       "                        <td id=\"T_9f783efa_4efe_11ea_aa64_6245b4f99c6erow9_col3\" class=\"data row9 col3\" >0.034</td>\n",
       "                        <td id=\"T_9f783efa_4efe_11ea_aa64_6245b4f99c6erow9_col4\" class=\"data row9 col4\" >-0.073</td>\n",
       "                        <td id=\"T_9f783efa_4efe_11ea_aa64_6245b4f99c6erow9_col5\" class=\"data row9 col5\" >-0.00094</td>\n",
       "                        <td id=\"T_9f783efa_4efe_11ea_aa64_6245b4f99c6erow9_col6\" class=\"data row9 col6\" >0.36</td>\n",
       "                        <td id=\"T_9f783efa_4efe_11ea_aa64_6245b4f99c6erow9_col7\" class=\"data row9 col7\" >0.48</td>\n",
       "                        <td id=\"T_9f783efa_4efe_11ea_aa64_6245b4f99c6erow9_col8\" class=\"data row9 col8\" >0.27</td>\n",
       "                        <td id=\"T_9f783efa_4efe_11ea_aa64_6245b4f99c6erow9_col9\" class=\"data row9 col9\" >1</td>\n",
       "                        <td id=\"T_9f783efa_4efe_11ea_aa64_6245b4f99c6erow9_col10\" class=\"data row9 col10\" >0.37</td>\n",
       "                        <td id=\"T_9f783efa_4efe_11ea_aa64_6245b4f99c6erow9_col11\" class=\"data row9 col11\" >0.34</td>\n",
       "                        <td id=\"T_9f783efa_4efe_11ea_aa64_6245b4f99c6erow9_col12\" class=\"data row9 col12\" >0.76</td>\n",
       "                        <td id=\"T_9f783efa_4efe_11ea_aa64_6245b4f99c6erow9_col13\" class=\"data row9 col13\" >0.028</td>\n",
       "            </tr>\n",
       "            <tr>\n",
       "                        <th id=\"T_9f783efa_4efe_11ea_aa64_6245b4f99c6elevel0_row10\" class=\"row_heading level0 row10\" >add friend</th>\n",
       "                        <td id=\"T_9f783efa_4efe_11ea_aa64_6245b4f99c6erow10_col0\" class=\"data row10 col0\" >-0.2</td>\n",
       "                        <td id=\"T_9f783efa_4efe_11ea_aa64_6245b4f99c6erow10_col1\" class=\"data row10 col1\" >0.4</td>\n",
       "                        <td id=\"T_9f783efa_4efe_11ea_aa64_6245b4f99c6erow10_col2\" class=\"data row10 col2\" >0.93</td>\n",
       "                        <td id=\"T_9f783efa_4efe_11ea_aa64_6245b4f99c6erow10_col3\" class=\"data row10 col3\" >-0.0087</td>\n",
       "                        <td id=\"T_9f783efa_4efe_11ea_aa64_6245b4f99c6erow10_col4\" class=\"data row10 col4\" >-0.045</td>\n",
       "                        <td id=\"T_9f783efa_4efe_11ea_aa64_6245b4f99c6erow10_col5\" class=\"data row10 col5\" >0.029</td>\n",
       "                        <td id=\"T_9f783efa_4efe_11ea_aa64_6245b4f99c6erow10_col6\" class=\"data row10 col6\" >0.94</td>\n",
       "                        <td id=\"T_9f783efa_4efe_11ea_aa64_6245b4f99c6erow10_col7\" class=\"data row10 col7\" >0.82</td>\n",
       "                        <td id=\"T_9f783efa_4efe_11ea_aa64_6245b4f99c6erow10_col8\" class=\"data row10 col8\" >0.9</td>\n",
       "                        <td id=\"T_9f783efa_4efe_11ea_aa64_6245b4f99c6erow10_col9\" class=\"data row10 col9\" >0.37</td>\n",
       "                        <td id=\"T_9f783efa_4efe_11ea_aa64_6245b4f99c6erow10_col10\" class=\"data row10 col10\" >1</td>\n",
       "                        <td id=\"T_9f783efa_4efe_11ea_aa64_6245b4f99c6erow10_col11\" class=\"data row10 col11\" >0.93</td>\n",
       "                        <td id=\"T_9f783efa_4efe_11ea_aa64_6245b4f99c6erow10_col12\" class=\"data row10 col12\" >0.43</td>\n",
       "                        <td id=\"T_9f783efa_4efe_11ea_aa64_6245b4f99c6erow10_col13\" class=\"data row10 col13\" >-0.18</td>\n",
       "            </tr>\n",
       "            <tr>\n",
       "                        <th id=\"T_9f783efa_4efe_11ea_aa64_6245b4f99c6elevel0_row11\" class=\"row_heading level0 row11\" >add playlist</th>\n",
       "                        <td id=\"T_9f783efa_4efe_11ea_aa64_6245b4f99c6erow11_col0\" class=\"data row11 col0\" >-0.18</td>\n",
       "                        <td id=\"T_9f783efa_4efe_11ea_aa64_6245b4f99c6erow11_col1\" class=\"data row11 col1\" >0.39</td>\n",
       "                        <td id=\"T_9f783efa_4efe_11ea_aa64_6245b4f99c6erow11_col2\" class=\"data row11 col2\" >0.97</td>\n",
       "                        <td id=\"T_9f783efa_4efe_11ea_aa64_6245b4f99c6erow11_col3\" class=\"data row11 col3\" >0.017</td>\n",
       "                        <td id=\"T_9f783efa_4efe_11ea_aa64_6245b4f99c6erow11_col4\" class=\"data row11 col4\" >-0.095</td>\n",
       "                        <td id=\"T_9f783efa_4efe_11ea_aa64_6245b4f99c6erow11_col5\" class=\"data row11 col5\" >0.025</td>\n",
       "                        <td id=\"T_9f783efa_4efe_11ea_aa64_6245b4f99c6erow11_col6\" class=\"data row11 col6\" >0.98</td>\n",
       "                        <td id=\"T_9f783efa_4efe_11ea_aa64_6245b4f99c6erow11_col7\" class=\"data row11 col7\" >0.83</td>\n",
       "                        <td id=\"T_9f783efa_4efe_11ea_aa64_6245b4f99c6erow11_col8\" class=\"data row11 col8\" >0.94</td>\n",
       "                        <td id=\"T_9f783efa_4efe_11ea_aa64_6245b4f99c6erow11_col9\" class=\"data row11 col9\" >0.34</td>\n",
       "                        <td id=\"T_9f783efa_4efe_11ea_aa64_6245b4f99c6erow11_col10\" class=\"data row11 col10\" >0.93</td>\n",
       "                        <td id=\"T_9f783efa_4efe_11ea_aa64_6245b4f99c6erow11_col11\" class=\"data row11 col11\" >1</td>\n",
       "                        <td id=\"T_9f783efa_4efe_11ea_aa64_6245b4f99c6erow11_col12\" class=\"data row11 col12\" >0.4</td>\n",
       "                        <td id=\"T_9f783efa_4efe_11ea_aa64_6245b4f99c6erow11_col13\" class=\"data row11 col13\" >-0.15</td>\n",
       "            </tr>\n",
       "            <tr>\n",
       "                        <th id=\"T_9f783efa_4efe_11ea_aa64_6245b4f99c6elevel0_row12\" class=\"row_heading level0 row12\" >upgrade</th>\n",
       "                        <td id=\"T_9f783efa_4efe_11ea_aa64_6245b4f99c6erow12_col0\" class=\"data row12 col0\" >-0.13</td>\n",
       "                        <td id=\"T_9f783efa_4efe_11ea_aa64_6245b4f99c6erow12_col1\" class=\"data row12 col1\" >0.085</td>\n",
       "                        <td id=\"T_9f783efa_4efe_11ea_aa64_6245b4f99c6erow12_col2\" class=\"data row12 col2\" >0.4</td>\n",
       "                        <td id=\"T_9f783efa_4efe_11ea_aa64_6245b4f99c6erow12_col3\" class=\"data row12 col3\" >-0.057</td>\n",
       "                        <td id=\"T_9f783efa_4efe_11ea_aa64_6245b4f99c6erow12_col4\" class=\"data row12 col4\" >-0.051</td>\n",
       "                        <td id=\"T_9f783efa_4efe_11ea_aa64_6245b4f99c6erow12_col5\" class=\"data row12 col5\" >0.079</td>\n",
       "                        <td id=\"T_9f783efa_4efe_11ea_aa64_6245b4f99c6erow12_col6\" class=\"data row12 col6\" >0.4</td>\n",
       "                        <td id=\"T_9f783efa_4efe_11ea_aa64_6245b4f99c6erow12_col7\" class=\"data row12 col7\" >0.46</td>\n",
       "                        <td id=\"T_9f783efa_4efe_11ea_aa64_6245b4f99c6erow12_col8\" class=\"data row12 col8\" >0.35</td>\n",
       "                        <td id=\"T_9f783efa_4efe_11ea_aa64_6245b4f99c6erow12_col9\" class=\"data row12 col9\" >0.76</td>\n",
       "                        <td id=\"T_9f783efa_4efe_11ea_aa64_6245b4f99c6erow12_col10\" class=\"data row12 col10\" >0.43</td>\n",
       "                        <td id=\"T_9f783efa_4efe_11ea_aa64_6245b4f99c6erow12_col11\" class=\"data row12 col11\" >0.4</td>\n",
       "                        <td id=\"T_9f783efa_4efe_11ea_aa64_6245b4f99c6erow12_col12\" class=\"data row12 col12\" >1</td>\n",
       "                        <td id=\"T_9f783efa_4efe_11ea_aa64_6245b4f99c6erow12_col13\" class=\"data row12 col13\" >-0.014</td>\n",
       "            </tr>\n",
       "            <tr>\n",
       "                        <th id=\"T_9f783efa_4efe_11ea_aa64_6245b4f99c6elevel0_row13\" class=\"row_heading level0 row13\" >churn</th>\n",
       "                        <td id=\"T_9f783efa_4efe_11ea_aa64_6245b4f99c6erow13_col0\" class=\"data row13 col0\" >0.085</td>\n",
       "                        <td id=\"T_9f783efa_4efe_11ea_aa64_6245b4f99c6erow13_col1\" class=\"data row13 col1\" >-0.055</td>\n",
       "                        <td id=\"T_9f783efa_4efe_11ea_aa64_6245b4f99c6erow13_col2\" class=\"data row13 col2\" >-0.16</td>\n",
       "                        <td id=\"T_9f783efa_4efe_11ea_aa64_6245b4f99c6erow13_col3\" class=\"data row13 col3\" >-0.012</td>\n",
       "                        <td id=\"T_9f783efa_4efe_11ea_aa64_6245b4f99c6erow13_col4\" class=\"data row13 col4\" >0.1</td>\n",
       "                        <td id=\"T_9f783efa_4efe_11ea_aa64_6245b4f99c6erow13_col5\" class=\"data row13 col5\" >-0.035</td>\n",
       "                        <td id=\"T_9f783efa_4efe_11ea_aa64_6245b4f99c6erow13_col6\" class=\"data row13 col6\" >-0.15</td>\n",
       "                        <td id=\"T_9f783efa_4efe_11ea_aa64_6245b4f99c6erow13_col7\" class=\"data row13 col7\" >-0.075</td>\n",
       "                        <td id=\"T_9f783efa_4efe_11ea_aa64_6245b4f99c6erow13_col8\" class=\"data row13 col8\" >-0.17</td>\n",
       "                        <td id=\"T_9f783efa_4efe_11ea_aa64_6245b4f99c6erow13_col9\" class=\"data row13 col9\" >0.028</td>\n",
       "                        <td id=\"T_9f783efa_4efe_11ea_aa64_6245b4f99c6erow13_col10\" class=\"data row13 col10\" >-0.18</td>\n",
       "                        <td id=\"T_9f783efa_4efe_11ea_aa64_6245b4f99c6erow13_col11\" class=\"data row13 col11\" >-0.15</td>\n",
       "                        <td id=\"T_9f783efa_4efe_11ea_aa64_6245b4f99c6erow13_col12\" class=\"data row13 col12\" >-0.014</td>\n",
       "                        <td id=\"T_9f783efa_4efe_11ea_aa64_6245b4f99c6erow13_col13\" class=\"data row13 col13\" >1</td>\n",
       "            </tr>\n",
       "    </tbody></table>"
      ],
      "text/plain": [
       "<pandas.io.formats.style.Styler at 0x2657e397f98>"
      ]
     },
     "execution_count": 54,
     "metadata": {},
     "output_type": "execute_result"
    }
   ],
   "source": [
    "# calculate the correlation matrix of the features set as we want to see if we have a diversity of data so that the model will be\n",
    "# able to separate the use of different features in the classification\n",
    "corr = df_features.toPandas().corr()\n",
    "corr.style.background_gradient(cmap='coolwarm', axis=None).set_precision(2)"
   ]
  },
  {
   "cell_type": "markdown",
   "metadata": {},
   "source": [
    "We can see we still have some features that look to be highly correlated together. Hopefully the model will be able to separate these features and provide an appropriate classification based on this information.\n",
    "\n",
    "Interestingly enough, the \"churn\" label is however not really correlated to any other column. Hence the actual need for a Machine Learning model to help us predict this value since a typical correlation is not obvious here.\n",
    "\n",
    "Future work could include the engineering of more or different features which would be less correlated together to see if this could further improve the model accuracy."
   ]
  },
  {
   "cell_type": "markdown",
   "metadata": {},
   "source": [
    "# Modeling\n",
    "\n",
    "We will now split the full dataset into train, test, and validation sets. We will test out a few machine learning methods and evaluate their accuracy using the F1 score as the metric to optimize. This is due to the fact the churned users are quite a small subset of the data.\n",
    "\n",
    "The models we will be using are:\n",
    "- Random Forest Classifier\n",
    "- Logistic Regression\n",
    "- Gradient-Boosted Trees\n",
    "- Multiplayer Perceptron Classifier\n",
    "\n",
    "We will then identify the model that gives the highest accuracy, run it with different parameters to try to optimise it further and finally evaluate the model with tuned parameters on the validation set."
   ]
  },
  {
   "cell_type": "code",
   "execution_count": 55,
   "metadata": {},
   "outputs": [
    {
     "name": "stdout",
     "output_type": "stream",
     "text": [
      "samples in train set: 123\n",
      "samples in test set: 49\n",
      "samples in validation set: 53\n"
     ]
    }
   ],
   "source": [
    "# Split the feature set into train (60%), test (20%) and validation (20%) sets\n",
    "train, test, valid = df_features.randomSplit([0.6, 0.2, 0.2], 1234)\n",
    "\n",
    "print(\"samples in train set:\", train.count())\n",
    "print(\"samples in test set:\", test.count())\n",
    "print(\"samples in validation set:\", valid.count())"
   ]
  },
  {
   "cell_type": "code",
   "execution_count": 56,
   "metadata": {},
   "outputs": [
    {
     "data": {
      "text/plain": [
       "['gender',\n",
       " 'level',\n",
       " 'artists count',\n",
       " 'apple',\n",
       " 'linux',\n",
       " 'windows',\n",
       " 'avg songs',\n",
       " 'thumbs down',\n",
       " 'thumbs up',\n",
       " 'advert',\n",
       " 'add friend',\n",
       " 'add playlist',\n",
       " 'upgrade']"
      ]
     },
     "execution_count": 56,
     "metadata": {},
     "output_type": "execute_result"
    }
   ],
   "source": [
    "# combine the features into a vector\n",
    "input_cols = df_features.columns\n",
    "input_cols.remove(\"userId\")    # remove this string value as it is not useful for the classification\n",
    "input_cols.remove(\"churn\")     # remove the label as it will be handled separately\n",
    "\n",
    "assembler = VectorAssembler(inputCols=input_cols, outputCol=\"features\")\n",
    "input_cols"
   ]
  },
  {
   "cell_type": "code",
   "execution_count": 57,
   "metadata": {},
   "outputs": [],
   "source": [
    "# our pipeline will use normalization to ensure data for different features is comparable\n",
    "scaler = Normalizer(inputCol=\"features\", outputCol=\"scaled_features\")"
   ]
  },
  {
   "cell_type": "markdown",
   "metadata": {},
   "source": [
    "#### Model 1: Random Forest Classifier"
   ]
  },
  {
   "cell_type": "code",
   "execution_count": 58,
   "metadata": {},
   "outputs": [],
   "source": [
    "# create a Random Forest classifier\n",
    "rf = RandomForestClassifier(labelCol=\"churn\", featuresCol=\"scaled_features\", seed=1234)"
   ]
  },
  {
   "cell_type": "code",
   "execution_count": 59,
   "metadata": {},
   "outputs": [],
   "source": [
    "# build pipeline\n",
    "rf_pipeline = Pipeline(stages = [assembler, scaler, rf])\n",
    "\n",
    "# train the model\n",
    "model = rf_pipeline.fit(train)\n",
    "\n",
    "# predict churn\n",
    "preds = model.transform(test)"
   ]
  },
  {
   "cell_type": "code",
   "execution_count": 60,
   "metadata": {},
   "outputs": [
    {
     "name": "stdout",
     "output_type": "stream",
     "text": [
      "+----------+-----+\n",
      "|prediction|churn|\n",
      "+----------+-----+\n",
      "|       0.0|    0|\n",
      "|       0.0|    0|\n",
      "|       0.0|    1|\n",
      "|       0.0|    0|\n",
      "|       0.0|    0|\n",
      "|       0.0|    1|\n",
      "|       0.0|    1|\n",
      "|       0.0|    0|\n",
      "|       0.0|    0|\n",
      "|       0.0|    0|\n",
      "|       0.0|    0|\n",
      "|       0.0|    0|\n",
      "|       0.0|    0|\n",
      "|       0.0|    0|\n",
      "|       0.0|    0|\n",
      "|       0.0|    0|\n",
      "|       0.0|    0|\n",
      "|       0.0|    0|\n",
      "|       0.0|    0|\n",
      "|       0.0|    0|\n",
      "+----------+-----+\n",
      "only showing top 20 rows\n",
      "\n"
     ]
    }
   ],
   "source": [
    "# Select example rows to display.\n",
    "preds.select(\"prediction\", \"churn\").show()"
   ]
  },
  {
   "cell_type": "code",
   "execution_count": 61,
   "metadata": {},
   "outputs": [
    {
     "name": "stdout",
     "output_type": "stream",
     "text": [
      "f1 score:  0.7716229348882411\n",
      "accuracy:  0.7959183673469388\n"
     ]
    }
   ],
   "source": [
    "# Select (prediction, true label) and compute f1 score\n",
    "evaluator = MulticlassClassificationEvaluator(labelCol=\"churn\", predictionCol=\"prediction\", metricName=\"f1\")\n",
    "\n",
    "# show the F1 score\n",
    "rf_score = evaluator.evaluate(preds)\n",
    "print(\"f1 score: \", rf_score)\n",
    "\n",
    "# compute the accuracy\n",
    "rf_accuracy = preds.filter(preds.churn == preds.prediction).count() / preds.count()\n",
    "print(\"accuracy: \", rf_accuracy)"
   ]
  },
  {
   "cell_type": "code",
   "execution_count": 62,
   "metadata": {},
   "outputs": [
    {
     "data": {
      "image/png": "[encoded data removed]",
      "text/plain": [
       "<Figure size 432x288 with 1 Axes>"
      ]
     },
     "metadata": {
      "needs_background": "light"
     },
     "output_type": "display_data"
    }
   ],
   "source": [
    "# display the features importance for the model\n",
    "rf_model = model.stages[2].featureImportances\n",
    "plt.barh(y=input_cols, width=rf_model.values);"
   ]
  },
  {
   "cell_type": "markdown",
   "metadata": {},
   "source": [
    "#### Model 2: Gradient-Boosted Trees Classifier"
   ]
  },
  {
   "cell_type": "code",
   "execution_count": 68,
   "metadata": {},
   "outputs": [],
   "source": [
    "# create a Gradient-Boosted Trees classifier\n",
    "gbt = GBTClassifier(labelCol=\"churn\", featuresCol=\"scaled_features\", seed=1234)"
   ]
  },
  {
   "cell_type": "code",
   "execution_count": 69,
   "metadata": {},
   "outputs": [],
   "source": [
    "# build pipeline\n",
    "gbt_pipeline = Pipeline(stages = [assembler, scaler, gbt])\n",
    "\n",
    "# train the model\n",
    "model = gbt_pipeline.fit(train)\n",
    "\n",
    "# predict churn\n",
    "preds = model.transform(test)"
   ]
  },
  {
   "cell_type": "code",
   "execution_count": 70,
   "metadata": {},
   "outputs": [
    {
     "name": "stdout",
     "output_type": "stream",
     "text": [
      "+----------+-----+\n",
      "|prediction|churn|\n",
      "+----------+-----+\n",
      "|       0.0|    0|\n",
      "|       0.0|    0|\n",
      "|       0.0|    1|\n",
      "|       0.0|    0|\n",
      "|       0.0|    0|\n",
      "|       0.0|    1|\n",
      "|       0.0|    1|\n",
      "|       0.0|    0|\n",
      "|       0.0|    0|\n",
      "|       0.0|    0|\n",
      "|       0.0|    0|\n",
      "|       0.0|    0|\n",
      "|       0.0|    0|\n",
      "|       0.0|    0|\n",
      "|       0.0|    0|\n",
      "|       0.0|    0|\n",
      "|       0.0|    0|\n",
      "|       1.0|    0|\n",
      "|       0.0|    0|\n",
      "|       0.0|    0|\n",
      "+----------+-----+\n",
      "only showing top 20 rows\n",
      "\n"
     ]
    }
   ],
   "source": [
    "# Select example rows to display.\n",
    "preds.select(\"prediction\", \"churn\").show()"
   ]
  },
  {
   "cell_type": "code",
   "execution_count": 71,
   "metadata": {},
   "outputs": [
    {
     "name": "stdout",
     "output_type": "stream",
     "text": [
      "f1 score:  0.7702933025061878\n",
      "accuracy:  0.7755102040816326\n"
     ]
    }
   ],
   "source": [
    "# Select (prediction, true label) and compute f1 score\n",
    "evaluator = MulticlassClassificationEvaluator(labelCol=\"churn\", predictionCol=\"prediction\", metricName=\"f1\")\n",
    "\n",
    "# show the F1 score\n",
    "gbt_score = evaluator.evaluate(preds)\n",
    "print(\"f1 score: \", gbt_score)\n",
    "\n",
    "# compute the accuracy\n",
    "gbt_accuracy = preds.filter(preds.churn == preds.prediction).count() / preds.count()\n",
    "print(\"accuracy: \", gbt_accuracy)"
   ]
  },
  {
   "cell_type": "code",
   "execution_count": 72,
   "metadata": {},
   "outputs": [
    {
     "data": {
      "image/png": "[encoded data removed]",
      "text/plain": [
       "<Figure size 432x288 with 1 Axes>"
      ]
     },
     "metadata": {
      "needs_background": "light"
     },
     "output_type": "display_data"
    }
   ],
   "source": [
    "# display the features importance for the model\n",
    "gbt_model = model.stages[2].featureImportances\n",
    "plt.barh(y=input_cols, width=gbt_model.values);"
   ]
  },
  {
   "cell_type": "markdown",
   "metadata": {},
   "source": [
    "#### Model 3: Multilayer Perceptron Classifier"
   ]
  },
  {
   "cell_type": "code",
   "execution_count": 73,
   "metadata": {},
   "outputs": [],
   "source": [
    "# create a Multilayer Perceptron classifier\n",
    "mlp = MultilayerPerceptronClassifier(labelCol=\"churn\", featuresCol=\"scaled_features\", layers=[13, 25, 25, 10, 2], seed=1234)"
   ]
  },
  {
   "cell_type": "code",
   "execution_count": 74,
   "metadata": {},
   "outputs": [],
   "source": [
    "# build pipeline\n",
    "mlp_pipeline = Pipeline(stages = [assembler, scaler, mlp])\n",
    "\n",
    "# train the model\n",
    "model = mlp_pipeline.fit(train)\n",
    "\n",
    "# predict churn\n",
    "preds = model.transform(test)"
   ]
  },
  {
   "cell_type": "code",
   "execution_count": 75,
   "metadata": {},
   "outputs": [
    {
     "name": "stdout",
     "output_type": "stream",
     "text": [
      "+----------+-----+\n",
      "|prediction|churn|\n",
      "+----------+-----+\n",
      "|       0.0|    0|\n",
      "|       0.0|    0|\n",
      "|       0.0|    1|\n",
      "|       0.0|    0|\n",
      "|       0.0|    0|\n",
      "|       1.0|    1|\n",
      "|       0.0|    1|\n",
      "|       0.0|    0|\n",
      "|       0.0|    0|\n",
      "|       0.0|    0|\n",
      "|       0.0|    0|\n",
      "|       0.0|    0|\n",
      "|       0.0|    0|\n",
      "|       0.0|    0|\n",
      "|       0.0|    0|\n",
      "|       0.0|    0|\n",
      "|       0.0|    0|\n",
      "|       0.0|    0|\n",
      "|       0.0|    0|\n",
      "|       0.0|    0|\n",
      "+----------+-----+\n",
      "only showing top 20 rows\n",
      "\n"
     ]
    }
   ],
   "source": [
    "# Select example rows to display.\n",
    "preds.select(\"prediction\", \"churn\").show()"
   ]
  },
  {
   "cell_type": "code",
   "execution_count": 76,
   "metadata": {},
   "outputs": [
    {
     "name": "stdout",
     "output_type": "stream",
     "text": [
      "f1 score:  0.8172983479105927\n",
      "accuracy:  0.8367346938775511\n"
     ]
    }
   ],
   "source": [
    "# Select (prediction, true label) and compute f1 score\n",
    "evaluator = MulticlassClassificationEvaluator(labelCol=\"churn\", predictionCol=\"prediction\", metricName=\"f1\")\n",
    "\n",
    "# show the F1 score\n",
    "mlp_score = evaluator.evaluate(preds)\n",
    "print(\"f1 score: \", mlp_score)\n",
    "\n",
    "# compute the accuracy\n",
    "mlp_accuracy = preds.filter(preds.churn == preds.prediction).count() / preds.count()\n",
    "print(\"accuracy: \", mlp_accuracy)"
   ]
  },
  {
   "cell_type": "code",
   "execution_count": 77,
   "metadata": {},
   "outputs": [
    {
     "data": {
      "text/plain": [
       "DenseVector([0.5618, 0.7213, -0.0924, -1.2153, 0.6607, 0.1318, -1.6281, 0.014, -0.1139, 0.4104, 0.448, -0.9666, -0.3079, -0.5381, -0.3723, 0.2437, -0.6767, 0.7265, 0.0009, -0.7418, -0.9062, 0.4004, -0.7576, 0.37, -1.4497, -2.652, 1.5057, 0.2932, -1.2431, 0.965, -0.1456, 0.9056, 0.4018, 0.1986, 1.3709, -0.9647, -1.0267, -0.8895, -1.9441, -0.4845, 0.4892, 1.0795, 1.9293, -2.0171, 1.0792, 1.6329, -0.4981, -1.8726, -0.4513, -2.3242, 9.1318, -3.2978, 4.1606, 5.8986, -12.3025, -0.4704, 0.4272, -0.5606, 2.013, -3.322, 1.4369, 3.2707, 3.981, 8.9034, -0.0948, -1.3416, -0.4043, -21.1636, 5.1929, 0.0114, 0.4281, -3.3378, 6.1475, -4.2057, 8.865, 1.1578, -0.3608, 0.0919, 0.8452, -0.3604, 0.1112, 0.1691, -0.7252, 0.3919, -0.9933, 0.395, 1.0119, 0.3774, 1.6041, 0.5503, -0.0522, -0.7701, -1.4983, 0.3074, 0.1682, -1.082, 0.608, 1.4364, -0.3066, 0.6673, -4.9552, 1.9413, -0.2107, -0.7513, 2.1589, 0.2238, 0.6185, 0.5786, 0.3815, 1.1286, -1.2284, -1.4295, -1.4382, -4.3063, -0.9586, 1.7606, 0.9553, 4.5245, -2.4428, 0.1339, 1.4206, -0.8833, -4.0874, -0.0118, -3.0079, 0.0318, -0.1578, -0.0914, -1.2333, 0.7246, -0.2407, -0.8549, -0.7462, -0.1816, 0.7192, -0.1974, -0.6513, 0.0389, -1.4785, -0.4448, 0.5856, -1.0848, 1.0619, 0.1233, -0.6867, -1.2595, 0.9853, -0.5915, 0.6646, -1.3778, -30.0352, 12.6741, -7.2371, -17.8241, 23.1002, 0.1417, -5.4355, -0.4046, -2.8026, 12.4657, -2.4853, -13.7888, -11.5745, -32.7926, -3.9739, 17.9943, 0.6833, 30.2037, -9.3025, 2.3519, 3.0398, 4.1779, -27.8626, 5.5253, -28.8674, -13.2068, 4.4307, -0.5779, -4.6806, 7.8772, -0.5898, 2.2559, 0.429, 0.0961, 4.9087, -2.0291, -4.0502, -4.2125, -11.5866, -2.7572, 4.4031, 2.1273, 11.9772, -7.0371, 1.452, 4.3089, -0.9824, -10.9676, 0.1911, -9.5114, 5.8514, -2.6239, 1.5253, 2.4998, -4.2507, 0.6797, -0.372, 0.3027, -0.19, -1.6747, 0.4335, 2.5451, 2.8859, 6.8793, 0.8055, -2.7728, -0.188, -6.6675, 3.4645, -0.5434, -1.6414, -0.2178, 5.4284, -1.5621, 4.9839, -34.0767, 13.7981, -4.5013, -13.112, 21.4117, -0.4666, 1.8273, 0.9868, -0.9075, 12.3552, -5.2582, -13.3318, -11.8998, -31.8094, -5.4173, 14.5423, 3.5397, 31.9967, -15.5034, 4.1813, 8.9063, -0.3588, -27.3649, 2.4565, -27.1501, 4.8385, -2.4312, 1.3273, 2.7608, -4.5996, 0.0031, 0.7249, 0.0354, 0.785, -1.8136, 0.6432, 2.201, 1.2059, 5.178, 0.6214, -2.7005, 0.4155, -5.8045, 1.5851, -0.6106, -1.0785, -0.6107, 4.8983, -0.4443, 5.2471, 5.4863, -1.9973, 0.4483, 1.8503, -3.6607, -0.217, -1.3933, -0.5157, -0.7008, -2.2699, 0.8451, 2.2226, 0.8563, 3.8498, 0.4698, -0.9443, -0.7148, -5.0597, 3.3547, -0.0745, -1.8256, 0.2863, 3.9465, -0.0622, 3.3452, -6.78, 1.7837, -0.7105, -1.8527, 3.5632, -0.2904, 0.3102, 0.3494, -0.4526, 1.8339, -1.2649, -2.2085, -1.6606, -5.1468, -1.4615, 2.1954, 0.435, 5.9582, -3.3215, 0.6558, 2.8595, -0.2351, -5.8286, 0.139, -5.426, 1.962, -0.409, 2.4724, 2.8215, -7.2089, 0.0056, -0.1755, -0.2146, 1.3585, 0.2407, 0.7285, 0.9439, 0.6846, 1.5526, -1.2595, 2.9981, 1.0095, -13.458, 3.0319, 0.1834, 1.0534, -2.1421, -0.1777, -3.1047, 2.0571, -6.6303, -0.1681, 1.8775, -9.51, -30.2444, -18.5739, -23.5348, 5.3343, 9.0897, -15.1083, -1.1654, 9.9713, 1.2889, -8.7111, 29.5677, -15.6794, -26.3902, -2.5186, -0.8473, -15.3953, 3.9442, 15.9942, -0.1424, 11.8258, -6.0924, 1.7022, 0.0579, -0.0271, 0.4694, 1.9048, 0.2348, 2.9437, -0.2045, -0.8211, 1.0057, -0.3679, 0.0926, 0.281, 0.1267, -1.8463, 0.8694, 1.3799, 0.2217, 0.542, 0.876, -1.4977, -0.7993, -0.3152, -0.7358, 0.1972, 6.4305, 0.6501, -1.1681, 3.6419, 13.1188, 4.9005, 15.9333, -1.3406, -4.4046, 8.0601, -0.558, -4.0494, 0.9839, 2.1731, -11.9767, 7.483, 12.3572, 0.4767, 0.6021, 6.2288, -4.8321, -5.5551, -0.9069, -3.9025, 3.2888, 6.2976, 0.1008, -0.8196, 3.656, 13.8208, 5.4093, 15.47, -1.9412, -4.1813, 8.2485, -0.2035, -4.5841, 1.0242, 2.674, -13.4606, 7.7668, 12.6246, 0.3094, 0.5551, 7.1547, -4.943, -5.8146, -0.5567, -4.2766, 3.5887, -2.3101, -0.6404, 0.772, -4.0356, -11.5274, -7.3705, -9.2221, 2.4621, 3.1463, -5.9796, -0.7591, 3.8488, 0.1039, -3.7924, 11.2641, -6.5121, -10.4326, -1.0104, -0.144, -6.3331, 1.8007, 6.2707, 0.3875, 4.8078, -2.6078, 0.1934, -0.3353, 0.9092, -2.8401, -6.2455, -5.3896, -2.9236, 1.6055, 1.3502, -3.166, -0.8482, 2.4418, 0.606, -3.3275, 6.5609, -3.5183, -5.4325, -1.3216, -0.3457, -2.9144, -0.2359, 3.8872, -0.478, 3.3679, -1.4016, 12.5377, 1.4635, -2.8492, 12.2411, 39.3448, 20.0947, 37.8134, -5.8652, -11.5454, 20.5513, 0.3911, -12.9783, -0.3727, 9.8821, -37.7214, 21.9666, 35.4082, 2.053, 1.5668, 20.3122, -8.6397, -18.6533, -0.3331, -14.4448, 8.6117, 2.0789, 0.4076, -0.3592, 0.4362, 2.5078, 0.5792, 4.0303, 0.0569, -0.9508, 1.6737, -0.2565, -0.5182, 0.7385, 0.2039, -2.4721, 1.3068, 2.9485, -0.1201, 0.1904, 1.5852, -1.6034, -0.8479, -0.5964, -0.8363, 0.4066, 3.36, 0.0588, -0.1204, 1.133, 4.6032, -0.0769, 7.8, -0.8783, -1.3778, 2.9794, 0.0627, -1.5824, 0.7281, 0.3929, -4.277, 2.9583, 5.4136, -0.1766, 0.3082, 2.4868, -2.4192, -1.3017, 0.0948, -1.3145, 1.7233, 1.775, 0.4779, -0.145, -0.6608, 0.0633, -1.9225, 1.7843, 0.5126, 0.3523, 0.2182, -0.4508, 0.0962, 0.9779, -1.2227, 0.3211, 0.442, 0.6142, -0.2953, 0.3776, -0.6818, -1.7805, 1.6513, 0.0348, 0.9365, 0.0337, -2.7189, 0.0242, 0.7808, -4.1242, -13.3959, -8.2789, -10.35, 1.7804, 3.6109, -6.5167, -0.1802, 3.776, 0.3499, -4.1176, 13.3026, -7.0368, -11.1952, -0.6664, -0.0205, -7.1491, 1.6369, 7.0834, -0.3261, 4.9304, -2.6883, 0.8231, 0.0087, -0.0205, -1.0073, -1.166, -3.0597, 1.3865, 0.6338, 0.6289, 0.1113, -0.1744, 0.6196, 0.3485, -1.1957, 1.9374, -0.6079, -1.3461, -0.8803, 0.0569, -1.4346, -0.7052, 1.4844, -0.4953, 0.7148, -0.5351, 1.6114, 0.2466, 0.4694, -1.0742, -0.6147, -3.1871, 3.3834, 0.4503, 0.1039, 0.2383, 0.0104, -0.4868, 0.6438, -1.461, 1.6521, 0.1771, 0.6895, -0.765, 0.2653, -0.7353, -1.5128, 1.4932, 0.1772, 1.259, -0.2336, 1.9773, 0.5559, -0.1694, -0.424, -0.907, -3.0325, 3.1913, 0.2484, 0.6927, 0.5582, -0.2913, 0.0654, 1.2028, -1.1809, 1.3077, 0.1878, 0.2259, -0.8055, -0.2763, -0.4936, -2.2674, 1.151, -0.6887, 0.528, 0.6055, 0.4114, -0.2116, 0.5318, -1.0374, -2.9121, -3.2332, 0.3542, 0.8635, 0.7189, -1.0273, 0.019, 0.0747, 0.7494, -1.7031, 2.584, -0.5699, -1.5449, -0.4609, -0.2058, -1.9769, -1.0386, 2.2264, -0.3126, 1.5152, -0.5875, -3.7116, -0.414, 1.3899, -7.8552, -21.1562, -13.8892, -16.0199, 3.8131, 6.4212, -10.5873, -1.4675, 7.1514, 1.1735, -7.1329, 20.9157, -11.842, -18.2078, -2.1328, -0.8079, -11.0191, 2.2346, 11.9567, 0.3403, 9.2964, -4.3854, 3.8022, 0.0461, -0.6782, 2.2224, 7.6641, 2.2714, 9.7503, -0.2449, -2.5612, 4.6378, -0.4125, -1.3758, 1.0575, 0.3161, -7.5043, 4.1485, 6.7366, -0.1732, 0.9056, 4.5502, -2.5237, -2.6259, -0.2773, -2.0303, 1.7184, 8.8368, 0.2873, -1.6878, 6.8528, 23.8501, 10.4411, 24.4664, -2.9029, -7.7277, 12.8771, 0.3804, -7.0881, 0.5341, 5.094, -22.3421, 13.8067, 21.6402, 0.4501, 1.2191, 12.7723, -6.6686, -10.5856, -0.8561, -8.6333, 4.733, -6.747, -1.0168, 1.9862, -9.5076, -30.0438, -17.8379, -24.3284, 4.6763, 8.6399, -15.3603, -1.0842, 8.838, 0.9833, -8.3258, 29.09, -16.4084, -25.7631, -1.6273, -0.7001, -15.8342, 4.1412, 15.1804, 0.3027, 11.3422, -6.4213, 3.5212, -0.2456, -0.8538, 2.3243, 7.7095, 1.7607, 9.3256, -0.6026, -2.6441, 4.2088, -0.4264, -2.9191, 0.7131, 1.3525, -7.19, 4.7429, 6.9023, -0.077, 0.3917, 3.4303, -3.6761, -2.211, -0.731, -2.0369, 2.1904, 8.4284, 0.0743, -2.2808, 7.511, 25.6601, 12.6158, 24.6854, -3.4424, -8.1701, 13.3613, 0.1489, -7.9912, 0.2651, 5.7035, -24.7453, 14.4735, 22.77, 1.0561, 0.8309, 13.3225, -5.8394, -12.125, -0.6874, -8.7942, 5.3511, -6.0126, -0.4813, 1.8999, -8.2076, -25.2411, -15.0895, -20.8558, 3.8249, 7.3648, -13.0007, -0.4687, 8.3534, 0.4259, -8.0133, 24.7245, -13.6818, -22.2333, -1.8685, -1.0354, -13.0849, 3.564, 13.1314, -0.1149, 9.6057, -4.9092, -0.5705, -0.4145, 0.4212, -2.6582, -7.9085, -6.3628, -3.6069, 1.6858, 2.1137, -3.5251, -0.5607, 2.5183, 1.209, -3.0376, 7.507, -3.6001, -6.0721, -1.126, -0.0633, -4.1716, -0.6028, 4.6391, -0.5868, 3.7285, -2.2312, -6.3018, -0.8335, 1.8889, -7.3393, -23.5453, -14.1853, -20.1775, 4.0908, 6.6188, -11.6232, -0.2982, 7.3328, 0.6595, -6.954, 23.5498, -13.1407, -20.462, -1.4285, -1.271, -12.1279, 3.7496, 11.8389, -0.1263, 9.1195, -5.189, 2.7947, -0.2095, -0.4106, -0.1508, 0.3792, -2.8344, 4.4815, 0.6274, -0.9964, 0.757, -0.5513, 0.1227, 1.1946, -1.2479, -0.221, 0.7565, 0.6703, -1.1198, 0.479, 0.0451, -1.6593, 0.8779, -0.6669, 0.1943, 0.751, 2.5746, 0.4411, 0.2362, -1.6298, -3.1802, -5.3246, 2.5651, 0.7972, -0.0198, 0.1214, -1.3376, 1.6157, 1.0517, -2.3706, 3.0941, -0.794, -1.4783, -1.5407, 0.4014, -1.7155, -2.8941, 3.6226, -0.8208, 2.1088, -0.2744, -6.8725, -13.004, -5.1047, -1.6141, -0.5652, -0.2041, -2.0368, -1.7645, 6.5374, -2.7365, 3.9132, -2.7588, 4.3426, -0.2818, 0.4126, -1.4688, -1.3154, -0.459, 2.2724, -0.7149, 6.2194, 7.0755, 7.1807, 0.3501, 0.9117, -1.4516, 0.1024, 0.1502, -2.2799, 0.824, -4.8482, -23.8268, -7.7822, -3.874, -1.8372, -0.4823, -3.7031, -2.324, 12.4574, -4.78, -11.828, -30.6751, -14.1289, -4.7649, -2.7114, -0.1672, -3.57, -3.3372, 15.6132, -6.7186, -17.4132, -43.5702, -21.4351, -5.822, -4.5541, 1.7592, -4.4522, -4.7957, 21.8575, -9.4001, -9.8502, -20.8041, -7.5987, -3.167, 0.4877, -0.725, -3.0834, -2.7647, 9.9233, -4.3663, -13.0914, -35.0767, -13.921, -5.0865, -3.5407, 0.1933, -4.4614, -4.3163, 18.0933, -7.7329, 12.2537, 1.2438, 12.3249, -0.2713, 0.6404, -2.0811, -1.7813, -0.6595, 1.1956, -0.4728, -1.1442, -6.5456, -2.5441, -0.673, -0.3914, -0.0905, -1.4777, -0.8694, 3.2625, -1.806, -0.2563, -16.2251, -3.9276, -2.931, -1.887, -0.7924, -2.7966, -2.238, 8.8815, -3.6585, -28.1717, -52.9757, -28.4448, -7.4909, -5.6254, 1.9517, -5.3959, -5.3138, 25.6985, -10.9241, -2.9869, -18.7506, -2.9247, -2.7496, -1.1528, -1.2965, -3.1706, -2.164, 9.7528, -4.1024, 33.895, 41.3271, 32.1163, 5.0121, 5.3499, -3.7561, 2.2835, 3.721, -18.0086, 8.6911, 14.3561, 10.5836, 14.6753, 1.3248, 2.0802, -2.1488, -0.9179, 0.6082, -4.138, 1.9145, 3.6952, -1.845, 2.2839, -0.6787, -0.1455, -0.8248, -1.2135, -0.4782, 1.572, -0.8635, 7.7782, -4.5285, 4.3948, -1.2511, 0.3924, -1.2336, -1.73, -0.8948, 3.8626, -1.5653, 16.5392, 21.1019, 16.4268, 2.269, 3.1099, -1.8619, 1.3509, 1.9111, -8.7064, 3.9791, 1.7035, -17.5467, -0.1442, -3.0108, -1.1437, -1.8359, -3.7658, -1.8369, 10.3085, -3.6259, -9.7797, -27.3853, -12.3849, -4.1981, -2.2626, 0.4689, -3.4646, -2.8503, 13.9464, -5.968, -27.2905, -50.0642, -29.6224, -6.6561, -5.9124, 3.4881, -4.4158, -4.8721, 23.2909, -10.2647, 14.931, 17.4376, 17.6316, 2.3923, 2.9408, -2.9662, -0.3677, 0.8764, -6.5276, 3.2641, -1.0399, -5.8593, -2.0052, -0.7526, -0.3322, -0.212, -0.7179, -0.2705, 2.7408, -1.2884, -6.3315, -24.3515, -7.0627, -3.2167, -1.5366, -0.8052, -3.9857, -3.1616, 12.5278, -5.5277, 7.027, 5.0417, 6.7182, 0.4995, 1.2867, -1.2599, -0.7212, 0.3703, -2.0343, 0.5239, 19.0563, 3.8513, 17.1796, -0.3555, 2.2426, -4.1461, -2.5503, -0.2515, 0.7449, 0.2308, 48.5147, -48.213, 20.8932, -21.378, -24.0052, 23.2897, 0.1233, -1.1496, -17.6622, 17.5576, 42.1971, -41.5701, 39.6909, -39.3886, 25.1187, -25.4494, -8.3452, 8.7337, 7.9352, -7.1178, -8.1339, 8.2834])"
      ]
     },
     "execution_count": 77,
     "metadata": {},
     "output_type": "execute_result"
    }
   ],
   "source": [
    "# display the network weights\n",
    "mlp_model = model.stages[2].weights\n",
    "mlp_model"
   ]
  },
  {
   "cell_type": "markdown",
   "metadata": {},
   "source": [
    " "
   ]
  },
  {
   "cell_type": "markdown",
   "metadata": {},
   "source": [
    "The Random Forest Classifier and Multilayer Perceptron Classifier model provided the highest F1 score as well as the highest accuracy. We will therefore be tuning a few parameters of both models and measure them on their accuracy on the validation set."
   ]
  },
  {
   "cell_type": "markdown",
   "metadata": {},
   "source": [
    "#### Tuning Multilayer perceptron classifier"
   ]
  },
  {
   "cell_type": "code",
   "execution_count": 78,
   "metadata": {},
   "outputs": [],
   "source": [
    "# build the parameters grid. In our case we will only adjust the layers to assess impact, and select the best model.\n",
    "mlp_paramGrid = ParamGridBuilder() \\\n",
    "    .addGrid(mlp.layers, [[13, 25, 10, 2], \n",
    "                          [13, 25, 25, 10, 2],\n",
    "                          [13, 25, 25, 25, 10, 2], \n",
    "                          [13, 40, 80, 60, 20, 8, 2]]) \\\n",
    "    .build()"
   ]
  },
  {
   "cell_type": "code",
   "execution_count": 79,
   "metadata": {},
   "outputs": [
    {
     "data": {
      "text/plain": [
       "[0.6613772200740634,\n",
       " 0.6156785603180656,\n",
       " 0.6267489663242353,\n",
       " 0.6417569098462167]"
      ]
     },
     "execution_count": 79,
     "metadata": {},
     "output_type": "execute_result"
    }
   ],
   "source": [
    "# create the cross validator\n",
    "mlp_crossval = CrossValidator(estimator=mlp_pipeline,\n",
    "                          estimatorParamMaps=mlp_paramGrid,\n",
    "                          evaluator=MulticlassClassificationEvaluator(labelCol=\"churn\", predictionCol=\"prediction\", metricName=\"f1\"),\n",
    "                          numFolds=3)\n",
    "\n",
    "# run the models\n",
    "mlp_cvModel = mlp_crossval.fit(train)\n",
    "mlp_cvModel.avgMetrics"
   ]
  },
  {
   "cell_type": "code",
   "execution_count": 80,
   "metadata": {},
   "outputs": [
    {
     "data": {
      "text/plain": [
       "0.6613772200740634"
      ]
     },
     "execution_count": 80,
     "metadata": {},
     "output_type": "execute_result"
    }
   ],
   "source": [
    "mlp_tuned_score = max(mlp_cvModel.avgMetrics)\n",
    "mlp_tuned_score"
   ]
  },
  {
   "cell_type": "code",
   "execution_count": 81,
   "metadata": {},
   "outputs": [
    {
     "name": "stdout",
     "output_type": "stream",
     "text": [
      "accuracy:  0.8163265306122449\n"
     ]
    }
   ],
   "source": [
    "# compute predictions using the tuned model\n",
    "preds = mlp_cvModel.transform(test)\n",
    "\n",
    "# compute the accuracy on the test set\n",
    "mlp_tuned_accuracy = accuracy = preds.filter(preds.churn == preds.prediction).count() / preds.count()\n",
    "print(\"accuracy: \", mlp_tuned_accuracy)"
   ]
  },
  {
   "cell_type": "code",
   "execution_count": 82,
   "metadata": {},
   "outputs": [
    {
     "data": {
      "text/plain": [
       "[13, 25, 10, 2]"
      ]
     },
     "execution_count": 82,
     "metadata": {},
     "output_type": "execute_result"
    }
   ],
   "source": [
    "# show details about the best model from the tuning\n",
    "bestPipeline = mlp_cvModel.bestModel\n",
    "bestMLPModel = bestPipeline.stages[2]\n",
    "bestMLPModel.layers"
   ]
  },
  {
   "cell_type": "code",
   "execution_count": 84,
   "metadata": {},
   "outputs": [
    {
     "data": {
      "image/png": "[encoded data removed]",
      "text/plain": [
       "<Figure size 720x432 with 1 Axes>"
      ]
     },
     "metadata": {
      "needs_background": "light"
     },
     "output_type": "display_data"
    }
   ],
   "source": [
    "# display a summary of all the models performance\n",
    "summary = [[rf_score, rf_accuracy], \\\n",
    "           [lr_score, lr_accuracy], \\\n",
    "           [gbt_score, gbt_accuracy], \\\n",
    "           [mlp_score, mlp_accuracy], \\\n",
    "           [mlp_tuned_score, mlp_tuned_accuracy]]\n",
    "\n",
    "summary_df = pd.DataFrame(summary, columns=['score','accuracy'], \\\n",
    "                          index=['random forest', 'logisitic regression', 'gradient boosted trees', 'multilayer perceptron', 'multilayer perceptron (tuned)'])\n",
    "\n",
    "import numpy as np\n",
    "y = np.arange(len(summary_df.index))\n",
    "height = 0.4\n",
    "fig, ax = plt.subplots(figsize=(10,6))\n",
    "plt_score = ax.barh(y - height/2, summary_df.score, height, label='score')\n",
    "plt_accuracy = ax.barh(y + height/2, summary_df.accuracy, height, label='accuracy')\n",
    "ax.set_ylabel('algorithm')\n",
    "ax.set_yticks(y)\n",
    "ax.set_yticklabels(summary_df.index)\n",
    "ax.legend(loc=\"lower left\");"
   ]
  },
  {
   "cell_type": "markdown",
   "metadata": {},
   "source": [
    "The best model after tuning in our case is the Multilayer Perceptron classifier, which got a higher F1 score.\n",
    "We are now evaluating its accuracy on the validation dataset."
   ]
  },
  {
   "cell_type": "code",
   "execution_count": 85,
   "metadata": {},
   "outputs": [
    {
     "name": "stdout",
     "output_type": "stream",
     "text": [
      "accuracy:  0.7735849056603774\n"
     ]
    }
   ],
   "source": [
    "# compute predictions using the tuned model\n",
    "preds = mlp_cvModel.transform(valid)\n",
    "\n",
    "# compute the accuracy on the validation set\n",
    "accuracy = preds.filter(preds.churn == preds.prediction).count() / preds.count()\n",
    "print(\"accuracy: \", accuracy)"
   ]
  },
  {
   "cell_type": "code",
   "execution_count": 86,
   "metadata": {},
   "outputs": [
    {
     "name": "stdout",
     "output_type": "stream",
     "text": [
      "number of non-churn users:  41\n",
      "total number of users:  53\n"
     ]
    }
   ],
   "source": [
    "# check number of churn vs. non-churn users in the validation set\n",
    "print(\"number of non-churn users: \", preds[preds.churn == 0].count())\n",
    "print(\"total number of users: \", preds.count())"
   ]
  },
  {
   "cell_type": "markdown",
   "metadata": {},
   "source": [
    "# Conclusion"
   ]
  },
  {
   "cell_type": "markdown",
   "metadata": {},
   "source": [
    "After running the best model on the validation data, we managed to achieve an accuracy of 79.2%. This results is quite good, based on the small size of our dataset, and the relative small portion of churn users in the dataset. That latter point is also the reason why we optimised the model on the F1 metric, as otherwise a dumb model which would only output zero as a prediction would still be able to get a high accuracy even though it would not generate any real positive, but would generate a lot of false negatives instead. In theory this dumb classifier would get a 77.3% on the validation set : 41 (=non-churn users) / 53 (=total number of users)\n",
    "\n",
    "The successful model is the Multilayer Perceptron classifier. I could not manage to get to a higher accuracy by tuning the model, however we managed to get a result above what we would expect from a dumb classifier.\n",
    "\n",
    "This data analysis would benefit from being run on the full dataset, and this should be a future enhancement for this work. Getting an AWS cluster up and running is not a very complex task, and the whole notebook should be executed there.\n",
    "\n",
    "When I get the time (after this project submission), I will spin up a spark cluster and rerun the whole notebook on the large dataset to see if the volume of data allows either a better training of the models (and therefore higher accuracy) or allows to really identify one of the 2 models which performs better. These results will be posted in this github repository.\n",
    "\n",
    "### Learnings\n",
    "\n",
    "I learnt many things in this project, especially how to use pyspark to handle a large dataset and distribute the data and computations to a cluster of machines.\n",
    "\n",
    "I liked the functional programming approach that is necessary when running distributed computations (to make parallelisation of work easier, and to run calculations on chunks of data).\n",
    "\n",
    "Pyspark provides a number of models and the fact it is built by following a similar logic as sklearn is helpful to get started more easily, however I find the structure of the pyspark documentation less convenient to work with that sklearn. It was not very easy to find the relevant information in the very long pages of the API documentation of spark. However I am likely to use it again since the problems of data science are oftern beyond the capabilities of the memory of a single computer."
   ]
  },
  {
   "cell_type": "markdown",
   "metadata": {},
   "source": [
    "This project gives exposure to spark environment to analyze a large volume of data that a personal laptop may not be capable to analyze. By identifying customer with high chance to churn prior to the acutal losing, companies are able to use minimal cost to save customers by using targeted messages and offers.\n",
    "\n",
    "One of the interesting yet difficult things during the project is brainstroming the features that we can derived from the data we have on hand. Developing useful features is crucial to developing a good model, and requires a lot of energy and efforts. Explanatory and exploratory data analysis play important role in this process."
   ]
  },
  {
   "cell_type": "markdown",
   "metadata": {},
   "source": [
    "### Improvement\n",
    "The features can be improved a lot after considering more factors, adding more domain knowledges and expertise. Although the volume of data may required tools such as spark to analyze, but we can use more data to have better results as the user base grow.\n",
    "\n",
    "Currently, we have about 450 records of unique users, and we only use 60% of them to train. That said, the model has a huge potential to improve if the sample size increase, and the expected performance will also increase."
   ]
  },
  {
   "cell_type": "code",
   "execution_count": null,
   "metadata": {},
   "outputs": [],
   "source": []
  },
  {
   "cell_type": "code",
   "execution_count": null,
   "metadata": {},
   "outputs": [],
   "source": []
  },
  {
   "cell_type": "code",
   "execution_count": null,
   "metadata": {},
   "outputs": [],
   "source": []
  },
  {
   "cell_type": "code",
   "execution_count": null,
   "metadata": {},
   "outputs": [],
   "source": []
  },
  {
   "cell_type": "code",
   "execution_count": null,
   "metadata": {},
   "outputs": [],
   "source": []
  },
  {
   "cell_type": "code",
   "execution_count": null,
   "metadata": {},
   "outputs": [],
   "source": []
  },
  {
   "cell_type": "code",
   "execution_count": null,
   "metadata": {},
   "outputs": [],
   "source": []
  },
  {
   "cell_type": "code",
   "execution_count": null,
   "metadata": {},
   "outputs": [],
   "source": []
  },
  {
   "cell_type": "code",
   "execution_count": null,
   "metadata": {},
   "outputs": [],
   "source": []
  },
  {
   "cell_type": "code",
   "execution_count": null,
   "metadata": {},
   "outputs": [],
   "source": []
  },
  {
   "cell_type": "code",
   "execution_count": null,
   "metadata": {},
   "outputs": [],
   "source": []
  }
 ],
 "metadata": {
  "kernelspec": {
   "display_name": "Python 3",
   "language": "python",
   "name": "python3"
  },
  "language_info": {
   "codemirror_mode": {
    "name": "ipython",
    "version": 3
   },
   "file_extension": ".py",
   "mimetype": "text/x-python",
   "name": "python",
   "nbconvert_exporter": "python",
   "pygments_lexer": "ipython3",
   "version": "3.7.3"
  }
 },
 "nbformat": 4,
 "nbformat_minor": 2
}
